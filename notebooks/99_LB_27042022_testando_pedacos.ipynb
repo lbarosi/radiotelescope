{
 "cells": [
  {
   "cell_type": "markdown",
   "id": "compressed-harris",
   "metadata": {},
   "source": [
    "# Testando funções"
   ]
  },
  {
   "cell_type": "markdown",
   "id": "confidential-tulsa",
   "metadata": {},
   "source": [
    "**Implementados**\n",
    "\n",
    "**Em testes**\n",
    "\n",
    "**Planejados**\n",
    "\n",
    "**Problemas**\n",
    "\n"
   ]
  },
  {
   "cell_type": "code",
   "execution_count": 1,
   "id": "hearing-algebra",
   "metadata": {
    "ExecuteTime": {
     "end_time": "2022-09-06T10:34:08.069456Z",
     "start_time": "2022-09-06T10:34:03.363642Z"
    }
   },
   "outputs": [],
   "source": [
    "# Mostra todos os resultados da célula, não apenas o último\n",
    "from IPython.core.interactiveshell import InteractiveShell\n",
    "from IPython.display import display\n",
    "InteractiveShell.ast_node_interactivity = \"all\"\n",
    "# Truque para consertar caminhos do jupyter: variável __file__ não é definida em IPYTHON.\n",
    "import project_path\n",
    "from datetime import datetime\n",
    "import os\n",
    "import sys\n",
    "import getpass\n",
    "import pandas as pd\n",
    "import numpy as np\n",
    "from importlib import reload\n",
    "\n",
    "from astropy import units as u\n",
    "from pytz import timezone\n",
    "\n",
    "sys.path.append(os.path.abspath(os.path.join(os.path.split(os.getcwd())[0])))\n",
    "sys.path.append(os.path.abspath(os.path.join(os.path.split(os.getcwd())[0], \"radiotelescope\")))"
   ]
  },
  {
   "cell_type": "code",
   "execution_count": 2,
   "id": "coordinated-civilization",
   "metadata": {
    "ExecuteTime": {
     "end_time": "2022-09-06T10:34:16.234667Z",
     "start_time": "2022-09-06T10:34:08.072878Z"
    }
   },
   "outputs": [],
   "source": [
    "import radiotelescope\n",
    "import radiotelescope.netutils as netutils"
   ]
  },
  {
   "cell_type": "code",
   "execution_count": 3,
   "id": "fitted-magnitude",
   "metadata": {
    "ExecuteTime": {
     "end_time": "2022-09-06T10:34:16.263834Z",
     "start_time": "2022-09-06T10:34:16.238242Z"
    }
   },
   "outputs": [
    {
     "data": {
      "text/plain": [
       "['CallistoSpectrometerBackend',\n",
       " 'GNURadioBackend',\n",
       " 'Instrument',\n",
       " 'LinuxBox',\n",
       " 'RTLSDRpowerBackend',\n",
       " '__builtins__',\n",
       " '__cached__',\n",
       " '__doc__',\n",
       " '__file__',\n",
       " '__loader__',\n",
       " '__name__',\n",
       " '__package__',\n",
       " '__path__',\n",
       " '__spec__',\n",
       " 'backend',\n",
       " 'misc',\n",
       " 'multiprocess',\n",
       " 'netutils',\n",
       " 'utils']"
      ]
     },
     "execution_count": 3,
     "metadata": {},
     "output_type": "execute_result"
    }
   ],
   "source": [
    "dir(radiotelescope)"
   ]
  },
  {
   "cell_type": "code",
   "execution_count": 4,
   "id": "d7c534e8",
   "metadata": {
    "ExecuteTime": {
     "end_time": "2022-09-06T10:34:16.345408Z",
     "start_time": "2022-09-06T10:34:16.266815Z"
    }
   },
   "outputs": [
    {
     "data": {
      "text/plain": [
       "<module 'radiotelescope' from '/home/lbarosi/BAROSI/HOME/6000_PYTHONIA/2_Doing/radiotelescope/radiotelescope/__init__.py'>"
      ]
     },
     "execution_count": 4,
     "metadata": {},
     "output_type": "execute_result"
    }
   ],
   "source": [
    "reload(radiotelescope)"
   ]
  },
  {
   "cell_type": "markdown",
   "id": "8a35e884",
   "metadata": {},
   "source": [
    "### Netutils"
   ]
  },
  {
   "cell_type": "code",
   "execution_count": 5,
   "id": "c6e6d9db",
   "metadata": {
    "ExecuteTime": {
     "end_time": "2022-09-06T10:34:17.240366Z",
     "start_time": "2022-09-06T10:34:16.348093Z"
    }
   },
   "outputs": [
    {
     "data": {
      "text/plain": [
       "'192.168.15.49'"
      ]
     },
     "execution_count": 5,
     "metadata": {},
     "output_type": "execute_result"
    },
    {
     "data": {
      "text/plain": [
       "'d8:77:8b:fe:35:20'"
      ]
     },
     "execution_count": 5,
     "metadata": {},
     "output_type": "execute_result"
    },
    {
     "data": {
      "text/plain": [
       "'Linux'"
      ]
     },
     "execution_count": 5,
     "metadata": {},
     "output_type": "execute_result"
    },
    {
     "data": {
      "text/plain": [
       "'255.255.255.0'"
      ]
     },
     "execution_count": 5,
     "metadata": {},
     "output_type": "execute_result"
    },
    {
     "data": {
      "text/plain": [
       "'192.168.15.49/24'"
      ]
     },
     "execution_count": 5,
     "metadata": {},
     "output_type": "execute_result"
    }
   ],
   "source": [
    "IP = netutils.get_ip(interface=\"WAN\")\n",
    "IP\n",
    "netutils.get_MAC()\n",
    "netutils.get_OS()\n",
    "netutils.get_netmask(IP = IP)\n",
    "netutils.get_subnet(IP = IP)"
   ]
  },
  {
   "cell_type": "code",
   "execution_count": 6,
   "id": "475b8d80",
   "metadata": {
    "ExecuteTime": {
     "end_time": "2022-09-06T10:34:41.601450Z",
     "start_time": "2022-09-06T10:34:17.242602Z"
    }
   },
   "outputs": [
    {
     "data": {
      "text/html": [
       "<div>\n",
       "<style scoped>\n",
       "    .dataframe tbody tr th:only-of-type {\n",
       "        vertical-align: middle;\n",
       "    }\n",
       "\n",
       "    .dataframe tbody tr th {\n",
       "        vertical-align: top;\n",
       "    }\n",
       "\n",
       "    .dataframe thead th {\n",
       "        text-align: right;\n",
       "    }\n",
       "</style>\n",
       "<table border=\"1\" class=\"dataframe\">\n",
       "  <thead>\n",
       "    <tr style=\"text-align: right;\">\n",
       "      <th></th>\n",
       "      <th>host</th>\n",
       "      <th>addr</th>\n",
       "      <th>addrtype</th>\n",
       "      <th>vendor</th>\n",
       "    </tr>\n",
       "  </thead>\n",
       "  <tbody>\n",
       "    <tr>\n",
       "      <th>4</th>\n",
       "      <td>2</td>\n",
       "      <td>192.168.15.81</td>\n",
       "      <td>ipv4</td>\n",
       "      <td>NaN</td>\n",
       "    </tr>\n",
       "    <tr>\n",
       "      <th>5</th>\n",
       "      <td>2</td>\n",
       "      <td>B8:27:EB:E8:A8:D4</td>\n",
       "      <td>mac</td>\n",
       "      <td>Raspberry Pi Foundation</td>\n",
       "    </tr>\n",
       "  </tbody>\n",
       "</table>\n",
       "</div>"
      ],
      "text/plain": [
       "   host               addr addrtype                   vendor\n",
       "4     2      192.168.15.81     ipv4                      NaN\n",
       "5     2  B8:27:EB:E8:A8:D4      mac  Raspberry Pi Foundation"
      ]
     },
     "execution_count": 6,
     "metadata": {},
     "output_type": "execute_result"
    },
    {
     "name": "stdout",
     "output_type": "stream",
     "text": [
      "Encontrados 1 dispositivos raspberry.\n",
      "Rasberry 2 \n",
      "\n",
      "Endereço IP: 192.168.15.81\n",
      "Endereço MAC: B8:27:EB:E8:A8:D4\n"
     ]
    },
    {
     "data": {
      "text/plain": [
       "array(['192.168.15.81'], dtype=object)"
      ]
     },
     "execution_count": 6,
     "metadata": {},
     "output_type": "execute_result"
    },
    {
     "data": {
      "text/plain": [
       "'B8:27:EB:E8:A8:D4'"
      ]
     },
     "execution_count": 6,
     "metadata": {},
     "output_type": "execute_result"
    }
   ],
   "source": [
    "df = netutils.get_raspberry(IP=IP)\n",
    "df\n",
    "rasp = netutils.report_raspberry(df)\n",
    "rasp\n",
    "netutils.get_remote_MAC(IP=rasp[0])"
   ]
  },
  {
   "cell_type": "markdown",
   "id": "b8effe7f",
   "metadata": {},
   "source": [
    "### Controller"
   ]
  },
  {
   "cell_type": "code",
   "execution_count": 19,
   "id": "90773c9b",
   "metadata": {
    "ExecuteTime": {
     "end_time": "2022-09-06T10:51:21.424692Z",
     "start_time": "2022-09-06T10:51:20.726593Z"
    }
   },
   "outputs": [
    {
     "name": "stdout",
     "output_type": "stream",
     "text": [
      "Verificando dados da máquina local:\n",
      "É preciso especificar interface ou IP.\n",
      "IP: None\n",
      "MAC: d8:77:8b:fe:35:20\n",
      "OS: Linux\n",
      "Comando executado com sucesso.\n",
      "INPUT: ls -la | OUTPUT: total 64\n",
      "\n",
      "INPUT: ls -la | OUTPUT: drwxr-xr-x 8 bingo bingo 4096 Sep  6 07:43 .\n",
      "\n",
      "INPUT: ls -la | OUTPUT: drwxr-xr-x 5 root  root  4096 May  6 16:19 ..\n",
      "\n",
      "INPUT: ls -la | OUTPUT: drwxr-xr-x 3 bingo bingo 4096 May  7 20:25 .astropy\n",
      "\n",
      "INPUT: ls -la | OUTPUT: -rw------- 1 bingo bingo 4523 May  8 15:10 .bash_history\n",
      "\n",
      "INPUT: ls -la | OUTPUT: -rw-r--r-- 1 bingo bingo  220 May  6 15:33 .bash_logout\n",
      "\n",
      "INPUT: ls -la | OUTPUT: -rw-r--r-- 1 bingo bingo 3523 May  6 15:33 .bashrc\n",
      "\n",
      "INPUT: ls -la | OUTPUT: drwx------ 3 bingo bingo 4096 Sep  6 07:41 .config\n",
      "\n",
      "INPUT: ls -la | OUTPUT: -rw-r--r-- 1 bingo bingo  462 May  8 22:47 .gr_fftw_wisdom\n",
      "\n",
      "INPUT: ls -la | OUTPUT: -rw-r--r-- 1 bingo bingo    0 May  8 14:53 .gr_fftw_wisdom.lock\n",
      "\n",
      "INPUT: ls -la | OUTPUT: drwxr-xr-x 3 bingo bingo 4096 May  7 19:24 .local\n",
      "\n",
      "INPUT: ls -la | OUTPUT: -rw-r--r-- 1 bingo bingo 1670 May  6 15:33 .mkshrc\n",
      "\n",
      "INPUT: ls -la | OUTPUT: -rw-r--r-- 1 bingo bingo  807 May  6 15:33 .profile\n",
      "\n",
      "INPUT: ls -la | OUTPUT: -rw------- 1 bingo bingo  834 May  8 14:53 .python_history\n",
      "\n",
      "INPUT: ls -la | OUTPUT: drwxr-xr-x 2 bingo bingo 4096 Aug 31 17:02 SDR\n",
      "\n",
      "INPUT: ls -la | OUTPUT: drwx------ 2 bingo bingo 4096 May 14 07:01 .ssh\n",
      "\n",
      "INPUT: ls -la | OUTPUT: drwxr-xr-x 2 bingo bingo 4096 Sep  6 07:44 teste\n",
      "\n"
     ]
    },
    {
     "data": {
      "text/plain": [
       "['total 64\\n',\n",
       " 'drwxr-xr-x 8 bingo bingo 4096 Sep  6 07:43 .\\n',\n",
       " 'drwxr-xr-x 5 root  root  4096 May  6 16:19 ..\\n',\n",
       " 'drwxr-xr-x 3 bingo bingo 4096 May  7 20:25 .astropy\\n',\n",
       " '-rw------- 1 bingo bingo 4523 May  8 15:10 .bash_history\\n',\n",
       " '-rw-r--r-- 1 bingo bingo  220 May  6 15:33 .bash_logout\\n',\n",
       " '-rw-r--r-- 1 bingo bingo 3523 May  6 15:33 .bashrc\\n',\n",
       " 'drwx------ 3 bingo bingo 4096 Sep  6 07:41 .config\\n',\n",
       " '-rw-r--r-- 1 bingo bingo  462 May  8 22:47 .gr_fftw_wisdom\\n',\n",
       " '-rw-r--r-- 1 bingo bingo    0 May  8 14:53 .gr_fftw_wisdom.lock\\n',\n",
       " 'drwxr-xr-x 3 bingo bingo 4096 May  7 19:24 .local\\n',\n",
       " '-rw-r--r-- 1 bingo bingo 1670 May  6 15:33 .mkshrc\\n',\n",
       " '-rw-r--r-- 1 bingo bingo  807 May  6 15:33 .profile\\n',\n",
       " '-rw------- 1 bingo bingo  834 May  8 14:53 .python_history\\n',\n",
       " 'drwxr-xr-x 2 bingo bingo 4096 Aug 31 17:02 SDR\\n',\n",
       " 'drwx------ 2 bingo bingo 4096 May 14 07:01 .ssh\\n',\n",
       " 'drwxr-xr-x 2 bingo bingo 4096 Sep  6 07:44 teste\\n']"
      ]
     },
     "execution_count": 19,
     "metadata": {},
     "output_type": "execute_result"
    }
   ],
   "source": [
    "local_01 = radiotelescope.LinuxBox(\n",
    "                    name=\"pergamon\", \n",
    "                    user=\"bingo\", \n",
    "                    remote_port=22, \n",
    "                    remote_IP = \"192.168.15.81\", \n",
    "                    local_folder = \"./teste/\",\n",
    "                    remote_folder = \"~/SDR/\"\n",
    "                    ).get_info().connect()\n",
    "local_01.remote.run(command=\"ls -la\")\n",
    "#local_01.scan_LAN()\n",
    "#local_01.sinc_files();"
   ]
  },
  {
   "cell_type": "markdown",
   "id": "d2359333",
   "metadata": {},
   "source": [
    "## Instrument"
   ]
  },
  {
   "cell_type": "code",
   "execution_count": 8,
   "id": "001f1423",
   "metadata": {
    "ExecuteTime": {
     "end_time": "2022-09-06T10:34:53.990554Z",
     "start_time": "2022-09-06T10:34:53.800251Z"
    }
   },
   "outputs": [],
   "source": [
    "import pytz as tz\n",
    "lat= -7.211637 * u.deg;\n",
    "lon= -35.908138 * u.deg;\n",
    "elev= 553 * u.m\n",
    "Alt= 84\n",
    "Az=0\n",
    "fwhm = 15\n",
    "timezone = tz.timezone(\"America/Recife\")\n",
    "minihorn = radiotelescope.Instrument(name='Uirapuru', lon=lon, lat=lat, elev=elev, timezone=timezone, \n",
    "                      verbose=True, Alt=Alt, Az=Az, fwhm = fwhm)"
   ]
  },
  {
   "cell_type": "markdown",
   "id": "c2ea55b7",
   "metadata": {},
   "source": [
    "## Backend"
   ]
  },
  {
   "cell_type": "markdown",
   "id": "fe21c233",
   "metadata": {},
   "source": [
    "### RTLSDR"
   ]
  },
  {
   "cell_type": "code",
   "execution_count": 10,
   "id": "failing-monaco",
   "metadata": {
    "ExecuteTime": {
     "end_time": "2022-09-06T10:35:26.466177Z",
     "start_time": "2022-09-06T10:35:26.461382Z"
    }
   },
   "outputs": [],
   "source": [
    "modes = {\"SKY\":\"01\", \"COLD\":\"02\"}\n",
    "SDR_01 = radiotelescope.RTLSDRpowerBackend(controller=local_01, instrument=minihorn, modes = modes, name=\"SDR_01\");"
   ]
  },
  {
   "cell_type": "code",
   "execution_count": 23,
   "id": "healthy-intent",
   "metadata": {
    "ExecuteTime": {
     "end_time": "2022-09-06T10:53:42.968110Z",
     "start_time": "2022-09-06T10:53:42.941931Z"
    }
   },
   "outputs": [
    {
     "data": {
      "text/plain": [
       "<radiotelescope.backend.rtlsdrbackend.RTLSDRpowerBackend at 0x7f8f50ee4b50>"
      ]
     },
     "execution_count": 23,
     "metadata": {},
     "output_type": "execute_result"
    },
    {
     "data": {
      "text/html": [
       "<div>\n",
       "<style scoped>\n",
       "    .dataframe tbody tr th:only-of-type {\n",
       "        vertical-align: middle;\n",
       "    }\n",
       "\n",
       "    .dataframe tbody tr th {\n",
       "        vertical-align: top;\n",
       "    }\n",
       "\n",
       "    .dataframe thead th {\n",
       "        text-align: right;\n",
       "    }\n",
       "</style>\n",
       "<table border=\"1\" class=\"dataframe\">\n",
       "  <thead>\n",
       "    <tr style=\"text-align: right;\">\n",
       "      <th></th>\n",
       "      <th>files</th>\n",
       "      <th>mode</th>\n",
       "    </tr>\n",
       "    <tr>\n",
       "      <th>timestamps</th>\n",
       "      <th></th>\n",
       "      <th></th>\n",
       "    </tr>\n",
       "  </thead>\n",
       "  <tbody>\n",
       "  </tbody>\n",
       "</table>\n",
       "</div>"
      ],
      "text/plain": [
       "Empty DataFrame\n",
       "Columns: [files, mode]\n",
       "Index: []"
      ]
     },
     "execution_count": 23,
     "metadata": {},
     "output_type": "execute_result"
    }
   ],
   "source": [
    "SDR_01._get_filenames(path=\"SDR\")\n",
    "SDR_01.filenames"
   ]
  },
  {
   "cell_type": "code",
   "execution_count": 18,
   "id": "surprising-funds",
   "metadata": {
    "ExecuteTime": {
     "end_time": "2022-09-06T10:43:34.903086Z",
     "start_time": "2022-09-06T10:43:34.876504Z"
    }
   },
   "outputs": [
    {
     "name": "stdout",
     "output_type": "stream",
     "text": [
      "rtl_power -f 800M:1200M:1M -g50 -i 1s -e 1m ./teste/SDR_01_20220906_074334_01.csv\n"
     ]
    }
   ],
   "source": [
    "observe_dict = {\"duration\":\"1m\", \n",
    "                \"band\":[\"800M\", \"1200M\"], \n",
    "                \"bandwidth\":\"1M\", \n",
    "                \"gain\":\"50\", \n",
    "                \"integration\":\"1s\",\n",
    "                \"mode\":\"01\"}\n",
    "SDR_01.observe_mp(**observe_dict)"
   ]
  },
  {
   "cell_type": "code",
   "execution_count": null,
   "id": "successful-sixth",
   "metadata": {},
   "outputs": [],
   "source": []
  },
  {
   "cell_type": "code",
   "execution_count": null,
   "id": "professional-present",
   "metadata": {},
   "outputs": [],
   "source": []
  },
  {
   "cell_type": "code",
   "execution_count": 18,
   "id": "0e59a150",
   "metadata": {
    "ExecuteTime": {
     "end_time": "2022-08-31T18:33:06.913407Z",
     "start_time": "2022-08-31T18:33:06.831743Z"
    }
   },
   "outputs": [
    {
     "data": {
      "text/plain": [
       "<radiotelescope.backend.rtlsdrbackend.RTLSDRpowerBackend at 0x7f70b54f4df0>"
      ]
     },
     "execution_count": 18,
     "metadata": {},
     "output_type": "execute_result"
    },
    {
     "data": {
      "text/html": [
       "<div>\n",
       "<style scoped>\n",
       "    .dataframe tbody tr th:only-of-type {\n",
       "        vertical-align: middle;\n",
       "    }\n",
       "\n",
       "    .dataframe tbody tr th {\n",
       "        vertical-align: top;\n",
       "    }\n",
       "\n",
       "    .dataframe thead th {\n",
       "        text-align: right;\n",
       "    }\n",
       "</style>\n",
       "<table border=\"1\" class=\"dataframe\">\n",
       "  <thead>\n",
       "    <tr style=\"text-align: right;\">\n",
       "      <th></th>\n",
       "      <th>files</th>\n",
       "      <th>mode</th>\n",
       "    </tr>\n",
       "    <tr>\n",
       "      <th>timestamps</th>\n",
       "      <th></th>\n",
       "      <th></th>\n",
       "    </tr>\n",
       "  </thead>\n",
       "  <tbody>\n",
       "  </tbody>\n",
       "</table>\n",
       "</div>"
      ],
      "text/plain": [
       "Empty DataFrame\n",
       "Columns: [files, mode]\n",
       "Index: []"
      ]
     },
     "execution_count": 18,
     "metadata": {},
     "output_type": "execute_result"
    },
    {
     "name": "stdout",
     "output_type": "stream",
     "text": [
      "Função cv2df chamada sem argumentos.\n"
     ]
    },
    {
     "ename": "IndexError",
     "evalue": "list index out of range",
     "output_type": "error",
     "traceback": [
      "\u001b[0;31m---------------------------------------------------------------------------\u001b[0m",
      "\u001b[0;31mIndexError\u001b[0m                                Traceback (most recent call last)",
      "Input \u001b[0;32mIn [18]\u001b[0m, in \u001b[0;36m<cell line: 6>\u001b[0;34m()\u001b[0m\n\u001b[1;32m      4\u001b[0m SDR_01\u001b[38;5;241m.\u001b[39mfilenames\n\u001b[1;32m      5\u001b[0m df \u001b[38;5;241m=\u001b[39m SDR_01\u001b[38;5;241m.\u001b[39mload_measurement()\n\u001b[0;32m----> 6\u001b[0m SDR_01\u001b[38;5;241m.\u001b[39mcsv2fit(filename\u001b[38;5;241m=\u001b[39m\u001b[43mSDR_01\u001b[49m\u001b[38;5;241;43m.\u001b[39;49m\u001b[43mfilenames\u001b[49m\u001b[38;5;241;43m.\u001b[39;49m\u001b[43mfiles\u001b[49m\u001b[38;5;241;43m.\u001b[39;49m\u001b[43mto_list\u001b[49m\u001b[43m(\u001b[49m\u001b[43m)\u001b[49m\u001b[43m[\u001b[49m\u001b[38;5;241;43m2\u001b[39;49m\u001b[43m]\u001b[49m, overwrite\u001b[38;5;241m=\u001b[39m\u001b[38;5;28;01mTrue\u001b[39;00m)\n\u001b[1;32m      7\u001b[0m SDR_01\u001b[38;5;241m.\u001b[39m_get_filenames();\n\u001b[1;32m      8\u001b[0m SDR_01\u001b[38;5;241m.\u001b[39mload_measurement(extension\u001b[38;5;241m=\u001b[39m\u001b[38;5;124m\"\u001b[39m\u001b[38;5;124mfit\u001b[39m\u001b[38;5;124m\"\u001b[39m)\n",
      "\u001b[0;31mIndexError\u001b[0m: list index out of range"
     ]
    }
   ],
   "source": [
    "modes = {\"SKY\":\"01\", \"COLD\":\"02\"}\n",
    "SDR_01 = radiotelescope.RTLSDRpowerBackend(controller=local_01, instrument=minihorn, modes = modes, name=\"SDR_01\");\n",
    "SDR_01._get_filenames();\n",
    "SDR_01.filenames\n",
    "df = SDR_01.load_measurement()\n",
    "SDR_01.csv2fit(filename=SDR_01.filenames.files.to_list()[2], overwrite=True)\n",
    "SDR_01._get_filenames();\n",
    "SDR_01.load_measurement(extension=\"fit\")\n",
    "observe_dict = {\"duration\":\"1m\", \n",
    "                \"band\":[\"800M\", \"1200M\"], \n",
    "                \"bandwidth\":\"1M\", \n",
    "                \"gain\":\"50\", \n",
    "                \"integration\":\"1s\",\n",
    "                \"mode\":\"01\"}\n",
    "SDR_01.observe_mp(**observe_dict)\n",
    "#SDR_01.observe(**observe_dict)\n",
    "SDR_01.save_measurement()"
   ]
  },
  {
   "cell_type": "markdown",
   "id": "25a60f88",
   "metadata": {
    "ExecuteTime": {
     "end_time": "2022-04-11T13:20:39.372509Z",
     "start_time": "2022-04-11T13:20:39.368839Z"
    }
   },
   "source": [
    "### Callisto"
   ]
  },
  {
   "cell_type": "code",
   "execution_count": null,
   "id": "dd7942f5",
   "metadata": {
    "ExecuteTime": {
     "end_time": "2022-04-11T13:21:59.675956Z",
     "start_time": "2022-04-11T13:20:40.287716Z"
    }
   },
   "outputs": [],
   "source": [
    "meas_mode = [\"overview\", \"fit\"]\n",
    "mode = { \"SKY\":\"59\", \"COLD\":\"01\", \"WARM\":\"02\" \"HOT\":\"03\"}\n",
    "observe_dict = { \"duration\": \"30m\", mode = \"SKY\", \"measurement\" = \"overview\"}"
   ]
  },
  {
   "cell_type": "markdown",
   "id": "e690baae",
   "metadata": {
    "ExecuteTime": {
     "end_time": "2022-04-11T13:21:59.700358Z",
     "start_time": "2022-04-11T13:21:59.678664Z"
    }
   },
   "source": [
    "### GNURadio"
   ]
  },
  {
   "cell_type": "code",
   "execution_count": 35,
   "id": "e49b1afe",
   "metadata": {
    "ExecuteTime": {
     "end_time": "2022-04-24T19:32:45.533889Z",
     "start_time": "2022-04-24T19:32:42.310460Z"
    }
   },
   "outputs": [],
   "source": [
    "import numpy\n",
    "import matplotlib.pyplot as plt"
   ]
  },
  {
   "cell_type": "code",
   "execution_count": 36,
   "id": "convenient-english",
   "metadata": {
    "ExecuteTime": {
     "end_time": "2022-04-24T19:32:46.248012Z",
     "start_time": "2022-04-24T19:32:46.235420Z"
    }
   },
   "outputs": [],
   "source": [
    "ff = numpy.fromfile(open(\"../radiotelescope/GNURadio/dummy.out\"), dtype=numpy.float32)"
   ]
  },
  {
   "cell_type": "code",
   "execution_count": 39,
   "id": "helpful-montreal",
   "metadata": {
    "ExecuteTime": {
     "end_time": "2022-04-24T19:33:42.234949Z",
     "start_time": "2022-04-24T19:33:41.759492Z"
    }
   },
   "outputs": [
    {
     "data": {
      "image/png": "[encoded data removed]",
      "text/plain": [
       "<Figure size 1152x432 with 1 Axes>"
      ]
     },
     "metadata": {
      "needs_background": "light"
     },
     "output_type": "display_data"
    }
   ],
   "source": [
    "fig, ax = plt.subplots(figsize=(16,6))\n",
    "ax.imshow(ff.reshape((-1, 4096)))\n",
    "plt.show();"
   ]
  },
  {
   "cell_type": "code",
   "execution_count": 41,
   "id": "round-pioneer",
   "metadata": {
    "ExecuteTime": {
     "end_time": "2022-04-24T19:42:36.327381Z",
     "start_time": "2022-04-24T19:42:36.318433Z"
    }
   },
   "outputs": [],
   "source": [
    "freq_center = 1040e6\n",
    "sample_rate = 2.048e6\n",
    "vector_length = 4096\n",
    "freq_min = freq_center - sample_rate/2\n",
    "freq_max = freq_center - sample_rate/2\n",
    "freqs = np.linspace(freq_min, freq_max, vector_length)"
   ]
  },
  {
   "cell_type": "code",
   "execution_count": 9,
   "id": "owned-alfred",
   "metadata": {
    "ExecuteTime": {
     "end_time": "2022-04-25T14:20:32.788082Z",
     "start_time": "2022-04-25T14:20:32.782579Z"
    }
   },
   "outputs": [],
   "source": [
    "\n",
    "teste = np.empty((2,3))"
   ]
  },
  {
   "cell_type": "code",
   "execution_count": 10,
   "id": "further-sympathy",
   "metadata": {
    "ExecuteTime": {
     "end_time": "2022-04-25T14:20:33.398568Z",
     "start_time": "2022-04-25T14:20:33.389886Z"
    }
   },
   "outputs": [
    {
     "data": {
      "text/plain": [
       "array([[4.65057087e-310, 0.00000000e+000, 0.00000000e+000],\n",
       "       [0.00000000e+000, 0.00000000e+000, 0.00000000e+000]])"
      ]
     },
     "execution_count": 10,
     "metadata": {},
     "output_type": "execute_result"
    }
   ],
   "source": [
    "teste"
   ]
  },
  {
   "cell_type": "code",
   "execution_count": 11,
   "id": "interesting-peace",
   "metadata": {
    "ExecuteTime": {
     "end_time": "2022-04-25T14:20:39.576072Z",
     "start_time": "2022-04-25T14:20:39.566582Z"
    }
   },
   "outputs": [
    {
     "data": {
      "text/plain": [
       "array([4.65057087e-310, 0.00000000e+000, 0.00000000e+000])"
      ]
     },
     "execution_count": 11,
     "metadata": {},
     "output_type": "execute_result"
    }
   ],
   "source": [
    "teste[0]"
   ]
  },
  {
   "cell_type": "code",
   "execution_count": 12,
   "id": "ideal-diana",
   "metadata": {
    "ExecuteTime": {
     "end_time": "2022-04-25T14:24:28.541253Z",
     "start_time": "2022-04-25T14:24:28.534224Z"
    }
   },
   "outputs": [],
   "source": [
    "START = datetime.now()"
   ]
  },
  {
   "cell_type": "code",
   "execution_count": 13,
   "id": "thermal-break",
   "metadata": {
    "ExecuteTime": {
     "end_time": "2022-04-25T14:24:34.230032Z",
     "start_time": "2022-04-25T14:24:34.223194Z"
    }
   },
   "outputs": [],
   "source": [
    "END = datetime.now()"
   ]
  },
  {
   "cell_type": "code",
   "execution_count": 16,
   "id": "immediate-engagement",
   "metadata": {
    "ExecuteTime": {
     "end_time": "2022-04-25T14:26:01.272363Z",
     "start_time": "2022-04-25T14:26:01.267716Z"
    }
   },
   "outputs": [],
   "source": [
    "decim_rate = 1000"
   ]
  },
  {
   "cell_type": "code",
   "execution_count": 18,
   "id": "binding-operator",
   "metadata": {
    "ExecuteTime": {
     "end_time": "2022-04-25T14:26:08.814325Z",
     "start_time": "2022-04-25T14:26:08.805754Z"
    }
   },
   "outputs": [
    {
     "data": {
      "text/plain": [
       "0.005688878"
      ]
     },
     "execution_count": 18,
     "metadata": {},
     "output_type": "execute_result"
    }
   ],
   "source": [
    "(END - START).total_seconds()/decim_rate"
   ]
  },
  {
   "cell_type": "code",
   "execution_count": 20,
   "id": "intellectual-finder",
   "metadata": {
    "ExecuteTime": {
     "end_time": "2022-04-25T14:31:32.173263Z",
     "start_time": "2022-04-25T14:31:32.162696Z"
    }
   },
   "outputs": [
    {
     "data": {
      "text/plain": [
       "1000"
      ]
     },
     "execution_count": 20,
     "metadata": {},
     "output_type": "execute_result"
    }
   ],
   "source": [
    "np.linspace(0, 100, 1000).size"
   ]
  },
  {
   "cell_type": "code",
   "execution_count": null,
   "id": "level-armstrong",
   "metadata": {},
   "outputs": [],
   "source": []
  }
 ],
 "metadata": {
  "hide_input": false,
  "kernelspec": {
   "display_name": "radiotelescope",
   "language": "python",
   "name": "radiotelescope"
  },
  "language_info": {
   "codemirror_mode": {
    "name": "ipython",
    "version": 3
   },
   "file_extension": ".py",
   "mimetype": "text/x-python",
   "name": "python",
   "nbconvert_exporter": "python",
   "pygments_lexer": "ipython3",
   "version": "3.9.13"
  },
  "latex_envs": {
   "LaTeX_envs_menu_present": true,
   "autoclose": true,
   "autocomplete": false,
   "bibliofile": "biblio.bib",
   "cite_by": "apalike",
   "current_citInitial": 1,
   "eqLabelWithNumbers": true,
   "eqNumInitial": 1,
   "hotkeys": {
    "equation": "Ctrl-E",
    "itemize": "Ctrl-I"
   },
   "labels_anchors": false,
   "latex_user_defs": false,
   "report_style_numbering": true,
   "user_envs_cfg": false
  },
  "toc": {
   "base_numbering": 1,
   "nav_menu": {},
   "number_sections": false,
   "sideBar": true,
   "skip_h1_title": true,
   "title_cell": "Table of Contents",
   "title_sidebar": "Contents",
   "toc_cell": false,
   "toc_position": {},
   "toc_section_display": true,
   "toc_window_display": false
  }
 },
 "nbformat": 4,
 "nbformat_minor": 5
}
