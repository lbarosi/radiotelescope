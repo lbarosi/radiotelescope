{
 "cells": [
  {
   "cell_type": "markdown",
   "id": "compressed-harris",
   "metadata": {},
   "source": [
    "# Testando funções"
   ]
  },
  {
   "cell_type": "code",
   "execution_count": 1,
   "id": "hearing-algebra",
   "metadata": {
    "ExecuteTime": {
     "end_time": "2022-09-06T12:04:37.257717Z",
     "start_time": "2022-09-06T12:04:33.185535Z"
    }
   },
   "outputs": [],
   "source": [
    "# Mostra todos os resultados da célula, não apenas o último\n",
    "from IPython.core.interactiveshell import InteractiveShell\n",
    "from IPython.display import display\n",
    "InteractiveShell.ast_node_interactivity = \"all\"\n",
    "# Truque para consertar caminhos do jupyter: variável __file__ não é definida em IPYTHON.\n",
    "import project_path\n",
    "from datetime import datetime\n",
    "import os\n",
    "import sys\n",
    "import getpass\n",
    "import pandas as pd\n",
    "import numpy as np\n",
    "from importlib import reload\n",
    "\n",
    "from astropy import units as u\n",
    "from pytz import timezone\n",
    "\n",
    "sys.path.append(os.path.abspath(os.path.join(os.path.split(os.getcwd())[0])))\n",
    "sys.path.append(os.path.abspath(os.path.join(os.path.split(os.getcwd())[0], \"radiotelescope\")))"
   ]
  },
  {
   "cell_type": "code",
   "execution_count": 7,
   "id": "coordinated-civilization",
   "metadata": {
    "ExecuteTime": {
     "end_time": "2022-09-06T12:12:21.296120Z",
     "start_time": "2022-09-06T12:12:21.288008Z"
    }
   },
   "outputs": [],
   "source": [
    "import radiotelescope\n",
    "import radiotelescope.netutils as netutils\n",
    "import radiotelescope.misc.multiprocess as multiprocess\n",
    "import radiotelescope.misc.utils as utils\n",
    "import multiprocessing"
   ]
  },
  {
   "cell_type": "markdown",
   "id": "b8effe7f",
   "metadata": {},
   "source": [
    "### Controller"
   ]
  },
  {
   "cell_type": "code",
   "execution_count": 6,
   "id": "level-armstrong",
   "metadata": {
    "ExecuteTime": {
     "end_time": "2022-09-06T12:07:55.152219Z",
     "start_time": "2022-09-06T12:07:05.083980Z"
    }
   },
   "outputs": [
    {
     "name": "stdout",
     "output_type": "stream",
     "text": [
      "processo 18965 rodando.\n",
      "processo terminado em 50.050152 segundos.\n"
     ]
    }
   ],
   "source": [
    "multiprocess.run_progress(target=netutils.run_command, interval=50, command=\"find ../../\")"
   ]
  },
  {
   "cell_type": "code",
   "execution_count": 8,
   "id": "removed-fairy",
   "metadata": {
    "ExecuteTime": {
     "end_time": "2022-09-06T12:14:48.279470Z",
     "start_time": "2022-09-06T12:14:48.273243Z"
    }
   },
   "outputs": [],
   "source": [
    "target=netutils.run_command\n",
    "interval=50, \n",
    "kwargs = {\"command\":\"find ../../\"}"
   ]
  },
  {
   "cell_type": "code",
   "execution_count": 13,
   "id": "classical-panel",
   "metadata": {
    "ExecuteTime": {
     "end_time": "2022-09-06T12:16:13.993680Z",
     "start_time": "2022-09-06T12:16:13.974815Z"
    }
   },
   "outputs": [],
   "source": [
    "process = multiprocessing.Process(target = target, kwargs = kwargs)\n",
    "process.start()\n",
    "pid = process.pid"
   ]
  },
  {
   "cell_type": "code",
   "execution_count": 14,
   "id": "innocent-video",
   "metadata": {
    "ExecuteTime": {
     "end_time": "2022-09-06T12:16:14.340465Z",
     "start_time": "2022-09-06T12:16:14.331611Z"
    }
   },
   "outputs": [
    {
     "data": {
      "text/plain": [
       "False"
      ]
     },
     "execution_count": 14,
     "metadata": {},
     "output_type": "execute_result"
    }
   ],
   "source": [
    "process.is_alive()"
   ]
  },
  {
   "cell_type": "code",
   "execution_count": null,
   "id": "tired-recipe",
   "metadata": {},
   "outputs": [],
   "source": []
  },
  {
   "cell_type": "code",
   "execution_count": null,
   "id": "deluxe-lecture",
   "metadata": {},
   "outputs": [],
   "source": [
    "process = multiprocessing.Process(target = target, kwargs = kwargs)\n",
    "process.start()\n",
    "pid = process.pid\n",
    "start = perf_counter()\n",
    "while process.is_alive():\n",
    "    time.sleep(interval)\n",
    "    print(\"processo {} rodando.\".format(pid))\n",
    "end = perf_counter()\n",
    "elapsed = end - start\n",
    "print(\"processo terminado em {:2f} segundos.\".format(elapsed))"
   ]
  },
  {
   "cell_type": "code",
   "execution_count": null,
   "id": "cardiovascular-logan",
   "metadata": {},
   "outputs": [],
   "source": []
  },
  {
   "cell_type": "code",
   "execution_count": null,
   "id": "configured-wyoming",
   "metadata": {},
   "outputs": [],
   "source": []
  }
 ],
 "metadata": {
  "hide_input": false,
  "kernelspec": {
   "display_name": "radiotelescope",
   "language": "python",
   "name": "radiotelescope"
  },
  "language_info": {
   "codemirror_mode": {
    "name": "ipython",
    "version": 3
   },
   "file_extension": ".py",
   "mimetype": "text/x-python",
   "name": "python",
   "nbconvert_exporter": "python",
   "pygments_lexer": "ipython3",
   "version": "3.9.12"
  },
  "latex_envs": {
   "LaTeX_envs_menu_present": true,
   "autoclose": true,
   "autocomplete": false,
   "bibliofile": "biblio.bib",
   "cite_by": "apalike",
   "current_citInitial": 1,
   "eqLabelWithNumbers": true,
   "eqNumInitial": 1,
   "hotkeys": {
    "equation": "Ctrl-E",
    "itemize": "Ctrl-I"
   },
   "labels_anchors": false,
   "latex_user_defs": false,
   "report_style_numbering": true,
   "user_envs_cfg": false
  },
  "toc": {
   "base_numbering": 1,
   "nav_menu": {},
   "number_sections": false,
   "sideBar": true,
   "skip_h1_title": true,
   "title_cell": "Table of Contents",
   "title_sidebar": "Contents",
   "toc_cell": false,
   "toc_position": {},
   "toc_section_display": true,
   "toc_window_display": false
  }
 },
 "nbformat": 4,
 "nbformat_minor": 5
}
