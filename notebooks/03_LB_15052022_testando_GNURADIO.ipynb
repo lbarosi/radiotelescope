{
 "cells": [
  {
   "cell_type": "markdown",
   "id": "compressed-harris",
   "metadata": {},
   "source": [
    "# Testando funções"
   ]
  },
  {
   "cell_type": "code",
   "execution_count": 1,
   "id": "hearing-algebra",
   "metadata": {
    "ExecuteTime": {
     "end_time": "2022-09-07T19:01:35.623133Z",
     "start_time": "2022-09-07T19:01:34.992598Z"
    }
   },
   "outputs": [],
   "source": [
    "# Mostra todos os resultados da célula, não apenas o último\n",
    "from IPython.core.interactiveshell import InteractiveShell\n",
    "from IPython.display import display\n",
    "InteractiveShell.ast_node_interactivity = \"all\"\n",
    "# Truque para consertar caminhos do jupyter: variável __file__ não é definida em IPYTHON.\n",
    "import project_path\n",
    "from datetime import datetime\n",
    "import os\n",
    "import sys\n",
    "import getpass\n",
    "import pandas as pd\n",
    "import numpy as np\n",
    "from importlib import reload\n",
    "import time\n",
    "from astropy import units as u\n",
    "from pytz import timezone\n",
    "\n",
    "sys.path.append(os.path.abspath(os.path.join(os.path.split(os.getcwd())[0])))\n",
    "sys.path.append(os.path.abspath(os.path.join(os.path.split(os.getcwd())[0], \"radiotelescope\")))"
   ]
  },
  {
   "cell_type": "code",
   "execution_count": 43,
   "id": "coordinated-civilization",
   "metadata": {
    "ExecuteTime": {
     "end_time": "2022-09-07T19:19:07.380195Z",
     "start_time": "2022-09-07T19:19:07.344334Z"
    }
   },
   "outputs": [
    {
     "data": {
      "text/plain": [
       "<module 'radiotelescope' from '/home/lbarosi/BAROSI/HOME/6000_PYTHONIA/2_Doing/radiotelescope/radiotelescope/__init__.py'>"
      ]
     },
     "execution_count": 43,
     "metadata": {},
     "output_type": "execute_result"
    },
    {
     "data": {
      "text/plain": [
       "<module 'radiotelescope.netutils.netutils' from '/home/lbarosi/BAROSI/HOME/6000_PYTHONIA/2_Doing/radiotelescope/radiotelescope/netutils/netutils.py'>"
      ]
     },
     "execution_count": 43,
     "metadata": {},
     "output_type": "execute_result"
    },
    {
     "data": {
      "text/plain": [
       "<module 'radiotelescope.misc.multiprocess' from '/home/lbarosi/BAROSI/HOME/6000_PYTHONIA/2_Doing/radiotelescope/radiotelescope/misc/multiprocess.py'>"
      ]
     },
     "execution_count": 43,
     "metadata": {},
     "output_type": "execute_result"
    },
    {
     "data": {
      "text/plain": [
       "<module 'radiotelescope.misc.utils' from '/home/lbarosi/BAROSI/HOME/6000_PYTHONIA/2_Doing/radiotelescope/radiotelescope/misc/utils.py'>"
      ]
     },
     "execution_count": 43,
     "metadata": {},
     "output_type": "execute_result"
    }
   ],
   "source": [
    "import radiotelescope\n",
    "import radiotelescope.netutils as netutils\n",
    "import radiotelescope.misc.multiprocess as multiprocess\n",
    "import radiotelescope.misc.utils as utils\n",
    "reload(radiotelescope)\n",
    "reload(netutils)\n",
    "reload(multiprocess)\n",
    "reload(utils)"
   ]
  },
  {
   "cell_type": "markdown",
   "id": "8a35e884",
   "metadata": {},
   "source": [
    "### Netutils - Todas as classes, métodos e funções testadas, documentadas e funcionando."
   ]
  },
  {
   "cell_type": "code",
   "execution_count": 3,
   "id": "certain-division",
   "metadata": {
    "ExecuteTime": {
     "end_time": "2022-09-07T19:01:36.952569Z",
     "start_time": "2022-09-07T19:01:36.934878Z"
    }
   },
   "outputs": [
    {
     "data": {
      "text/plain": [
       "(b'total 64284\\n   76 -rw-rw-r-- 1 lbarosi lbarosi    75914 set  7 15:49 03_LB_15052022_testando_GNURADIO-Copy1.ipynb\\n   40 -rw-rw-r-- 1 lbarosi lbarosi    37474 set  7 15:52 03_LB_15052022_testando_GNURADIO.ipynb\\n  120 -rw-rw-r-- 1 lbarosi lbarosi   119520 set  6 08:44 99_LB_27042022_testando_pedacos.ipynb\\n    8 -rw-rw-r-- 1 lbarosi lbarosi     5893 set  6 09:17 99_testes.ipynb\\n   20 -rw-rw-r-- 1 lbarosi lbarosi    17280 abr 11 09:25 csv.fit\\n    4 -rw-rw-r-- 1 lbarosi lbarosi      152 abr  5 21:29 project_path.py\\n    4 drwxrwxr-x 2 lbarosi lbarosi     4096 ago 31 16:50 __pycache__\\n32004 -rw-rw-r-- 1 lbarosi lbarosi     2880 mai 14 18:40 SDR_01_20220514_184025_59.fit\\n32004 -rw-rw-r-- 1 lbarosi lbarosi 32770880 mai 14 18:41 SDR_01_20220514_184158_59.fit\\n    4 drwxr-xr-x 3 lbarosi workers     4096 ago 31 17:02 teste\\n',\n",
       " b'')"
      ]
     },
     "execution_count": 3,
     "metadata": {},
     "output_type": "execute_result"
    },
    {
     "data": {
      "text/plain": [
       "(b'',\n",
       " \"ls: não foi possível acessar 'carai': Arquivo ou diretório inexistente\\n\")"
      ]
     },
     "execution_count": 3,
     "metadata": {},
     "output_type": "execute_result"
    }
   ],
   "source": [
    "# Rodando comandos locais\n",
    "netutils.run_command(\"ls -ls\")\n",
    "netutils.run_command(\"ls carai\")"
   ]
  },
  {
   "cell_type": "code",
   "execution_count": 4,
   "id": "c6e6d9db",
   "metadata": {
    "ExecuteTime": {
     "end_time": "2022-09-07T19:01:38.002732Z",
     "start_time": "2022-09-07T19:01:37.954759Z"
    }
   },
   "outputs": [
    {
     "data": {
      "text/html": [
       "<div>\n",
       "<style scoped>\n",
       "    .dataframe tbody tr th:only-of-type {\n",
       "        vertical-align: middle;\n",
       "    }\n",
       "\n",
       "    .dataframe tbody tr th {\n",
       "        vertical-align: top;\n",
       "    }\n",
       "\n",
       "    .dataframe thead th {\n",
       "        text-align: right;\n",
       "    }\n",
       "</style>\n",
       "<table border=\"1\" class=\"dataframe\">\n",
       "  <thead>\n",
       "    <tr style=\"text-align: right;\">\n",
       "      <th></th>\n",
       "      <th>interfaces</th>\n",
       "      <th>IP</th>\n",
       "      <th>type</th>\n",
       "      <th>private</th>\n",
       "    </tr>\n",
       "  </thead>\n",
       "  <tbody>\n",
       "    <tr>\n",
       "      <th>2</th>\n",
       "      <td>wlxd8778bfe3520</td>\n",
       "      <td>192.168.15.49</td>\n",
       "      <td>WAN</td>\n",
       "      <td>True</td>\n",
       "    </tr>\n",
       "  </tbody>\n",
       "</table>\n",
       "</div>"
      ],
      "text/plain": [
       "        interfaces             IP type  private\n",
       "2  wlxd8778bfe3520  192.168.15.49  WAN     True"
      ]
     },
     "execution_count": 4,
     "metadata": {},
     "output_type": "execute_result"
    },
    {
     "data": {
      "text/plain": [
       "'192.168.15.49'"
      ]
     },
     "execution_count": 4,
     "metadata": {},
     "output_type": "execute_result"
    },
    {
     "data": {
      "text/plain": [
       "'d8:77:8b:fe:35:20'"
      ]
     },
     "execution_count": 4,
     "metadata": {},
     "output_type": "execute_result"
    },
    {
     "data": {
      "text/plain": [
       "'Linux'"
      ]
     },
     "execution_count": 4,
     "metadata": {},
     "output_type": "execute_result"
    },
    {
     "data": {
      "text/plain": [
       "'255.255.255.0'"
      ]
     },
     "execution_count": 4,
     "metadata": {},
     "output_type": "execute_result"
    },
    {
     "data": {
      "text/plain": [
       "'192.168.15.49/24'"
      ]
     },
     "execution_count": 4,
     "metadata": {},
     "output_type": "execute_result"
    }
   ],
   "source": [
    "# Informações de rede\n",
    "netutils.get_iface()\n",
    "IP = netutils.get_ip(interface=\"WAN\")\n",
    "IP\n",
    "netutils.get_MAC()\n",
    "netutils.get_OS()\n",
    "netutils.get_netmask(IP = IP)\n",
    "netutils.get_subnet(IP = IP)"
   ]
  },
  {
   "cell_type": "code",
   "execution_count": 5,
   "id": "awful-disclosure",
   "metadata": {
    "ExecuteTime": {
     "end_time": "2022-09-07T19:01:42.668662Z",
     "start_time": "2022-09-07T19:01:42.652860Z"
    }
   },
   "outputs": [
    {
     "data": {
      "text/plain": [
       "'192.168.15.49'"
      ]
     },
     "execution_count": 5,
     "metadata": {},
     "output_type": "execute_result"
    }
   ],
   "source": [
    "netutils.get_ip(interface=\"WAN\")"
   ]
  },
  {
   "cell_type": "code",
   "execution_count": 33,
   "id": "475b8d80",
   "metadata": {
    "ExecuteTime": {
     "end_time": "2022-09-07T19:10:52.124723Z",
     "start_time": "2022-09-07T19:10:47.751081Z"
    }
   },
   "outputs": [
    {
     "data": {
      "text/html": [
       "<div>\n",
       "<style scoped>\n",
       "    .dataframe tbody tr th:only-of-type {\n",
       "        vertical-align: middle;\n",
       "    }\n",
       "\n",
       "    .dataframe tbody tr th {\n",
       "        vertical-align: top;\n",
       "    }\n",
       "\n",
       "    .dataframe thead th {\n",
       "        text-align: right;\n",
       "    }\n",
       "</style>\n",
       "<table border=\"1\" class=\"dataframe\">\n",
       "  <thead>\n",
       "    <tr style=\"text-align: right;\">\n",
       "      <th></th>\n",
       "      <th>host</th>\n",
       "      <th>addr</th>\n",
       "      <th>addrtype</th>\n",
       "      <th>vendor</th>\n",
       "    </tr>\n",
       "  </thead>\n",
       "  <tbody>\n",
       "    <tr>\n",
       "      <th>2</th>\n",
       "      <td>1</td>\n",
       "      <td>192.168.15.81</td>\n",
       "      <td>ipv4</td>\n",
       "      <td>NaN</td>\n",
       "    </tr>\n",
       "    <tr>\n",
       "      <th>3</th>\n",
       "      <td>1</td>\n",
       "      <td>B8:27:EB:E8:A8:D4</td>\n",
       "      <td>mac</td>\n",
       "      <td>Raspberry Pi Foundation</td>\n",
       "    </tr>\n",
       "  </tbody>\n",
       "</table>\n",
       "</div>"
      ],
      "text/plain": [
       "   host               addr addrtype                   vendor\n",
       "2     1      192.168.15.81     ipv4                      NaN\n",
       "3     1  B8:27:EB:E8:A8:D4      mac  Raspberry Pi Foundation"
      ]
     },
     "execution_count": 33,
     "metadata": {},
     "output_type": "execute_result"
    },
    {
     "name": "stdout",
     "output_type": "stream",
     "text": [
      "Encontrados 1 dispositivos raspberry.\n",
      "Rasberry 1 \n",
      "\n",
      "Endereço IP: 192.168.15.81\n",
      "Endereço MAC: B8:27:EB:E8:A8:D4\n"
     ]
    },
    {
     "data": {
      "text/plain": [
       "array(['192.168.15.81'], dtype=object)"
      ]
     },
     "execution_count": 33,
     "metadata": {},
     "output_type": "execute_result"
    },
    {
     "data": {
      "text/plain": [
       "'B8:27:EB:E8:A8:D4'"
      ]
     },
     "execution_count": 33,
     "metadata": {},
     "output_type": "execute_result"
    },
    {
     "name": "stdout",
     "output_type": "stream",
     "text": [
      "Comando executado com sucesso.\n",
      "INPUT: python -c 'import platform; print(platform.system())' | OUTPUT: Linux\n",
      "\n"
     ]
    },
    {
     "data": {
      "text/plain": [
       "'Linux'"
      ]
     },
     "execution_count": 33,
     "metadata": {},
     "output_type": "execute_result"
    }
   ],
   "source": [
    "# COnectando ao raspberry\n",
    "df = netutils.get_raspberry(IP=IP)\n",
    "df\n",
    "rasp = netutils.report_raspberry(df)\n",
    "rasp\n",
    "netutils.get_remote_MAC(IP=rasp[0])\n",
    "netutils.get_remote_OS(IP=rasp[0], user=\"bingo\")"
   ]
  },
  {
   "cell_type": "code",
   "execution_count": 14,
   "id": "knowing-result",
   "metadata": {
    "ExecuteTime": {
     "end_time": "2022-09-07T19:05:34.044572Z",
     "start_time": "2022-09-07T19:05:33.356206Z"
    }
   },
   "outputs": [
    {
     "name": "stdout",
     "output_type": "stream",
     "text": [
      "Comando executado com sucesso.\n",
      "INPUT: ls | OUTPUT: SDR\n",
      "\n",
      "INPUT: ls | OUTPUT: teste\n",
      "\n"
     ]
    },
    {
     "data": {
      "text/plain": [
       "['SDR\\n', 'teste\\n']"
      ]
     },
     "execution_count": 14,
     "metadata": {},
     "output_type": "execute_result"
    }
   ],
   "source": [
    "# Executando comandos no remoto\n",
    "netutils.RemoteClient(host=rasp[0], user=\"bingo\").deploy_local_key().run(\"ls\")"
   ]
  },
  {
   "cell_type": "markdown",
   "id": "connected-corporation",
   "metadata": {},
   "source": [
    "### MISC - Todas as classes, métodos e funções testadas, documentadas e funcionando."
   ]
  },
  {
   "cell_type": "markdown",
   "id": "composed-wichita",
   "metadata": {},
   "source": [
    "#### Multiprocess"
   ]
  },
  {
   "cell_type": "code",
   "execution_count": 15,
   "id": "developmental-strike",
   "metadata": {
    "ExecuteTime": {
     "end_time": "2022-09-07T19:05:51.703456Z",
     "start_time": "2022-09-07T19:05:39.669265Z"
    }
   },
   "outputs": [
    {
     "name": "stdout",
     "output_type": "stream",
     "text": [
      "processo 54102 rodando.\n",
      "processo 54102 rodando.\n",
      "processo 54102 rodando.\n",
      "processo 54102 rodando.\n",
      "processo 54102 rodando.\n",
      "processo 54102 rodando.\n",
      "processo terminado em 12.012717 segundos.\n"
     ]
    }
   ],
   "source": [
    "multiprocess.run_progress(target=netutils.run_command, interval=2, command=\"sleep 10\")"
   ]
  },
  {
   "cell_type": "code",
   "execution_count": 16,
   "id": "piano-reducing",
   "metadata": {
    "ExecuteTime": {
     "end_time": "2022-09-07T19:05:52.840256Z",
     "start_time": "2022-09-07T19:05:52.820833Z"
    }
   },
   "outputs": [
    {
     "name": "stdout",
     "output_type": "stream",
     "text": [
      "processo 54120 rodando.\n",
      "processo 54120 rodando.\n",
      "processo terminado em 20.020386 segundos.\n"
     ]
    }
   ],
   "source": [
    "multiprocess.run_detached(target=netutils.run_command, interval=10, command=\"sleep 20\", monitor=True)"
   ]
  },
  {
   "cell_type": "code",
   "execution_count": 17,
   "id": "unexpected-commitment",
   "metadata": {
    "ExecuteTime": {
     "end_time": "2022-09-07T19:06:05.365782Z",
     "start_time": "2022-09-07T19:06:05.346527Z"
    }
   },
   "outputs": [],
   "source": [
    "multiprocess.run_detached(target=netutils.run_command, command=\"find ../../\", monitor=False)"
   ]
  },
  {
   "cell_type": "code",
   "execution_count": 18,
   "id": "burning-reference",
   "metadata": {
    "ExecuteTime": {
     "end_time": "2022-09-07T19:06:07.653023Z",
     "start_time": "2022-09-07T19:06:07.627901Z"
    }
   },
   "outputs": [
    {
     "data": {
      "text/plain": [
       "54129"
      ]
     },
     "execution_count": 18,
     "metadata": {},
     "output_type": "execute_result"
    }
   ],
   "source": [
    "teste = multiprocess.run_daemon(thread=netutils.run_command, command=\"find ../../\")\n",
    "teste.pid"
   ]
  },
  {
   "cell_type": "markdown",
   "id": "animal-table",
   "metadata": {},
   "source": [
    "#### utils"
   ]
  },
  {
   "cell_type": "code",
   "execution_count": 19,
   "id": "foster-stuff",
   "metadata": {
    "ExecuteTime": {
     "end_time": "2022-09-07T19:06:18.068280Z",
     "start_time": "2022-09-07T19:06:18.043980Z"
    }
   },
   "outputs": [
    {
     "data": {
      "text/plain": [
       "900.0"
      ]
     },
     "execution_count": 19,
     "metadata": {},
     "output_type": "execute_result"
    },
    {
     "data": {
      "text/plain": [
       "4500.0"
      ]
     },
     "execution_count": 19,
     "metadata": {},
     "output_type": "execute_result"
    },
    {
     "data": {
      "text/plain": [
       "15.0"
      ]
     },
     "execution_count": 19,
     "metadata": {},
     "output_type": "execute_result"
    },
    {
     "data": {
      "text/plain": [
       "86400.0"
      ]
     },
     "execution_count": 19,
     "metadata": {},
     "output_type": "execute_result"
    }
   ],
   "source": [
    "from datetime import datetime, timedelta\n",
    "utils.parse_time(\"15m\")\n",
    "utils.parse_time(\"1h15m\")\n",
    "utils.parse_time(15 * u.s)\n",
    "utils.parse_time(timedelta(days = 1))"
   ]
  },
  {
   "cell_type": "code",
   "execution_count": 20,
   "id": "unavailable-sunglasses",
   "metadata": {
    "ExecuteTime": {
     "end_time": "2022-09-07T19:06:19.125233Z",
     "start_time": "2022-09-07T19:06:19.116114Z"
    }
   },
   "outputs": [
    {
     "data": {
      "text/plain": [
       "1.5e-08"
      ]
     },
     "execution_count": 20,
     "metadata": {},
     "output_type": "execute_result"
    }
   ],
   "source": [
    "utils.parse_time(\"15\")"
   ]
  },
  {
   "cell_type": "markdown",
   "id": "b8effe7f",
   "metadata": {},
   "source": [
    "### Controller - Todas as classes, métodos e funções testadas, documentadas e funcionando."
   ]
  },
  {
   "cell_type": "code",
   "execution_count": 44,
   "id": "90773c9b",
   "metadata": {
    "ExecuteTime": {
     "end_time": "2022-09-07T19:19:17.151699Z",
     "start_time": "2022-09-07T19:19:13.656102Z"
    }
   },
   "outputs": [
    {
     "name": "stdout",
     "output_type": "stream",
     "text": [
      "Verificando dados da máquina local:\n",
      "IP: 192.168.15.49\n",
      "MAC: d8:77:8b:fe:35:20\n",
      "OS: Linux\n",
      "Comando executado com sucesso.\n",
      "INPUT: ls -la | OUTPUT: total 64\n",
      "\n",
      "INPUT: ls -la | OUTPUT: drwxr-xr-x 8 bingo bingo 4096 Sep  6 07:43 .\n",
      "\n",
      "INPUT: ls -la | OUTPUT: drwxr-xr-x 5 root  root  4096 May  6 16:19 ..\n",
      "\n",
      "INPUT: ls -la | OUTPUT: drwxr-xr-x 3 bingo bingo 4096 May  7 20:25 .astropy\n",
      "\n",
      "INPUT: ls -la | OUTPUT: -rw------- 1 bingo bingo 4851 Sep  6 08:26 .bash_history\n",
      "\n",
      "INPUT: ls -la | OUTPUT: -rw-r--r-- 1 bingo bingo  220 May  6 15:33 .bash_logout\n",
      "\n",
      "INPUT: ls -la | OUTPUT: -rw-r--r-- 1 bingo bingo 3523 May  6 15:33 .bashrc\n",
      "\n",
      "INPUT: ls -la | OUTPUT: drwx------ 3 bingo bingo 4096 Sep  6 07:41 .config\n",
      "\n",
      "INPUT: ls -la | OUTPUT: -rw-r--r-- 1 bingo bingo  462 May  8 22:47 .gr_fftw_wisdom\n",
      "\n",
      "INPUT: ls -la | OUTPUT: -rw-r--r-- 1 bingo bingo    0 May  8 14:53 .gr_fftw_wisdom.lock\n",
      "\n",
      "INPUT: ls -la | OUTPUT: drwxr-xr-x 3 bingo bingo 4096 May  7 19:24 .local\n",
      "\n",
      "INPUT: ls -la | OUTPUT: -rw-r--r-- 1 bingo bingo 1670 May  6 15:33 .mkshrc\n",
      "\n",
      "INPUT: ls -la | OUTPUT: -rw-r--r-- 1 bingo bingo  807 May  6 15:33 .profile\n",
      "\n",
      "INPUT: ls -la | OUTPUT: -rw------- 1 bingo bingo  834 May  8 14:53 .python_history\n",
      "\n",
      "INPUT: ls -la | OUTPUT: drwxr-xr-x 3 bingo bingo 4096 Sep  7 16:13 SDR\n",
      "\n",
      "INPUT: ls -la | OUTPUT: drwx------ 2 bingo bingo 4096 May 14 07:01 .ssh\n",
      "\n",
      "INPUT: ls -la | OUTPUT: drwxr-xr-x 2 bingo bingo 4096 Sep  6 07:44 teste\n",
      "\n"
     ]
    },
    {
     "data": {
      "text/plain": [
       "['total 64\\n',\n",
       " 'drwxr-xr-x 8 bingo bingo 4096 Sep  6 07:43 .\\n',\n",
       " 'drwxr-xr-x 5 root  root  4096 May  6 16:19 ..\\n',\n",
       " 'drwxr-xr-x 3 bingo bingo 4096 May  7 20:25 .astropy\\n',\n",
       " '-rw------- 1 bingo bingo 4851 Sep  6 08:26 .bash_history\\n',\n",
       " '-rw-r--r-- 1 bingo bingo  220 May  6 15:33 .bash_logout\\n',\n",
       " '-rw-r--r-- 1 bingo bingo 3523 May  6 15:33 .bashrc\\n',\n",
       " 'drwx------ 3 bingo bingo 4096 Sep  6 07:41 .config\\n',\n",
       " '-rw-r--r-- 1 bingo bingo  462 May  8 22:47 .gr_fftw_wisdom\\n',\n",
       " '-rw-r--r-- 1 bingo bingo    0 May  8 14:53 .gr_fftw_wisdom.lock\\n',\n",
       " 'drwxr-xr-x 3 bingo bingo 4096 May  7 19:24 .local\\n',\n",
       " '-rw-r--r-- 1 bingo bingo 1670 May  6 15:33 .mkshrc\\n',\n",
       " '-rw-r--r-- 1 bingo bingo  807 May  6 15:33 .profile\\n',\n",
       " '-rw------- 1 bingo bingo  834 May  8 14:53 .python_history\\n',\n",
       " 'drwxr-xr-x 3 bingo bingo 4096 Sep  7 16:13 SDR\\n',\n",
       " 'drwx------ 2 bingo bingo 4096 May 14 07:01 .ssh\\n',\n",
       " 'drwxr-xr-x 2 bingo bingo 4096 Sep  6 07:44 teste\\n']"
      ]
     },
     "execution_count": 44,
     "metadata": {},
     "output_type": "execute_result"
    },
    {
     "data": {
      "text/html": [
       "<div>\n",
       "<style scoped>\n",
       "    .dataframe tbody tr th:only-of-type {\n",
       "        vertical-align: middle;\n",
       "    }\n",
       "\n",
       "    .dataframe tbody tr th {\n",
       "        vertical-align: top;\n",
       "    }\n",
       "\n",
       "    .dataframe thead th {\n",
       "        text-align: right;\n",
       "    }\n",
       "</style>\n",
       "<table border=\"1\" class=\"dataframe\">\n",
       "  <thead>\n",
       "    <tr style=\"text-align: right;\">\n",
       "      <th></th>\n",
       "      <th>IP</th>\n",
       "      <th>MAC</th>\n",
       "    </tr>\n",
       "  </thead>\n",
       "  <tbody>\n",
       "    <tr>\n",
       "      <th>0</th>\n",
       "      <td>192.168.15.1</td>\n",
       "      <td>D8:C6:78:DA:8D:28</td>\n",
       "    </tr>\n",
       "    <tr>\n",
       "      <th>1</th>\n",
       "      <td>192.168.15.166</td>\n",
       "      <td>D4:F5:47:0D:43:99</td>\n",
       "    </tr>\n",
       "  </tbody>\n",
       "</table>\n",
       "</div>"
      ],
      "text/plain": [
       "               IP                MAC\n",
       "0    192.168.15.1  D8:C6:78:DA:8D:28\n",
       "1  192.168.15.166  D4:F5:47:0D:43:99"
      ]
     },
     "execution_count": 44,
     "metadata": {},
     "output_type": "execute_result"
    }
   ],
   "source": [
    "local_01 = radiotelescope.LinuxBox(\n",
    "                    name=\"pergamon\",\n",
    "                    interface=\"WAN\",\n",
    "                    user=\"bingo\", \n",
    "                    remote_port=22, \n",
    "                    remote_IP = \"192.168.15.81\", \n",
    "                    local_folder = \"./teste/\",\n",
    "                    remote_folder = \"~/SDR/\"\n",
    "                    ).get_info().connect()\n",
    "local_01.remote.run(command=\"ls -la\")\n",
    "local_01.scan_LAN()\n",
    "#local_01.sinc_files();"
   ]
  },
  {
   "cell_type": "code",
   "execution_count": 23,
   "id": "spatial-writing",
   "metadata": {
    "ExecuteTime": {
     "end_time": "2022-09-07T19:06:42.626942Z",
     "start_time": "2022-09-07T19:06:41.816077Z"
    }
   },
   "outputs": [
    {
     "name": "stdout",
     "output_type": "stream",
     "text": [
      "Sincronizando dados: ~/SDR/ -> ./teste/.\n"
     ]
    }
   ],
   "source": [
    "local_01.sync_files()"
   ]
  },
  {
   "cell_type": "code",
   "execution_count": 24,
   "id": "closed-gates",
   "metadata": {
    "ExecuteTime": {
     "end_time": "2022-09-07T19:06:43.752324Z",
     "start_time": "2022-09-07T19:06:43.367334Z"
    }
   },
   "outputs": [
    {
     "name": "stdout",
     "output_type": "stream",
     "text": [
      "Sincronizando dados: ./teste/ -> ~/SDR/.\n"
     ]
    }
   ],
   "source": [
    "local_01.sync_files(origin=\"local\")"
   ]
  },
  {
   "cell_type": "code",
   "execution_count": 25,
   "id": "extended-dominant",
   "metadata": {
    "ExecuteTime": {
     "end_time": "2022-09-07T19:06:47.333164Z",
     "start_time": "2022-09-07T19:06:47.327270Z"
    }
   },
   "outputs": [
    {
     "name": "stdout",
     "output_type": "stream",
     "text": [
      "Você deve escolher `origin` local ou remote.\n"
     ]
    }
   ],
   "source": [
    "local_01.sync_files(origin=\"ba\")"
   ]
  },
  {
   "cell_type": "markdown",
   "id": "d2359333",
   "metadata": {},
   "source": [
    "### Instrument - Todas as classes, métodos e funções testadas, documentadas e funcionando."
   ]
  },
  {
   "cell_type": "code",
   "execution_count": 45,
   "id": "001f1423",
   "metadata": {
    "ExecuteTime": {
     "end_time": "2022-09-07T19:19:17.230909Z",
     "start_time": "2022-09-07T19:19:17.222097Z"
    }
   },
   "outputs": [],
   "source": [
    "import pytz\n",
    "lat= -7.211637 * u.deg;\n",
    "lon= -35.908138 * u.deg;\n",
    "elev= 553 * u.m\n",
    "Alt= 84\n",
    "Az=0\n",
    "fwhm = 15\n",
    "timezone = pytz.timezone(\"America/Recife\")\n",
    "minihorn = radiotelescope.Instrument(name='Uirapuru', lon=lon, lat=lat, elev=elev, timezone=timezone, \n",
    "                      verbose=True, Alt=Alt, Az=Az, fwhm = fwhm)"
   ]
  },
  {
   "cell_type": "markdown",
   "id": "c2ea55b7",
   "metadata": {},
   "source": [
    "## Backend"
   ]
  },
  {
   "cell_type": "markdown",
   "id": "fe21c233",
   "metadata": {},
   "source": [
    "### RTLSDR"
   ]
  },
  {
   "cell_type": "markdown",
   "id": "negative-drive",
   "metadata": {},
   "source": [
    "Preparando Backend:\n",
    "- Inicia Controlador\n",
    "- Inicia Instrument\n",
    "- Define dicionário de modos"
   ]
  },
  {
   "cell_type": "markdown",
   "id": "greenhouse-adrian",
   "metadata": {},
   "source": [
    "#### Inicialização do Backend"
   ]
  },
  {
   "cell_type": "code",
   "execution_count": 46,
   "id": "removed-procedure",
   "metadata": {
    "ExecuteTime": {
     "end_time": "2022-09-07T19:19:20.792685Z",
     "start_time": "2022-09-07T19:19:19.714952Z"
    }
   },
   "outputs": [
    {
     "name": "stdout",
     "output_type": "stream",
     "text": [
      "Verificando dados da máquina local:\n",
      "IP: 192.168.15.49\n",
      "MAC: d8:77:8b:fe:35:20\n",
      "OS: Linux\n"
     ]
    }
   ],
   "source": [
    "# Definindo Controlador local ligado a raspberry remoto.\n",
    "pergamon = radiotelescope.LinuxBox(\n",
    "    name=\"pergamon\", \n",
    "    interface=\"WAN\", \n",
    "    user=\"bingo\", \n",
    "    remote_port=22, \n",
    "    remote_IP = \"192.168.15.81\",\n",
    "    local_folder = \"../data/raw/RTLSDR/\",\n",
    "    remote_folder = \"~/SDR/\"\n",
    ").get_info().connect()\n",
    "# Definindo Instrumento\n",
    "import pytz\n",
    "lat= -7.211637 * u.deg;\n",
    "lon= -35.908138 * u.deg;\n",
    "elev= 553 * u.m\n",
    "Alt= 84\n",
    "Az=0\n",
    "fwhm = 15\n",
    "timezone = pytz.timezone(\"America/Recife\")\n",
    "minihorn = radiotelescope.Instrument(name='Cornetinha', lon=lon, lat=lat, elev=elev, timezone=timezone, \n",
    "                      verbose=True, Alt=Alt, Az=Az, fwhm = fwhm)\n",
    "# Definindo Modos\n",
    "modes = {\"COLD\":\"01\", \"WARM\":\"02\", \"HOT\":\"03\", \"SKY\":\"59\"}"
   ]
  },
  {
   "cell_type": "code",
   "execution_count": 28,
   "id": "crude-projector",
   "metadata": {
    "ExecuteTime": {
     "end_time": "2022-09-07T19:07:29.791849Z",
     "start_time": "2022-09-07T19:07:29.736845Z"
    }
   },
   "outputs": [
    {
     "data": {
      "text/plain": [
       "<radiotelescope.backend.rtlsdrbackend.RTLSDRpowerBackend at 0x7f3c8e6721d0>"
      ]
     },
     "execution_count": 28,
     "metadata": {},
     "output_type": "execute_result"
    },
    {
     "data": {
      "text/html": [
       "<div>\n",
       "<style scoped>\n",
       "    .dataframe tbody tr th:only-of-type {\n",
       "        vertical-align: middle;\n",
       "    }\n",
       "\n",
       "    .dataframe tbody tr th {\n",
       "        vertical-align: top;\n",
       "    }\n",
       "\n",
       "    .dataframe thead th {\n",
       "        text-align: right;\n",
       "    }\n",
       "</style>\n",
       "<table border=\"1\" class=\"dataframe\">\n",
       "  <thead>\n",
       "    <tr style=\"text-align: right;\">\n",
       "      <th></th>\n",
       "      <th>files</th>\n",
       "      <th>mode</th>\n",
       "    </tr>\n",
       "    <tr>\n",
       "      <th>timestamps</th>\n",
       "      <th></th>\n",
       "      <th></th>\n",
       "    </tr>\n",
       "  </thead>\n",
       "  <tbody>\n",
       "    <tr>\n",
       "      <th>2022-05-01 13:50:46+00:00</th>\n",
       "      <td>../data/raw/RTLSDR/SDR_01_20220501_135046_59.csv</td>\n",
       "      <td>59</td>\n",
       "    </tr>\n",
       "    <tr>\n",
       "      <th>2022-05-01 13:51:34+00:00</th>\n",
       "      <td>../data/raw/RTLSDR/SDR_01_20220501_135134_59.csv</td>\n",
       "      <td>59</td>\n",
       "    </tr>\n",
       "    <tr>\n",
       "      <th>2022-05-01 13:52:24+00:00</th>\n",
       "      <td>../data/raw/RTLSDR/SDR_01_20220501_135224_59.csv</td>\n",
       "      <td>59</td>\n",
       "    </tr>\n",
       "    <tr>\n",
       "      <th>2022-05-01 13:58:25+00:00</th>\n",
       "      <td>../data/raw/RTLSDR/SDR_01_20220501_135825_59.csv</td>\n",
       "      <td>59</td>\n",
       "    </tr>\n",
       "    <tr>\n",
       "      <th>2022-05-01 13:58:53+00:00</th>\n",
       "      <td>../data/raw/RTLSDR/SDR_01_20220501_135853_59.fit</td>\n",
       "      <td>59</td>\n",
       "    </tr>\n",
       "    <tr>\n",
       "      <th>2022-05-01 13:58:53+00:00</th>\n",
       "      <td>../data/raw/RTLSDR/SDR_01_20220501_135853_59.csv</td>\n",
       "      <td>59</td>\n",
       "    </tr>\n",
       "    <tr>\n",
       "      <th>2022-05-01 20:21:59+00:00</th>\n",
       "      <td>../data/raw/RTLSDR/SDR_01_20220501_202159_01.csv</td>\n",
       "      <td>01</td>\n",
       "    </tr>\n",
       "    <tr>\n",
       "      <th>2022-08-31 17:00:30+00:00</th>\n",
       "      <td>../data/raw/RTLSDR/SDR_01_20220831_170030_59.csv</td>\n",
       "      <td>59</td>\n",
       "    </tr>\n",
       "    <tr>\n",
       "      <th>2022-08-31 17:01:14+00:00</th>\n",
       "      <td>../data/raw/RTLSDR/SDR_01_20220831_170114_59.csv</td>\n",
       "      <td>59</td>\n",
       "    </tr>\n",
       "    <tr>\n",
       "      <th>2022-08-31 17:01:41+00:00</th>\n",
       "      <td>../data/raw/RTLSDR/SDR_01_20220831_170141_59.csv</td>\n",
       "      <td>59</td>\n",
       "    </tr>\n",
       "    <tr>\n",
       "      <th>2022-08-31 17:02:29+00:00</th>\n",
       "      <td>../data/raw/RTLSDR/SDR_01_20220831_170229_01.csv</td>\n",
       "      <td>01</td>\n",
       "    </tr>\n",
       "  </tbody>\n",
       "</table>\n",
       "</div>"
      ],
      "text/plain": [
       "                                                                      files  \\\n",
       "timestamps                                                                    \n",
       "2022-05-01 13:50:46+00:00  ../data/raw/RTLSDR/SDR_01_20220501_135046_59.csv   \n",
       "2022-05-01 13:51:34+00:00  ../data/raw/RTLSDR/SDR_01_20220501_135134_59.csv   \n",
       "2022-05-01 13:52:24+00:00  ../data/raw/RTLSDR/SDR_01_20220501_135224_59.csv   \n",
       "2022-05-01 13:58:25+00:00  ../data/raw/RTLSDR/SDR_01_20220501_135825_59.csv   \n",
       "2022-05-01 13:58:53+00:00  ../data/raw/RTLSDR/SDR_01_20220501_135853_59.fit   \n",
       "2022-05-01 13:58:53+00:00  ../data/raw/RTLSDR/SDR_01_20220501_135853_59.csv   \n",
       "2022-05-01 20:21:59+00:00  ../data/raw/RTLSDR/SDR_01_20220501_202159_01.csv   \n",
       "2022-08-31 17:00:30+00:00  ../data/raw/RTLSDR/SDR_01_20220831_170030_59.csv   \n",
       "2022-08-31 17:01:14+00:00  ../data/raw/RTLSDR/SDR_01_20220831_170114_59.csv   \n",
       "2022-08-31 17:01:41+00:00  ../data/raw/RTLSDR/SDR_01_20220831_170141_59.csv   \n",
       "2022-08-31 17:02:29+00:00  ../data/raw/RTLSDR/SDR_01_20220831_170229_01.csv   \n",
       "\n",
       "                          mode  \n",
       "timestamps                      \n",
       "2022-05-01 13:50:46+00:00   59  \n",
       "2022-05-01 13:51:34+00:00   59  \n",
       "2022-05-01 13:52:24+00:00   59  \n",
       "2022-05-01 13:58:25+00:00   59  \n",
       "2022-05-01 13:58:53+00:00   59  \n",
       "2022-05-01 13:58:53+00:00   59  \n",
       "2022-05-01 20:21:59+00:00   01  \n",
       "2022-08-31 17:00:30+00:00   59  \n",
       "2022-08-31 17:01:14+00:00   59  \n",
       "2022-08-31 17:01:41+00:00   59  \n",
       "2022-08-31 17:02:29+00:00   01  "
      ]
     },
     "execution_count": 28,
     "metadata": {},
     "output_type": "execute_result"
    }
   ],
   "source": [
    "# Backend RTLSDR com dongle ligado em controlador local.\n",
    "SDR_01 = radiotelescope.RTLSDRpowerBackend(controller=pergamon, instrument=minihorn, modes = modes, name=\"SDR_01\");\n",
    "SDR_01._get_filenames();\n",
    "SDR_01.filenames"
   ]
  },
  {
   "cell_type": "markdown",
   "id": "subtle-correction",
   "metadata": {},
   "source": [
    "#### Observação LOCAL"
   ]
  },
  {
   "cell_type": "code",
   "execution_count": 29,
   "id": "cloudy-physics",
   "metadata": {
    "ExecuteTime": {
     "end_time": "2022-09-07T19:09:03.933478Z",
     "start_time": "2022-09-07T19:08:35.974641Z"
    }
   },
   "outputs": [
    {
     "name": "stdout",
     "output_type": "stream",
     "text": [
      "rtl_power -f 800M:1200M:1M -g50 -i 1s -e 20s ../data/raw/RTLSDR/SDR_01_20220907_160835_59.csv\n"
     ]
    }
   ],
   "source": [
    "# Fazendo observação com dispositivo local\n",
    "# Dicionário de parâmetros para observação\n",
    "observe_dict = {\"duration\":\"20s\", \n",
    "                \"band\":[\"800M\", \"1200M\"], \n",
    "                \"bandwidth\":\"1M\", \n",
    "                \"gain\":\"50\", \n",
    "                \"integration\":\"1s\",\n",
    "                \"mode\":\"59\"}\n",
    "# Nome de arquivo manualmente definido\n",
    "NOW = datetime.now().strftime(\"%Y%m%d_%H%M%S\")\n",
    "mode = \"59\"\n",
    "filename = SDR_01.controller.local_folder + SDR_01.name + \"_\" + NOW + \"_\" + mode + \".csv\"\n",
    "# Scan LOCAL com parâmetros manuais.\n",
    "SDR_01.scan(filename=filename, **observe_dict)"
   ]
  },
  {
   "cell_type": "code",
   "execution_count": 30,
   "id": "homeless-cutting",
   "metadata": {
    "ExecuteTime": {
     "end_time": "2022-09-07T19:09:23.762806Z",
     "start_time": "2022-09-07T19:09:23.748295Z"
    }
   },
   "outputs": [
    {
     "name": "stdout",
     "output_type": "stream",
     "text": [
      "rtl_power -f 800M:1200M:1M -g50 -i 1s -e 20s ../data/raw/RTLSDR/SDR_01_20220907_160923_59.csv\n",
      "processo 54409 rodando.\n",
      "processo 54409 rodando.\n",
      "processo terminado em 40.048802 segundos.\n"
     ]
    }
   ],
   "source": [
    "# Scan LOCAL em modo detached.\n",
    "# time.sleep(2)\n",
    "NOW = datetime.now().strftime(\"%Y%m%d_%H%M%S\")\n",
    "mode = \"59\"\n",
    "filename = SDR_01.controller.local_folder + SDR_01.name + \"_\" + NOW + \"_\" + mode + \".csv\"\n",
    "SDR_01.scan_mp(filename=filename, **observe_dict, monitor=True, interval=20)"
   ]
  },
  {
   "cell_type": "code",
   "execution_count": 34,
   "id": "scenic-costs",
   "metadata": {
    "ExecuteTime": {
     "end_time": "2022-09-07T19:11:39.282847Z",
     "start_time": "2022-09-07T19:11:12.375795Z"
    }
   },
   "outputs": [
    {
     "name": "stdout",
     "output_type": "stream",
     "text": [
      "Remoto já conectado em IP 192.168.15.81\n"
     ]
    },
    {
     "data": {
      "text/plain": [
       "<radiotelescope.backend.rtlsdrbackend.RTLSDRpowerBackend at 0x7f3c8e6721d0>"
      ]
     },
     "execution_count": 34,
     "metadata": {},
     "output_type": "execute_result"
    },
    {
     "data": {
      "text/plain": [
       "True"
      ]
     },
     "execution_count": 34,
     "metadata": {},
     "output_type": "execute_result"
    },
    {
     "name": "stdout",
     "output_type": "stream",
     "text": [
      "rtl_power -f 800M:1200M:1M -g50 -i 1s -e 20s ~/SDR/SDR_01_20220907_161112_59.csv\n",
      "Comando executado com sucesso.\n"
     ]
    }
   ],
   "source": [
    "# Conectando ao remoto\n",
    "SDR_01.connect()\n",
    "SDR_01.is_connected\n",
    "NOW = datetime.now().strftime(\"%Y%m%d_%H%M%S\")\n",
    "mode = \"59\"\n",
    "filename = SDR_01.controller.remote_folder + SDR_01.name + \"_\" + NOW + \"_\" + mode + \".csv\"\n",
    "# Scan remoto manual\n",
    "SDR_01.scan(filename=filename, **observe_dict, monitor=False)"
   ]
  },
  {
   "cell_type": "code",
   "execution_count": 35,
   "id": "ordinary-examination",
   "metadata": {
    "ExecuteTime": {
     "end_time": "2022-09-07T19:12:08.770746Z",
     "start_time": "2022-09-07T19:12:08.684338Z"
    }
   },
   "outputs": [
    {
     "name": "stdout",
     "output_type": "stream",
     "text": [
      "rtl_power -f 800M:1200M:1M -g50 -i 1s -e 20s ../data/raw/RTLSDR/SDR_01_20220907_161208_59.csv\n",
      "rtl_power -f 800M:1200M:1M -g50 -i 1s -e 20s ../data/raw/RTLSDR/SDR_01_20220907_161208_59.csv\n"
     ]
    }
   ],
   "source": [
    "# Manual\n",
    "SDR_01.disconnect().observe(**observe_dict)\n",
    "# Detached\n",
    "SDR_01.disconnect().observe_mp(**observe_dict)"
   ]
  },
  {
   "cell_type": "markdown",
   "id": "burning-spectrum",
   "metadata": {},
   "source": [
    "#### Observação no remoto"
   ]
  },
  {
   "cell_type": "code",
   "execution_count": 36,
   "id": "material-representative",
   "metadata": {
    "ExecuteTime": {
     "end_time": "2022-09-07T19:12:30.470760Z",
     "start_time": "2022-09-07T19:12:30.441403Z"
    }
   },
   "outputs": [
    {
     "name": "stdout",
     "output_type": "stream",
     "text": [
      "rtl_power -f 800M:1200M:1M -g50 -i 1s -e 20s ~/SDR/SDR_01_20220907_161230_59.csv\n",
      "rtl_power -f 800M:1200M:1M -g50 -i 1s -e 20s ~/SDR/SDR_01_20220907_161230_59.csv\n"
     ]
    }
   ],
   "source": [
    "NOW = datetime.now().strftime(\"%Y%m%d_%H%M%S\")\n",
    "mode = \"59\"\n",
    "filename = SDR_01.controller.remote_folder + SDR_01.name + \"_\" + NOW + \"_\" + mode + \".csv\"\n",
    "SDR_01.scan(filename=filename, **observe_dict, monitor=False)\n",
    "# Scan remoto detached\n",
    "SDR_01.scan_mp(filename=filename, **observe_dict, monitor=False)"
   ]
  },
  {
   "cell_type": "code",
   "execution_count": 37,
   "id": "outer-reservation",
   "metadata": {
    "ExecuteTime": {
     "end_time": "2022-09-07T19:13:28.912457Z",
     "start_time": "2022-09-07T19:13:02.124931Z"
    }
   },
   "outputs": [
    {
     "name": "stdout",
     "output_type": "stream",
     "text": [
      "Remoto já conectado em IP 192.168.15.81\n",
      "rtl_power -f 800M:1200M:1M -g50 -i 1s -e 20s ~/SDR/SDR_01_20220907_161302_59.csv\n",
      "Comando executado com sucesso.\n",
      "Remoto já conectado em IP 192.168.15.81\n",
      "rtl_power -f 800M:1200M:1M -g50 -i 1s -e 20s ~/SDR/SDR_01_20220907_161328_59.csv\n"
     ]
    }
   ],
   "source": [
    "SDR_01.connect().observe(**observe_dict)\n",
    "SDR_01.connect().observe_mp(**observe_dict)"
   ]
  },
  {
   "cell_type": "markdown",
   "id": "parental-nashville",
   "metadata": {},
   "source": [
    "#### Leitura e manipulação de dados"
   ]
  },
  {
   "cell_type": "code",
   "execution_count": 57,
   "id": "reduced-excellence",
   "metadata": {
    "ExecuteTime": {
     "end_time": "2022-09-07T19:28:06.980344Z",
     "start_time": "2022-09-07T19:28:06.966118Z"
    }
   },
   "outputs": [
    {
     "name": "stdout",
     "output_type": "stream",
     "text": [
      "Remoto já conectado em IP 192.168.15.81\n"
     ]
    },
    {
     "data": {
      "text/plain": [
       "<radiotelescope.backend.rtlsdrbackend.RTLSDRpowerBackend at 0x7f3c8e6721d0>"
      ]
     },
     "execution_count": 57,
     "metadata": {},
     "output_type": "execute_result"
    }
   ],
   "source": [
    "SDR_01.connect()._get_filenames()"
   ]
  },
  {
   "cell_type": "code",
   "execution_count": 58,
   "id": "jewish-incident",
   "metadata": {
    "ExecuteTime": {
     "end_time": "2022-09-07T19:28:07.867918Z",
     "start_time": "2022-09-07T19:28:07.858336Z"
    }
   },
   "outputs": [
    {
     "name": "stdout",
     "output_type": "stream",
     "text": [
      "../data/raw/RTLSDR/SDR_01_20220501_135046_59.csv\n",
      "../data/raw/RTLSDR/SDR_01_20220501_135134_59.csv\n",
      "../data/raw/RTLSDR/SDR_01_20220501_135224_59.csv\n",
      "../data/raw/RTLSDR/SDR_01_20220501_135825_59.csv\n",
      "../data/raw/RTLSDR/SDR_01_20220501_135853_59.fit\n",
      "../data/raw/RTLSDR/SDR_01_20220501_135853_59.csv\n",
      "../data/raw/RTLSDR/SDR_01_20220501_202159_01.csv\n",
      "../data/raw/RTLSDR/SDR_01_20220831_170030_59.csv\n",
      "../data/raw/RTLSDR/SDR_01_20220831_170114_59.csv\n",
      "../data/raw/RTLSDR/SDR_01_20220831_170141_59.csv\n",
      "../data/raw/RTLSDR/SDR_01_20220907_160835_59.csv\n",
      "../data/raw/RTLSDR/SDR_01_20220907_160923_59.csv\n"
     ]
    }
   ],
   "source": [
    "for file in SDR_01.filenames.files:\n",
    "    print(file)"
   ]
  },
  {
   "cell_type": "code",
   "execution_count": 59,
   "id": "universal-senegal",
   "metadata": {
    "ExecuteTime": {
     "end_time": "2022-09-07T19:28:10.736864Z",
     "start_time": "2022-09-07T19:28:08.975903Z"
    }
   },
   "outputs": [
    {
     "name": "stderr",
     "output_type": "stream",
     "text": [
      "/home/lbarosi/BAROSI/HOME/6000_PYTHONIA/2_Doing/radiotelescope/radiotelescope/backend/rtlsdrbackend.py:99: FutureWarning: Dropping invalid columns in DataFrameGroupBy.mean is deprecated. In a future version, a TypeError will be raised. Before calling .mean, select only columns which should be valid for the function.\n",
      "  result = df_data.pivot_table(values='Flux_dB',\n"
     ]
    },
    {
     "data": {
      "text/html": [
       "<div>\n",
       "<style scoped>\n",
       "    .dataframe tbody tr th:only-of-type {\n",
       "        vertical-align: middle;\n",
       "    }\n",
       "\n",
       "    .dataframe tbody tr th {\n",
       "        vertical-align: top;\n",
       "    }\n",
       "\n",
       "    .dataframe thead th {\n",
       "        text-align: right;\n",
       "    }\n",
       "</style>\n",
       "<table border=\"1\" class=\"dataframe\">\n",
       "  <thead>\n",
       "    <tr style=\"text-align: right;\">\n",
       "      <th></th>\n",
       "      <th>800.0</th>\n",
       "      <th>801.0</th>\n",
       "      <th>802.0</th>\n",
       "      <th>803.0</th>\n",
       "      <th>804.0</th>\n",
       "      <th>805.0</th>\n",
       "      <th>806.0</th>\n",
       "      <th>807.0</th>\n",
       "      <th>808.0</th>\n",
       "      <th>809.0</th>\n",
       "      <th>...</th>\n",
       "      <th>1691.0</th>\n",
       "      <th>1692.0</th>\n",
       "      <th>1693.0</th>\n",
       "      <th>1694.0</th>\n",
       "      <th>1695.0</th>\n",
       "      <th>1696.0</th>\n",
       "      <th>1697.0</th>\n",
       "      <th>1698.0</th>\n",
       "      <th>1699.0</th>\n",
       "      <th>1700.0</th>\n",
       "    </tr>\n",
       "  </thead>\n",
       "  <tbody>\n",
       "    <tr>\n",
       "      <th>2022-05-01 13:51:14</th>\n",
       "      <td>-8.850</td>\n",
       "      <td>-8.910</td>\n",
       "      <td>-8.110</td>\n",
       "      <td>-9.410</td>\n",
       "      <td>-11.185</td>\n",
       "      <td>-8.205</td>\n",
       "      <td>3.515</td>\n",
       "      <td>2.840</td>\n",
       "      <td>-8.095</td>\n",
       "      <td>-10.475</td>\n",
       "      <td>...</td>\n",
       "      <td>NaN</td>\n",
       "      <td>NaN</td>\n",
       "      <td>NaN</td>\n",
       "      <td>NaN</td>\n",
       "      <td>NaN</td>\n",
       "      <td>NaN</td>\n",
       "      <td>NaN</td>\n",
       "      <td>NaN</td>\n",
       "      <td>NaN</td>\n",
       "      <td>NaN</td>\n",
       "    </tr>\n",
       "    <tr>\n",
       "      <th>2022-05-01 13:52:01</th>\n",
       "      <td>-7.270</td>\n",
       "      <td>-6.970</td>\n",
       "      <td>-6.985</td>\n",
       "      <td>-9.500</td>\n",
       "      <td>-11.355</td>\n",
       "      <td>-8.405</td>\n",
       "      <td>3.205</td>\n",
       "      <td>2.500</td>\n",
       "      <td>-8.335</td>\n",
       "      <td>-10.735</td>\n",
       "      <td>...</td>\n",
       "      <td>NaN</td>\n",
       "      <td>NaN</td>\n",
       "      <td>NaN</td>\n",
       "      <td>NaN</td>\n",
       "      <td>NaN</td>\n",
       "      <td>NaN</td>\n",
       "      <td>NaN</td>\n",
       "      <td>NaN</td>\n",
       "      <td>NaN</td>\n",
       "      <td>NaN</td>\n",
       "    </tr>\n",
       "    <tr>\n",
       "      <th>2022-05-01 17:52:50</th>\n",
       "      <td>-5.620</td>\n",
       "      <td>-4.205</td>\n",
       "      <td>-4.455</td>\n",
       "      <td>-8.365</td>\n",
       "      <td>-10.250</td>\n",
       "      <td>-7.670</td>\n",
       "      <td>3.345</td>\n",
       "      <td>2.900</td>\n",
       "      <td>-7.815</td>\n",
       "      <td>-10.375</td>\n",
       "      <td>...</td>\n",
       "      <td>NaN</td>\n",
       "      <td>NaN</td>\n",
       "      <td>NaN</td>\n",
       "      <td>NaN</td>\n",
       "      <td>NaN</td>\n",
       "      <td>NaN</td>\n",
       "      <td>NaN</td>\n",
       "      <td>NaN</td>\n",
       "      <td>NaN</td>\n",
       "      <td>NaN</td>\n",
       "    </tr>\n",
       "    <tr>\n",
       "      <th>2022-05-01 17:58:51</th>\n",
       "      <td>-8.130</td>\n",
       "      <td>-7.630</td>\n",
       "      <td>-7.160</td>\n",
       "      <td>-8.475</td>\n",
       "      <td>-9.550</td>\n",
       "      <td>-7.095</td>\n",
       "      <td>3.625</td>\n",
       "      <td>3.140</td>\n",
       "      <td>-7.120</td>\n",
       "      <td>-9.700</td>\n",
       "      <td>...</td>\n",
       "      <td>NaN</td>\n",
       "      <td>NaN</td>\n",
       "      <td>NaN</td>\n",
       "      <td>NaN</td>\n",
       "      <td>NaN</td>\n",
       "      <td>NaN</td>\n",
       "      <td>NaN</td>\n",
       "      <td>NaN</td>\n",
       "      <td>NaN</td>\n",
       "      <td>NaN</td>\n",
       "    </tr>\n",
       "    <tr>\n",
       "      <th>2022-05-01 17:59:19</th>\n",
       "      <td>-9.320</td>\n",
       "      <td>-9.220</td>\n",
       "      <td>-8.380</td>\n",
       "      <td>-9.145</td>\n",
       "      <td>-10.535</td>\n",
       "      <td>-8.295</td>\n",
       "      <td>2.400</td>\n",
       "      <td>1.955</td>\n",
       "      <td>-8.105</td>\n",
       "      <td>-10.270</td>\n",
       "      <td>...</td>\n",
       "      <td>NaN</td>\n",
       "      <td>NaN</td>\n",
       "      <td>NaN</td>\n",
       "      <td>NaN</td>\n",
       "      <td>NaN</td>\n",
       "      <td>NaN</td>\n",
       "      <td>NaN</td>\n",
       "      <td>NaN</td>\n",
       "      <td>NaN</td>\n",
       "      <td>NaN</td>\n",
       "    </tr>\n",
       "    <tr>\n",
       "      <th>2022-05-02 00:38:07</th>\n",
       "      <td>-6.965</td>\n",
       "      <td>-6.295</td>\n",
       "      <td>-8.030</td>\n",
       "      <td>-10.230</td>\n",
       "      <td>-11.530</td>\n",
       "      <td>-9.435</td>\n",
       "      <td>1.210</td>\n",
       "      <td>0.710</td>\n",
       "      <td>-9.315</td>\n",
       "      <td>-11.445</td>\n",
       "      <td>...</td>\n",
       "      <td>0.95</td>\n",
       "      <td>1.205</td>\n",
       "      <td>2.615</td>\n",
       "      <td>0.875</td>\n",
       "      <td>2.13</td>\n",
       "      <td>6.31</td>\n",
       "      <td>6.305</td>\n",
       "      <td>5.075</td>\n",
       "      <td>4.645</td>\n",
       "      <td>3.51</td>\n",
       "    </tr>\n",
       "    <tr>\n",
       "      <th>2022-08-31 17:00:57</th>\n",
       "      <td>1.800</td>\n",
       "      <td>0.880</td>\n",
       "      <td>-1.200</td>\n",
       "      <td>-7.135</td>\n",
       "      <td>-11.695</td>\n",
       "      <td>-9.340</td>\n",
       "      <td>1.690</td>\n",
       "      <td>1.110</td>\n",
       "      <td>-9.265</td>\n",
       "      <td>-11.325</td>\n",
       "      <td>...</td>\n",
       "      <td>NaN</td>\n",
       "      <td>NaN</td>\n",
       "      <td>NaN</td>\n",
       "      <td>NaN</td>\n",
       "      <td>NaN</td>\n",
       "      <td>NaN</td>\n",
       "      <td>NaN</td>\n",
       "      <td>NaN</td>\n",
       "      <td>NaN</td>\n",
       "      <td>NaN</td>\n",
       "    </tr>\n",
       "    <tr>\n",
       "      <th>2022-08-31 17:01:41</th>\n",
       "      <td>-0.160</td>\n",
       "      <td>0.215</td>\n",
       "      <td>-1.595</td>\n",
       "      <td>-7.815</td>\n",
       "      <td>-11.620</td>\n",
       "      <td>-9.290</td>\n",
       "      <td>1.820</td>\n",
       "      <td>1.270</td>\n",
       "      <td>-9.170</td>\n",
       "      <td>-11.245</td>\n",
       "      <td>...</td>\n",
       "      <td>NaN</td>\n",
       "      <td>NaN</td>\n",
       "      <td>NaN</td>\n",
       "      <td>NaN</td>\n",
       "      <td>NaN</td>\n",
       "      <td>NaN</td>\n",
       "      <td>NaN</td>\n",
       "      <td>NaN</td>\n",
       "      <td>NaN</td>\n",
       "      <td>NaN</td>\n",
       "    </tr>\n",
       "    <tr>\n",
       "      <th>2022-08-31 17:02:08</th>\n",
       "      <td>0.720</td>\n",
       "      <td>0.460</td>\n",
       "      <td>-2.315</td>\n",
       "      <td>-8.720</td>\n",
       "      <td>-12.320</td>\n",
       "      <td>-9.935</td>\n",
       "      <td>1.625</td>\n",
       "      <td>1.210</td>\n",
       "      <td>-9.735</td>\n",
       "      <td>-11.870</td>\n",
       "      <td>...</td>\n",
       "      <td>NaN</td>\n",
       "      <td>NaN</td>\n",
       "      <td>NaN</td>\n",
       "      <td>NaN</td>\n",
       "      <td>NaN</td>\n",
       "      <td>NaN</td>\n",
       "      <td>NaN</td>\n",
       "      <td>NaN</td>\n",
       "      <td>NaN</td>\n",
       "      <td>NaN</td>\n",
       "    </tr>\n",
       "    <tr>\n",
       "      <th>2022-09-07 16:09:03</th>\n",
       "      <td>-9.680</td>\n",
       "      <td>-9.575</td>\n",
       "      <td>-8.400</td>\n",
       "      <td>-9.495</td>\n",
       "      <td>-11.320</td>\n",
       "      <td>-8.055</td>\n",
       "      <td>4.185</td>\n",
       "      <td>3.775</td>\n",
       "      <td>-7.460</td>\n",
       "      <td>-10.425</td>\n",
       "      <td>...</td>\n",
       "      <td>NaN</td>\n",
       "      <td>NaN</td>\n",
       "      <td>NaN</td>\n",
       "      <td>NaN</td>\n",
       "      <td>NaN</td>\n",
       "      <td>NaN</td>\n",
       "      <td>NaN</td>\n",
       "      <td>NaN</td>\n",
       "      <td>NaN</td>\n",
       "      <td>NaN</td>\n",
       "    </tr>\n",
       "    <tr>\n",
       "      <th>2022-09-07 16:09:48</th>\n",
       "      <td>NaN</td>\n",
       "      <td>NaN</td>\n",
       "      <td>NaN</td>\n",
       "      <td>NaN</td>\n",
       "      <td>NaN</td>\n",
       "      <td>NaN</td>\n",
       "      <td>NaN</td>\n",
       "      <td>NaN</td>\n",
       "      <td>NaN</td>\n",
       "      <td>NaN</td>\n",
       "      <td>...</td>\n",
       "      <td>NaN</td>\n",
       "      <td>NaN</td>\n",
       "      <td>NaN</td>\n",
       "      <td>NaN</td>\n",
       "      <td>NaN</td>\n",
       "      <td>NaN</td>\n",
       "      <td>NaN</td>\n",
       "      <td>NaN</td>\n",
       "      <td>NaN</td>\n",
       "      <td>NaN</td>\n",
       "    </tr>\n",
       "  </tbody>\n",
       "</table>\n",
       "<p>11 rows × 1651 columns</p>\n",
       "</div>"
      ],
      "text/plain": [
       "                     800.0   801.0   802.0   803.0   804.0   805.0   806.0   \\\n",
       "2022-05-01 13:51:14  -8.850  -8.910  -8.110  -9.410 -11.185  -8.205   3.515   \n",
       "2022-05-01 13:52:01  -7.270  -6.970  -6.985  -9.500 -11.355  -8.405   3.205   \n",
       "2022-05-01 17:52:50  -5.620  -4.205  -4.455  -8.365 -10.250  -7.670   3.345   \n",
       "2022-05-01 17:58:51  -8.130  -7.630  -7.160  -8.475  -9.550  -7.095   3.625   \n",
       "2022-05-01 17:59:19  -9.320  -9.220  -8.380  -9.145 -10.535  -8.295   2.400   \n",
       "2022-05-02 00:38:07  -6.965  -6.295  -8.030 -10.230 -11.530  -9.435   1.210   \n",
       "2022-08-31 17:00:57   1.800   0.880  -1.200  -7.135 -11.695  -9.340   1.690   \n",
       "2022-08-31 17:01:41  -0.160   0.215  -1.595  -7.815 -11.620  -9.290   1.820   \n",
       "2022-08-31 17:02:08   0.720   0.460  -2.315  -8.720 -12.320  -9.935   1.625   \n",
       "2022-09-07 16:09:03  -9.680  -9.575  -8.400  -9.495 -11.320  -8.055   4.185   \n",
       "2022-09-07 16:09:48     NaN     NaN     NaN     NaN     NaN     NaN     NaN   \n",
       "\n",
       "                     807.0   808.0   809.0   ...  1691.0  1692.0  1693.0  \\\n",
       "2022-05-01 13:51:14   2.840  -8.095 -10.475  ...     NaN     NaN     NaN   \n",
       "2022-05-01 13:52:01   2.500  -8.335 -10.735  ...     NaN     NaN     NaN   \n",
       "2022-05-01 17:52:50   2.900  -7.815 -10.375  ...     NaN     NaN     NaN   \n",
       "2022-05-01 17:58:51   3.140  -7.120  -9.700  ...     NaN     NaN     NaN   \n",
       "2022-05-01 17:59:19   1.955  -8.105 -10.270  ...     NaN     NaN     NaN   \n",
       "2022-05-02 00:38:07   0.710  -9.315 -11.445  ...    0.95   1.205   2.615   \n",
       "2022-08-31 17:00:57   1.110  -9.265 -11.325  ...     NaN     NaN     NaN   \n",
       "2022-08-31 17:01:41   1.270  -9.170 -11.245  ...     NaN     NaN     NaN   \n",
       "2022-08-31 17:02:08   1.210  -9.735 -11.870  ...     NaN     NaN     NaN   \n",
       "2022-09-07 16:09:03   3.775  -7.460 -10.425  ...     NaN     NaN     NaN   \n",
       "2022-09-07 16:09:48     NaN     NaN     NaN  ...     NaN     NaN     NaN   \n",
       "\n",
       "                     1694.0  1695.0  1696.0  1697.0  1698.0  1699.0  1700.0  \n",
       "2022-05-01 13:51:14     NaN     NaN     NaN     NaN     NaN     NaN     NaN  \n",
       "2022-05-01 13:52:01     NaN     NaN     NaN     NaN     NaN     NaN     NaN  \n",
       "2022-05-01 17:52:50     NaN     NaN     NaN     NaN     NaN     NaN     NaN  \n",
       "2022-05-01 17:58:51     NaN     NaN     NaN     NaN     NaN     NaN     NaN  \n",
       "2022-05-01 17:59:19     NaN     NaN     NaN     NaN     NaN     NaN     NaN  \n",
       "2022-05-02 00:38:07   0.875    2.13    6.31   6.305   5.075   4.645    3.51  \n",
       "2022-08-31 17:00:57     NaN     NaN     NaN     NaN     NaN     NaN     NaN  \n",
       "2022-08-31 17:01:41     NaN     NaN     NaN     NaN     NaN     NaN     NaN  \n",
       "2022-08-31 17:02:08     NaN     NaN     NaN     NaN     NaN     NaN     NaN  \n",
       "2022-09-07 16:09:03     NaN     NaN     NaN     NaN     NaN     NaN     NaN  \n",
       "2022-09-07 16:09:48     NaN     NaN     NaN     NaN     NaN     NaN     NaN  \n",
       "\n",
       "[11 rows x 1651 columns]"
      ]
     },
     "execution_count": 59,
     "metadata": {},
     "output_type": "execute_result"
    }
   ],
   "source": [
    "SDR_01.load_measurement(extension=\"csv\")"
   ]
  },
  {
   "cell_type": "code",
   "execution_count": 60,
   "id": "supreme-garlic",
   "metadata": {
    "ExecuteTime": {
     "end_time": "2022-09-07T19:28:55.000676Z",
     "start_time": "2022-09-07T19:28:54.023543Z"
    }
   },
   "outputs": [
    {
     "name": "stdout",
     "output_type": "stream",
     "text": [
      "Remoto já conectado em IP 192.168.15.81\n",
      "Remoto já conectado em IP 192.168.15.81\n",
      "Sincronizando dados: ~/SDR/ -> ../data/raw/RTLSDR/.\n"
     ]
    }
   ],
   "source": [
    "SDR_01.connect().save_measurement()"
   ]
  },
  {
   "cell_type": "code",
   "execution_count": 61,
   "id": "macro-democrat",
   "metadata": {
    "ExecuteTime": {
     "end_time": "2022-09-07T19:28:56.382623Z",
     "start_time": "2022-09-07T19:28:56.166094Z"
    }
   },
   "outputs": [
    {
     "data": {
      "text/plain": [
       "<radiotelescope.backend.rtlsdrbackend.RTLSDRpowerBackend at 0x7f3c8e6721d0>"
      ]
     },
     "execution_count": 61,
     "metadata": {},
     "output_type": "execute_result"
    },
    {
     "data": {
      "text/html": [
       "<div>\n",
       "<style scoped>\n",
       "    .dataframe tbody tr th:only-of-type {\n",
       "        vertical-align: middle;\n",
       "    }\n",
       "\n",
       "    .dataframe tbody tr th {\n",
       "        vertical-align: top;\n",
       "    }\n",
       "\n",
       "    .dataframe thead th {\n",
       "        text-align: right;\n",
       "    }\n",
       "</style>\n",
       "<table border=\"1\" class=\"dataframe\">\n",
       "  <thead>\n",
       "    <tr style=\"text-align: right;\">\n",
       "      <th></th>\n",
       "      <th>800.0</th>\n",
       "      <th>801.0</th>\n",
       "      <th>802.0</th>\n",
       "      <th>803.0</th>\n",
       "      <th>804.0</th>\n",
       "      <th>805.0</th>\n",
       "      <th>806.0</th>\n",
       "      <th>807.0</th>\n",
       "      <th>808.0</th>\n",
       "      <th>809.0</th>\n",
       "      <th>...</th>\n",
       "      <th>1191.0</th>\n",
       "      <th>1192.0</th>\n",
       "      <th>1193.0</th>\n",
       "      <th>1194.0</th>\n",
       "      <th>1195.0</th>\n",
       "      <th>1196.0</th>\n",
       "      <th>1197.0</th>\n",
       "      <th>1198.0</th>\n",
       "      <th>1199.0</th>\n",
       "      <th>1200.0</th>\n",
       "    </tr>\n",
       "  </thead>\n",
       "  <tbody>\n",
       "    <tr>\n",
       "      <th>2022-05-01 17:59:19</th>\n",
       "      <td>-9.32</td>\n",
       "      <td>-9.220</td>\n",
       "      <td>-8.380</td>\n",
       "      <td>-9.145</td>\n",
       "      <td>-10.535</td>\n",
       "      <td>-8.295</td>\n",
       "      <td>2.400</td>\n",
       "      <td>1.955</td>\n",
       "      <td>-8.105</td>\n",
       "      <td>-10.27</td>\n",
       "      <td>...</td>\n",
       "      <td>-18.185</td>\n",
       "      <td>-17.825</td>\n",
       "      <td>-18.250</td>\n",
       "      <td>-17.265</td>\n",
       "      <td>-8.475</td>\n",
       "      <td>-7.475</td>\n",
       "      <td>-15.535</td>\n",
       "      <td>-16.76</td>\n",
       "      <td>-16.155</td>\n",
       "      <td>-15.07</td>\n",
       "    </tr>\n",
       "    <tr>\n",
       "      <th>2022-09-07 16:13:55</th>\n",
       "      <td>3.90</td>\n",
       "      <td>3.065</td>\n",
       "      <td>0.975</td>\n",
       "      <td>-5.380</td>\n",
       "      <td>-10.250</td>\n",
       "      <td>-8.055</td>\n",
       "      <td>3.125</td>\n",
       "      <td>2.720</td>\n",
       "      <td>-7.870</td>\n",
       "      <td>-10.11</td>\n",
       "      <td>...</td>\n",
       "      <td>-18.860</td>\n",
       "      <td>-18.530</td>\n",
       "      <td>-18.815</td>\n",
       "      <td>-18.160</td>\n",
       "      <td>-8.560</td>\n",
       "      <td>-7.030</td>\n",
       "      <td>-16.470</td>\n",
       "      <td>-19.50</td>\n",
       "      <td>-19.315</td>\n",
       "      <td>-17.58</td>\n",
       "    </tr>\n",
       "  </tbody>\n",
       "</table>\n",
       "<p>2 rows × 401 columns</p>\n",
       "</div>"
      ],
      "text/plain": [
       "                     800.0   801.0   802.0   803.0   804.0   805.0   806.0   \\\n",
       "2022-05-01 17:59:19   -9.32  -9.220  -8.380  -9.145 -10.535  -8.295   2.400   \n",
       "2022-09-07 16:13:55    3.90   3.065   0.975  -5.380 -10.250  -8.055   3.125   \n",
       "\n",
       "                     807.0   808.0   809.0   ...  1191.0  1192.0  1193.0  \\\n",
       "2022-05-01 17:59:19   1.955  -8.105  -10.27  ... -18.185 -17.825 -18.250   \n",
       "2022-09-07 16:13:55   2.720  -7.870  -10.11  ... -18.860 -18.530 -18.815   \n",
       "\n",
       "                     1194.0  1195.0  1196.0  1197.0  1198.0  1199.0  1200.0  \n",
       "2022-05-01 17:59:19 -17.265  -8.475  -7.475 -15.535  -16.76 -16.155  -15.07  \n",
       "2022-09-07 16:13:55 -18.160  -8.560  -7.030 -16.470  -19.50 -19.315  -17.58  \n",
       "\n",
       "[2 rows x 401 columns]"
      ]
     },
     "execution_count": 61,
     "metadata": {},
     "output_type": "execute_result"
    }
   ],
   "source": [
    "file = SDR_01._get_filenames().filenames.files.iloc[-1]\n",
    "SDR_01.csv2fit(filename=file)\n",
    "SDR_01._get_filenames()\n",
    "SDR_01.load_measurement(extension=\"fit\")"
   ]
  },
  {
   "cell_type": "code",
   "execution_count": 62,
   "id": "dynamic-vietnamese",
   "metadata": {
    "ExecuteTime": {
     "end_time": "2022-09-07T19:29:04.290118Z",
     "start_time": "2022-09-07T19:29:04.248504Z"
    }
   },
   "outputs": [
    {
     "name": "stdout",
     "output_type": "stream",
     "text": [
      "Remoto já conectado em IP 192.168.15.81\n",
      "rtl_power -f 50M:1700M:1M -g50 -i 15m -e 15m ~/SDR/SDR_01_20220907_162904_01.csv\n"
     ]
    }
   ],
   "source": [
    "SDR_01.connect().calibrate()"
   ]
  },
  {
   "cell_type": "code",
   "execution_count": 63,
   "id": "prescribed-comparative",
   "metadata": {
    "ExecuteTime": {
     "end_time": "2022-09-07T19:29:12.280839Z",
     "start_time": "2022-09-07T19:29:11.455050Z"
    }
   },
   "outputs": [
    {
     "name": "stdout",
     "output_type": "stream",
     "text": [
      "Remoto já conectado em IP 192.168.15.81\n",
      "Remoto já conectado em IP 192.168.15.81\n",
      "Sincronizando dados: ~/SDR/ -> ../data/raw/RTLSDR/.\n"
     ]
    }
   ],
   "source": [
    "SDR_01.connect().save_measurement()\n",
    "filenames = SDR_01._get_filenames().filenames"
   ]
  },
  {
   "cell_type": "code",
   "execution_count": 65,
   "id": "fatty-anger",
   "metadata": {
    "ExecuteTime": {
     "end_time": "2022-09-07T19:29:44.783373Z",
     "start_time": "2022-09-07T19:29:42.550210Z"
    }
   },
   "outputs": [
    {
     "name": "stderr",
     "output_type": "stream",
     "text": [
      "/home/lbarosi/BAROSI/HOME/6000_PYTHONIA/2_Doing/radiotelescope/radiotelescope/backend/rtlsdrbackend.py:99: FutureWarning: Dropping invalid columns in DataFrameGroupBy.mean is deprecated. In a future version, a TypeError will be raised. Before calling .mean, select only columns which should be valid for the function.\n",
      "  result = df_data.pivot_table(values='Flux_dB',\n"
     ]
    },
    {
     "data": {
      "image/png": "[encoded data removed]",
      "text/plain": [
       "<Figure size 1152x432 with 1 Axes>"
      ]
     },
     "metadata": {
      "needs_background": "light"
     },
     "output_type": "display_data"
    }
   ],
   "source": [
    "import matplotlib.pyplot as plt\n",
    "df = SDR_01.load_measurement(mode=\"59\")\n",
    "df_filt = df.T.rolling(20, center = True).median().fillna(method='bfill').fillna(method='ffill')\n",
    "fig, ax = plt.subplots(figsize=(16,6))\n",
    "df.T.plot(ax=ax, linewidth=.2)\n",
    "df_filt.plot(ax=ax)\n",
    "ax.grid()\n",
    "plt.show();"
   ]
  },
  {
   "cell_type": "markdown",
   "id": "25a60f88",
   "metadata": {
    "ExecuteTime": {
     "end_time": "2022-04-11T13:20:39.372509Z",
     "start_time": "2022-04-11T13:20:39.368839Z"
    },
    "heading_collapsed": true
   },
   "source": [
    "### Callisto"
   ]
  },
  {
   "cell_type": "code",
   "execution_count": null,
   "id": "dd7942f5",
   "metadata": {
    "ExecuteTime": {
     "end_time": "2022-09-07T18:50:57.521798Z",
     "start_time": "2022-09-07T18:50:57.521779Z"
    },
    "hidden": true
   },
   "outputs": [],
   "source": [
    "meas_mode = [\"overview\", \"fit\"]\n",
    "mode = { \"SKY\":\"59\", \"COLD\":\"01\", \"WARM\":\"02\" \"HOT\":\"03\"}\n",
    "observe_dict = { \"duration\": \"30m\", mode = \"SKY\", \"measurement\" = \"overview\"}"
   ]
  },
  {
   "cell_type": "markdown",
   "id": "e690baae",
   "metadata": {
    "ExecuteTime": {
     "end_time": "2022-04-11T13:21:59.700358Z",
     "start_time": "2022-04-11T13:21:59.678664Z"
    }
   },
   "source": [
    "### GNURadio"
   ]
  },
  {
   "cell_type": "markdown",
   "id": "nominated-karma",
   "metadata": {},
   "source": [
    "#### Inicialização do Backend"
   ]
  },
  {
   "cell_type": "code",
   "execution_count": null,
   "id": "affecting-liabilities",
   "metadata": {
    "ExecuteTime": {
     "end_time": "2022-09-07T18:50:57.523010Z",
     "start_time": "2022-09-07T18:50:57.522991Z"
    }
   },
   "outputs": [],
   "source": [
    "# Definindo Controlador local ligado a raspberry remoto.\n",
    "pergamon = radiotelescope.LinuxBox(\n",
    "    name=\"pergamon\", \n",
    "    interface=\"WAN\", \n",
    "    user=\"bingo\", \n",
    "    remote_port=22, \n",
    "    remote_IP = \"192.168.15.83\",\n",
    "    local_folder = \"../data/raw/GNURADIO/\",\n",
    "    remote_folder = \"~/SDR/\"\n",
    ").get_info().connect()\n",
    "# Definindo Instrumento\n",
    "import pytz\n",
    "lat= -7.211637 * u.deg;\n",
    "lon= -35.908138 * u.deg;\n",
    "elev= 553 * u.m\n",
    "Alt= 84\n",
    "Az=0\n",
    "fwhm = 15\n",
    "timezone = pytz.timezone(\"America/Recife\")\n",
    "minihorn = radiotelescope.Instrument(name='Cornetinha', lon=lon, lat=lat, elev=elev, timezone=timezone, \n",
    "                      verbose=True, Alt=Alt, Az=Az, fwhm = fwhm)\n",
    "# Definindo Modos\n",
    "modes = {\"COLD\":\"01\", \"WARM\":\"02\", \"HOT\":\"03\", \"SKY\":\"59\"}"
   ]
  },
  {
   "cell_type": "code",
   "execution_count": null,
   "id": "warming-crown",
   "metadata": {
    "ExecuteTime": {
     "end_time": "2022-09-07T18:50:57.524861Z",
     "start_time": "2022-09-07T18:50:57.524843Z"
    }
   },
   "outputs": [],
   "source": [
    "# Backend RTLSDR com dongle ligado em controlador local.\n",
    "SDR_01 = radiotelescope.GNURadioBackend(controller=pergamon, instrument=minihorn, modes = modes, name=\"SDR_01\");\n",
    "SDR_01._get_filenames();\n",
    "SDR_01.filenames"
   ]
  },
  {
   "cell_type": "markdown",
   "id": "collective-orlando",
   "metadata": {},
   "source": [
    "#### Observação Local"
   ]
  },
  {
   "cell_type": "code",
   "execution_count": null,
   "id": "awful-western",
   "metadata": {
    "ExecuteTime": {
     "end_time": "2022-09-07T18:50:57.526502Z",
     "start_time": "2022-09-07T18:50:57.526475Z"
    }
   },
   "outputs": [],
   "source": [
    "# Dicionário de parâmetros para observação\n",
    "rtlstring = \"rtl_tcp=\" + pergamon.remote_IP + \":1234\"\n",
    "GNUSCRIPT = \"../radiotelescope/GNURadio/GNUController.py\"\n",
    "observe_dict = {\"rtlsdr\":rtlstring,\n",
    "                \"GNUScript\":GNUSCRIPT,\n",
    "                \"folder\":pergamon.local_folder,\n",
    "                \"mode\": \"SKY\",\n",
    "                \"channels\":4096,\n",
    "                \"bandwidth\":2048e6,\n",
    "                \"gain\":50,\n",
    "                \"freq\":1240,\n",
    "                \"n_integration\":100,\n",
    "                \"n_samples\": 1000,\n",
    "                \"duration\": \"300s\",\n",
    "                \"csv\":True,\n",
    "                \"fit\":True}"
   ]
  },
  {
   "cell_type": "code",
   "execution_count": null,
   "id": "driving-amendment",
   "metadata": {
    "ExecuteTime": {
     "end_time": "2022-09-07T18:50:57.528600Z",
     "start_time": "2022-09-07T18:50:57.528570Z"
    }
   },
   "outputs": [],
   "source": [
    "command = SDR_01.scan_command(**observe_dict)"
   ]
  },
  {
   "cell_type": "code",
   "execution_count": null,
   "id": "passing-foundation",
   "metadata": {
    "ExecuteTime": {
     "end_time": "2022-09-07T18:50:57.530005Z",
     "start_time": "2022-09-07T18:50:57.529984Z"
    }
   },
   "outputs": [],
   "source": [
    "command"
   ]
  },
  {
   "cell_type": "code",
   "execution_count": null,
   "id": "sustained-forestry",
   "metadata": {
    "ExecuteTime": {
     "end_time": "2022-09-07T18:50:57.531960Z",
     "start_time": "2022-09-07T18:50:57.531931Z"
    }
   },
   "outputs": [],
   "source": [
    "SDR_01.start_tcp()\n",
    "SDR_01.controller.run(command = command)"
   ]
  },
  {
   "cell_type": "code",
   "execution_count": null,
   "id": "numeric-capture",
   "metadata": {
    "ExecuteTime": {
     "end_time": "2022-09-07T18:50:57.533289Z",
     "start_time": "2022-09-07T18:50:57.533260Z"
    }
   },
   "outputs": [],
   "source": [
    "command"
   ]
  },
  {
   "cell_type": "code",
   "execution_count": null,
   "id": "infinite-potential",
   "metadata": {},
   "outputs": [],
   "source": []
  },
  {
   "cell_type": "code",
   "execution_count": null,
   "id": "modern-killer",
   "metadata": {},
   "outputs": [],
   "source": []
  },
  {
   "cell_type": "code",
   "execution_count": null,
   "id": "absolute-prison",
   "metadata": {},
   "outputs": [],
   "source": []
  },
  {
   "cell_type": "code",
   "execution_count": null,
   "id": "spatial-decade",
   "metadata": {},
   "outputs": [],
   "source": []
  },
  {
   "cell_type": "code",
   "execution_count": null,
   "id": "beginning-introduction",
   "metadata": {},
   "outputs": [],
   "source": []
  },
  {
   "cell_type": "code",
   "execution_count": null,
   "id": "relative-berry",
   "metadata": {
    "ExecuteTime": {
     "end_time": "2022-09-07T18:50:57.535280Z",
     "start_time": "2022-09-07T18:50:57.535257Z"
    }
   },
   "outputs": [],
   "source": [
    "SDR_01.connect()\n",
    "SDR_01.observe(**observe_dict)"
   ]
  },
  {
   "cell_type": "code",
   "execution_count": null,
   "id": "thorough-constraint",
   "metadata": {},
   "outputs": [],
   "source": []
  },
  {
   "cell_type": "code",
   "execution_count": null,
   "id": "close-dividend",
   "metadata": {},
   "outputs": [],
   "source": []
  },
  {
   "cell_type": "code",
   "execution_count": null,
   "id": "banner-extraction",
   "metadata": {},
   "outputs": [],
   "source": []
  },
  {
   "cell_type": "code",
   "execution_count": null,
   "id": "violent-series",
   "metadata": {},
   "outputs": [],
   "source": []
  },
  {
   "cell_type": "code",
   "execution_count": null,
   "id": "isolated-grass",
   "metadata": {
    "ExecuteTime": {
     "end_time": "2022-09-07T18:50:57.536749Z",
     "start_time": "2022-09-07T18:50:57.536729Z"
    }
   },
   "outputs": [],
   "source": [
    "\n",
    "RTLGLOBAL"
   ]
  },
  {
   "cell_type": "code",
   "execution_count": null,
   "id": "adjacent-prefix",
   "metadata": {},
   "outputs": [],
   "source": []
  },
  {
   "cell_type": "code",
   "execution_count": null,
   "id": "excellent-dublin",
   "metadata": {},
   "outputs": [],
   "source": []
  },
  {
   "cell_type": "code",
   "execution_count": null,
   "id": "attractive-columbus",
   "metadata": {},
   "outputs": [],
   "source": []
  },
  {
   "cell_type": "code",
   "execution_count": null,
   "id": "natural-watershed",
   "metadata": {
    "ExecuteTime": {
     "end_time": "2022-09-07T18:50:57.537627Z",
     "start_time": "2022-09-07T18:50:57.537609Z"
    }
   },
   "outputs": [],
   "source": [
    "#Fazendo observação com dispositivo local\n",
    "# Dicionário de parâmetros para observação\n",
    "observe_dict = {\"duration\":\"20s\", \n",
    "                \"band\":[\"800M\", \"1200M\"], \n",
    "                \"bandwidth\":\"1M\", \n",
    "                \"gain\":\"50\", \n",
    "                \"integration\":\"1s\",\n",
    "                \"mode\":\"59\"}\n",
    "# Nome de arquivo manualmente definido\n",
    "NOW = datetime.now().strftime(\"%Y%m%d_%H%M%S\")\n",
    "mode = \"59\"\n",
    "filename = SDR_01.controller.local_folder + SDR_01.name + \"_\" + NOW + \"_\" + mode + \".csv\"\n",
    "# Scan LOCAL com parâmetros manuais.\n",
    "SDR_01.scan(filename=filename, **observe_dict)\n",
    "# Scan LOCAL em modo detached.\n",
    "time.sleep(2)\n",
    "NOW = datetime.now().strftime(\"%Y%m%d_%H%M%S\")\n",
    "mode = \"59\"\n",
    "filename = SDR_01.controller.local_folder + SDR_01.name + \"_\" + NOW + \"_\" + mode + \".csv\"\n",
    "SDR_01.scan_mp(filename=filename, **observe_dict, monitor=True, interval=20)"
   ]
  },
  {
   "cell_type": "code",
   "execution_count": null,
   "id": "supported-asthma",
   "metadata": {
    "ExecuteTime": {
     "end_time": "2022-09-07T18:50:57.538717Z",
     "start_time": "2022-09-07T18:50:57.538698Z"
    }
   },
   "outputs": [],
   "source": [
    "Conectando ao remoto\n",
    "SDR_01.connect()\n",
    "SDR_01.is_connected\n",
    "NOW = datetime.now().strftime(\"%Y%m%d_%H%M%S\")\n",
    "mode = \"59\"\n",
    "filename = SDR_01.controller.remote_folder + SDR_01.name + \"_\" + NOW + \"_\" + mode + \".csv\"\n",
    "# Scan remoto manual\n",
    "SDR_01.scan(filename=filename, **observe_dict, monitor=False)"
   ]
  },
  {
   "cell_type": "code",
   "execution_count": null,
   "id": "incident-tower",
   "metadata": {
    "ExecuteTime": {
     "end_time": "2022-09-07T18:50:57.540208Z",
     "start_time": "2022-09-07T18:50:57.540189Z"
    }
   },
   "outputs": [],
   "source": [
    "# Manual\n",
    "SDR_01.disconnect().observe(**observe_dict)\n",
    "# Detached\n",
    "SDR_01.disconnect().observe_mp(**observe_dict)"
   ]
  },
  {
   "cell_type": "markdown",
   "id": "serious-position",
   "metadata": {},
   "source": [
    "#### Observação Remota"
   ]
  },
  {
   "cell_type": "markdown",
   "id": "collected-dispute",
   "metadata": {},
   "source": [
    "#### Leitura e Manipulação de Dados"
   ]
  },
  {
   "cell_type": "code",
   "execution_count": null,
   "id": "tough-married",
   "metadata": {},
   "outputs": [],
   "source": []
  },
  {
   "cell_type": "code",
   "execution_count": null,
   "id": "biological-mitchell",
   "metadata": {},
   "outputs": [],
   "source": []
  },
  {
   "cell_type": "code",
   "execution_count": null,
   "id": "insured-dining",
   "metadata": {},
   "outputs": [],
   "source": []
  }
 ],
 "metadata": {
  "hide_input": false,
  "kernelspec": {
   "display_name": "gnuradio",
   "language": "python",
   "name": "gnuradio"
  },
  "language_info": {
   "codemirror_mode": {
    "name": "ipython",
    "version": 3
   },
   "file_extension": ".py",
   "mimetype": "text/x-python",
   "name": "python",
   "nbconvert_exporter": "python",
   "pygments_lexer": "ipython3",
   "version": "3.10.4"
  },
  "latex_envs": {
   "LaTeX_envs_menu_present": true,
   "autoclose": true,
   "autocomplete": false,
   "bibliofile": "biblio.bib",
   "cite_by": "apalike",
   "current_citInitial": 1,
   "eqLabelWithNumbers": true,
   "eqNumInitial": 1,
   "hotkeys": {
    "equation": "Ctrl-E",
    "itemize": "Ctrl-I"
   },
   "labels_anchors": false,
   "latex_user_defs": false,
   "report_style_numbering": true,
   "user_envs_cfg": false
  },
  "toc": {
   "base_numbering": 1,
   "nav_menu": {},
   "number_sections": false,
   "sideBar": true,
   "skip_h1_title": true,
   "title_cell": "Table of Contents",
   "title_sidebar": "Contents",
   "toc_cell": false,
   "toc_position": {},
   "toc_section_display": true,
   "toc_window_display": true
  }
 },
 "nbformat": 4,
 "nbformat_minor": 5
}
