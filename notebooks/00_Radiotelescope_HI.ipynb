{
 "cells": [
  {
   "cell_type": "markdown",
   "id": "chronic-instruction",
   "metadata": {},
   "source": [
    "# Radiotelescope - HI observation"
   ]
  },
  {
   "cell_type": "code",
   "execution_count": null,
   "id": "afraid-emphasis",
   "metadata": {
    "ExecuteTime": {
     "start_time": "2022-11-01T00:23:22.832Z"
    },
    "code_folding": []
   },
   "outputs": [],
   "source": [
    "# Mostra todos os resultados da célula, não apenas o último\n",
    "from IPython.core.interactiveshell import InteractiveShell\n",
    "from IPython.display import display\n",
    "InteractiveShell.ast_node_interactivity = \"all\"\n",
    "# Truque para consertar caminhos do jupyter: variável __file__ não é definida em IPYTHON.\n",
    "import project_path\n",
    "import logging\n",
    "import os\n",
    "import sys\n",
    "from matplotlib.colors import LogNorm\n",
    "import pandas as pd\n",
    "\n",
    "sys.path.append(os.path.abspath(os.path.join(os.path.split(os.getcwd())[0])))\n",
    "sys.path.append(os.path.abspath(os.path.join(os.path.split(os.getcwd())[0], \"radiotelescope\")))\n",
    "sys.path.append(os.path.abspath(os.path.join(os.path.split(os.getcwd())[0], \"radiotelescope/GNURadio\")))\n",
    "from radiotelescope.observations.observations import Observations as Obs\n",
    "from radiotelescope.instruments import RTLSDRGNU\n",
    "from radiotelescope.observations.observations import RFI_filter, plot_mosaic\n",
    "logger = logging.getLogger(\"radiotelescope\")\n",
    "handler = logging.StreamHandler()\n",
    "formatter = logging.Formatter(\n",
    "        '%(asctime)s %(name)-12s %(levelname)-8s %(message)s')\n",
    "handler.setFormatter(formatter)\n",
    "logger.addHandler(handler)\n",
    "logger.setLevel(logging.DEBUG)"
   ]
  },
  {
   "cell_type": "markdown",
   "id": "16759d13",
   "metadata": {},
   "source": [
    "## Observações HI "
   ]
  },
  {
   "cell_type": "markdown",
   "id": "c7286751",
   "metadata": {},
   "source": [
    "### Corneta Baixa"
   ]
  },
  {
   "cell_type": "code",
   "execution_count": null,
   "id": "hawaiian-rolling",
   "metadata": {
    "ExecuteTime": {
     "start_time": "2022-11-01T00:23:33.821Z"
    }
   },
   "outputs": [],
   "source": [
    "RTLSDRGNU.GNUScript = \"radiotelescope.GNURadio.GNUController\"\n",
    "RTLSDRGNU.name = \"SDR_BAIXA\"\n",
    "RTLSDRGNU.controller.local_folder"
   ]
  },
  {
   "cell_type": "code",
   "execution_count": null,
   "id": "twenty-frank",
   "metadata": {
    "ExecuteTime": {
     "start_time": "2022-11-01T00:23:35.192Z"
    }
   },
   "outputs": [],
   "source": [
    "# SKY\n",
    "scan_dict = {\"rtlsdr\": \"rtl=0\", \n",
    "             \"name\": RTLSDRGNU.controller.local_folder + RTLSDRGNU.name,  # prefixo para salvar os arquivos.\n",
    "             \"vec_length\": 2048,  # resolução espectral.\n",
    "             \"samp_rate\": 2000000,  # amostragem sem perda.\n",
    "             \"gain\": 49.6,  # fixa AGC.\n",
    "             \"freq\": 1420e6,  # Hidrogênio neutro\n",
    "             \"n_integration\": 2000,  # 2s por espectro.\n",
    "             \"n_samples\": 480,  # número de amostras por arquivo.\n",
    "             \"duration\": 1000,  # ~15min\n",
    "             \"csv\": False, \n",
    "             \"fit\": True\n",
    "            }\n",
    "scan_dict_SKY = {**scan_dict, \"mode\": \"59\"}\n",
    "scan_dict_COLD = {**scan_dict, \"mode\": \"01\"}"
   ]
  },
  {
   "cell_type": "markdown",
   "id": "10421a3e",
   "metadata": {
    "ExecuteTime": {
     "end_time": "2022-11-01T00:13:17.993187Z",
     "start_time": "2022-11-01T00:13:17.985523Z"
    }
   },
   "source": [
    "Apontar a corneta para altitude baixa"
   ]
  },
  {
   "cell_type": "code",
   "execution_count": null,
   "id": "stainless-exclusive",
   "metadata": {
    "ExecuteTime": {
     "end_time": "2022-10-28T14:56:44.140495Z",
     "start_time": "2022-10-28T14:56:43.895375Z"
    }
   },
   "outputs": [],
   "source": [
    "RTLSDRGNU.observe(**scan_dict_SKY)"
   ]
  },
  {
   "cell_type": "markdown",
   "id": "d8b37194",
   "metadata": {
    "ExecuteTime": {
     "end_time": "2022-10-28T15:02:47.130645Z",
     "start_time": "2022-10-28T15:02:47.123362Z"
    }
   },
   "source": [
    "Colocar terminação de $50 \\Omega$"
   ]
  },
  {
   "cell_type": "code",
   "execution_count": null,
   "id": "7e53bac9",
   "metadata": {},
   "outputs": [],
   "source": [
    "RTLSDRGNU.observe(**scan_dict_COLD)"
   ]
  },
  {
   "cell_type": "markdown",
   "id": "e1511b84",
   "metadata": {},
   "source": [
    "### Corneta Alta"
   ]
  },
  {
   "cell_type": "code",
   "execution_count": null,
   "id": "a81c7bed",
   "metadata": {
    "ExecuteTime": {
     "end_time": "2022-11-01T00:17:24.447762Z",
     "start_time": "2022-11-01T00:17:24.440898Z"
    }
   },
   "outputs": [],
   "source": [
    "RTLSDRGNU.name = \"SDR_ALTA\"\n",
    "scan_dict_SKY = {**scan_dict, \"name\": RTLSDRGNU.controller.local_folder + RTLSDRGNU.name}\n",
    "scan_dict_COLD = {**scan_dict, \"name\": RTLSDRGNU.controller.local_folder + RTLSDRGNU.name}"
   ]
  },
  {
   "cell_type": "markdown",
   "id": "e02f2ede",
   "metadata": {},
   "source": [
    "Aponte a corneta para Altitude alta"
   ]
  },
  {
   "cell_type": "code",
   "execution_count": null,
   "id": "9bf9a283",
   "metadata": {},
   "outputs": [],
   "source": [
    "RTLSDRGNU.observe(**scan_dict_SKY)"
   ]
  },
  {
   "cell_type": "markdown",
   "id": "916aaaa9",
   "metadata": {},
   "source": [
    "Colocar terminação de $50 \\Omega$"
   ]
  },
  {
   "cell_type": "code",
   "execution_count": null,
   "id": "operational-break",
   "metadata": {
    "ExecuteTime": {
     "end_time": "2022-10-28T15:07:04.565853Z",
     "start_time": "2022-10-28T15:07:04.278264Z"
    }
   },
   "outputs": [],
   "source": [
    "RTLSDRGNU.observe(**scan_dict_COLD)"
   ]
  },
  {
   "cell_type": "markdown",
   "id": "4f6f8f5d",
   "metadata": {},
   "source": [
    "## Analisando Dados"
   ]
  },
  {
   "cell_type": "markdown",
   "id": "6b4c07fd",
   "metadata": {},
   "source": [
    "#### Corneta Baixa"
   ]
  },
  {
   "cell_type": "code",
   "execution_count": null,
   "id": "desperate-tattoo",
   "metadata": {
    "ExecuteTime": {
     "end_time": "2022-10-31T17:13:49.261425Z",
     "start_time": "2022-10-31T17:13:48.954581Z"
    }
   },
   "outputs": [],
   "source": [
    "obs = Obs(duration=pd.Timedelta(24, unit=\"h\")).initialize()\n",
    "obs.backend = RTLSDRGNU\n",
    "RTLSDRGNU.name = \"SDR_BAIXA\"\n",
    "obs.load_observation(extension=\"fit\");\n",
    "df_baixa = obs.data"
   ]
  },
  {
   "cell_type": "code",
   "execution_count": null,
   "id": "e944745c",
   "metadata": {
    "ExecuteTime": {
     "end_time": "2022-10-31T17:13:56.603812Z",
     "start_time": "2022-10-31T17:13:49.959013Z"
    }
   },
   "outputs": [],
   "source": [
    "obs.plot_waterfall(obs.data, norm=LogNorm());"
   ]
  },
  {
   "cell_type": "code",
   "execution_count": null,
   "id": "plastic-simon",
   "metadata": {
    "ExecuteTime": {
     "end_time": "2022-10-31T17:15:13.849328Z",
     "start_time": "2022-10-31T17:13:58.154354Z"
    }
   },
   "outputs": [],
   "source": [
    "df_cal, _ = obs.calibrate(data=obs.data, T_rx=300)\n",
    "df_rfi, _, _ = RFI_filter(df_cal, threshold=3, window=100)"
   ]
  },
  {
   "cell_type": "code",
   "execution_count": null,
   "id": "ranging-harris",
   "metadata": {
    "ExecuteTime": {
     "end_time": "2022-10-31T17:15:19.559693Z",
     "start_time": "2022-10-31T17:15:13.852920Z"
    }
   },
   "outputs": [],
   "source": [
    "obs.plot_waterfall(df_cal, norm=LogNorm());"
   ]
  },
  {
   "cell_type": "code",
   "execution_count": null,
   "id": "preceding-photograph",
   "metadata": {
    "ExecuteTime": {
     "end_time": "2022-10-31T17:15:32.559547Z",
     "start_time": "2022-10-31T17:15:19.562535Z"
    }
   },
   "outputs": [],
   "source": [
    "plot_mosaic([obs.data, df_cal, df_rfi], norm=LogNorm());"
   ]
  },
  {
   "cell_type": "code",
   "execution_count": null,
   "id": "wrong-roulette",
   "metadata": {
    "ExecuteTime": {
     "end_time": "2022-10-31T17:15:56.406652Z",
     "start_time": "2022-10-31T17:15:53.211892Z"
    }
   },
   "outputs": [],
   "source": [
    "obs.make_sky().sky.plot_timeseries(obs.data, interval=\"30s\");"
   ]
  },
  {
   "cell_type": "markdown",
   "id": "1d66d2ca",
   "metadata": {},
   "source": [
    "#### Corneta Alta"
   ]
  },
  {
   "cell_type": "code",
   "execution_count": null,
   "id": "ca5b4768",
   "metadata": {},
   "outputs": [],
   "source": [
    "obs = Obs(duration=pd.Timedelta(24, unit=\"h\")).initialize()\n",
    "obs.backend = RTLSDRGNU\n",
    "RTLSDRGNU.name = \"SDR_ALTA\"\n",
    "obs.load_observation(extension=\"fit\");\n",
    "df_alta = obs.data"
   ]
  },
  {
   "cell_type": "code",
   "execution_count": null,
   "id": "2ddf5608",
   "metadata": {},
   "outputs": [],
   "source": [
    "obs.plot_waterfall(obs.data, norm=LogNorm());"
   ]
  },
  {
   "cell_type": "code",
   "execution_count": null,
   "id": "9c2aad13",
   "metadata": {},
   "outputs": [],
   "source": [
    "df_cal, _ = obs.calibrate(data=obs.data, T_rx=300)\n",
    "df_rfi, _, _ = RFI_filter(df_cal, threshold=3, window=100)"
   ]
  },
  {
   "cell_type": "code",
   "execution_count": null,
   "id": "7fd406fa",
   "metadata": {},
   "outputs": [],
   "source": [
    "obs.plot_waterfall(df_cal, norm=LogNorm());"
   ]
  },
  {
   "cell_type": "code",
   "execution_count": null,
   "id": "1d285376",
   "metadata": {},
   "outputs": [],
   "source": [
    "plot_mosaic([obs.data, df_cal, df_rfi], norm=LogNorm());"
   ]
  },
  {
   "cell_type": "code",
   "execution_count": null,
   "id": "aac31da2",
   "metadata": {},
   "outputs": [],
   "source": [
    "obs.make_sky().sky.plot_timeseries(obs.data, interval=\"30s\");"
   ]
  },
  {
   "cell_type": "markdown",
   "id": "2a8dd459",
   "metadata": {},
   "source": [
    "### Comparando Observações"
   ]
  },
  {
   "cell_type": "code",
   "execution_count": null,
   "id": "ddeae7d9",
   "metadata": {},
   "outputs": [],
   "source": [
    "plot_mosaic([df_baixa, df_alta], norm=LogNorm());"
   ]
  }
 ],
 "metadata": {
  "hide_input": false,
  "kernelspec": {
   "display_name": "GNURADIO3.10",
   "language": "python",
   "name": "gnuradio3.10"
  },
  "language_info": {
   "codemirror_mode": {
    "name": "ipython",
    "version": 3
   },
   "file_extension": ".py",
   "mimetype": "text/x-python",
   "name": "python",
   "nbconvert_exporter": "python",
   "pygments_lexer": "ipython3",
   "version": "3.10.6"
  },
  "latex_envs": {
   "LaTeX_envs_menu_present": true,
   "autoclose": true,
   "autocomplete": false,
   "bibliofile": "biblio.bib",
   "cite_by": "apalike",
   "current_citInitial": 1,
   "eqLabelWithNumbers": true,
   "eqNumInitial": 1,
   "hotkeys": {
    "equation": "Ctrl-E",
    "itemize": "Ctrl-I"
   },
   "labels_anchors": false,
   "latex_user_defs": false,
   "report_style_numbering": true,
   "user_envs_cfg": false
  },
  "toc": {
   "base_numbering": 1,
   "nav_menu": {},
   "number_sections": false,
   "sideBar": true,
   "skip_h1_title": true,
   "title_cell": "Table of Contents",
   "title_sidebar": "Contents",
   "toc_cell": false,
   "toc_position": {},
   "toc_section_display": true,
   "toc_window_display": false
  }
 },
 "nbformat": 4,
 "nbformat_minor": 5
}
