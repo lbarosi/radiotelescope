{
 "cells": [
  {
   "cell_type": "markdown",
   "id": "compressed-harris",
   "metadata": {},
   "source": [
    "# Testando funções"
   ]
  },
  {
   "cell_type": "code",
   "execution_count": 1,
   "id": "hearing-algebra",
   "metadata": {
    "ExecuteTime": {
     "end_time": "2022-09-07T18:16:12.683641Z",
     "start_time": "2022-09-07T18:16:12.017668Z"
    }
   },
   "outputs": [],
   "source": [
    "# Mostra todos os resultados da célula, não apenas o último\n",
    "from IPython.core.interactiveshell import InteractiveShell\n",
    "from IPython.display import display\n",
    "InteractiveShell.ast_node_interactivity = \"all\"\n",
    "# Truque para consertar caminhos do jupyter: variável __file__ não é definida em IPYTHON.\n",
    "import project_path\n",
    "from datetime import datetime\n",
    "import os\n",
    "import sys\n",
    "import getpass\n",
    "import pandas as pd\n",
    "import numpy as np\n",
    "from importlib import reload\n",
    "import time\n",
    "from astropy import units as u\n",
    "from pytz import timezone\n",
    "\n",
    "sys.path.append(os.path.abspath(os.path.join(os.path.split(os.getcwd())[0])))\n",
    "sys.path.append(os.path.abspath(os.path.join(os.path.split(os.getcwd())[0], \"radiotelescope\")))"
   ]
  },
  {
   "cell_type": "code",
   "execution_count": 23,
   "id": "coordinated-civilization",
   "metadata": {
    "ExecuteTime": {
     "end_time": "2022-09-07T18:45:51.622312Z",
     "start_time": "2022-09-07T18:45:51.610548Z"
    }
   },
   "outputs": [
    {
     "data": {
      "text/plain": [
       "<module 'radiotelescope.misc.multiprocess' from '/home/lbarosi/BAROSI/HOME/6000_PYTHONIA/2_Doing/radiotelescope/radiotelescope/misc/multiprocess.py'>"
      ]
     },
     "execution_count": 23,
     "metadata": {},
     "output_type": "execute_result"
    }
   ],
   "source": [
    "import radiotelescope\n",
    "import radiotelescope.netutils as netutils\n",
    "import radiotelescope.misc.multiprocess as multiprocess\n",
    "import radiotelescope.misc.utils as utils\n",
    "# reload(radiotelescope)\n",
    "# reload(netutils)\n",
    "reload(multiprocess)\n",
    "# reload(utils)"
   ]
  },
  {
   "cell_type": "markdown",
   "id": "connected-corporation",
   "metadata": {},
   "source": [
    "### MISC - Todas as classes, métodos e funções testadas, documentadas e funcionando."
   ]
  },
  {
   "cell_type": "markdown",
   "id": "composed-wichita",
   "metadata": {},
   "source": [
    "#### Multiprocess"
   ]
  },
  {
   "cell_type": "code",
   "execution_count": 5,
   "id": "promotional-freeware",
   "metadata": {
    "ExecuteTime": {
     "end_time": "2022-09-07T18:19:04.450271Z",
     "start_time": "2022-09-07T18:18:59.432707Z"
    }
   },
   "outputs": [
    {
     "data": {
      "text/plain": [
       "(b'', b'')"
      ]
     },
     "execution_count": 5,
     "metadata": {},
     "output_type": "execute_result"
    }
   ],
   "source": [
    "netutils.run_command(\"sleep 5\")"
   ]
  },
  {
   "cell_type": "code",
   "execution_count": 6,
   "id": "developmental-strike",
   "metadata": {
    "ExecuteTime": {
     "end_time": "2022-09-07T18:19:47.227601Z",
     "start_time": "2022-09-07T18:19:17.184171Z"
    }
   },
   "outputs": [
    {
     "name": "stdout",
     "output_type": "stream",
     "text": [
      "processo 51070 rodando.\n",
      "processo 51070 rodando.\n",
      "processo 51070 rodando.\n",
      "processo terminado em 30.020617 segundos.\n"
     ]
    }
   ],
   "source": [
    "multiprocess.run_progress(target=netutils.run_command, interval=10, command=\"sleep 30\")"
   ]
  },
  {
   "cell_type": "code",
   "execution_count": 25,
   "id": "piano-reducing",
   "metadata": {
    "ExecuteTime": {
     "end_time": "2022-09-07T18:47:40.182623Z",
     "start_time": "2022-09-07T18:47:40.162103Z"
    }
   },
   "outputs": [
    {
     "name": "stdout",
     "output_type": "stream",
     "text": [
      "processo 52947 rodando.\n",
      "processo 52947 rodando.\n",
      "processo 52947 rodando.\n",
      "processo 52947 rodando.\n",
      "processo 52947 rodando.\n",
      "processo 52947 rodando.\n",
      "processo 52947 rodando.\n",
      "processo 52947 rodando.\n",
      "processo 52947 rodando.\n",
      "processo 52947 rodando.\n",
      "processo terminado em 20.054211 segundos.\n"
     ]
    }
   ],
   "source": [
    "multiprocess.run_detached(target=netutils.run_command, interval=2, command=\"sleep 20\", monitor=True)"
   ]
  },
  {
   "cell_type": "code",
   "execution_count": 18,
   "id": "unexpected-commitment",
   "metadata": {
    "ExecuteTime": {
     "end_time": "2022-09-07T18:33:56.862707Z",
     "start_time": "2022-09-07T18:33:56.844927Z"
    }
   },
   "outputs": [],
   "source": [
    "multiprocess.run_detached(thread=netutils.run_command, command=\"find ../../\", monitor=False)"
   ]
  },
  {
   "cell_type": "code",
   "execution_count": 15,
   "id": "burning-reference",
   "metadata": {
    "ExecuteTime": {
     "end_time": "2022-09-07T18:32:20.276132Z",
     "start_time": "2022-09-07T18:32:00.235588Z"
    }
   },
   "outputs": [
    {
     "name": "stdout",
     "output_type": "stream",
     "text": [
      "Programa 52052 rodando.\n",
      "Programa 52052 rodando.\n",
      "Programa 52052 rodando.\n",
      "Programa 52052 rodando.\n",
      "processo terminado em 20.017848 segundos.\n"
     ]
    },
    {
     "data": {
      "text/plain": [
       "52052"
      ]
     },
     "execution_count": 15,
     "metadata": {},
     "output_type": "execute_result"
    }
   ],
   "source": [
    "teste = multiprocess.run_daemon(thread=netutils.run_command, command=\"sleep 20\")\n",
    "teste.pid"
   ]
  },
  {
   "cell_type": "markdown",
   "id": "animal-table",
   "metadata": {},
   "source": [
    "#### utils"
   ]
  },
  {
   "cell_type": "code",
   "execution_count": 9,
   "id": "foster-stuff",
   "metadata": {
    "ExecuteTime": {
     "end_time": "2022-09-06T10:56:50.877262Z",
     "start_time": "2022-09-06T10:56:50.856780Z"
    }
   },
   "outputs": [
    {
     "data": {
      "text/plain": [
       "900.0"
      ]
     },
     "execution_count": 9,
     "metadata": {},
     "output_type": "execute_result"
    },
    {
     "data": {
      "text/plain": [
       "4500.0"
      ]
     },
     "execution_count": 9,
     "metadata": {},
     "output_type": "execute_result"
    },
    {
     "data": {
      "text/plain": [
       "15.0"
      ]
     },
     "execution_count": 9,
     "metadata": {},
     "output_type": "execute_result"
    },
    {
     "data": {
      "text/plain": [
       "86400.0"
      ]
     },
     "execution_count": 9,
     "metadata": {},
     "output_type": "execute_result"
    }
   ],
   "source": [
    "from datetime import datetime, timedelta\n",
    "utils.parse_time(\"15m\")\n",
    "utils.parse_time(\"1h15m\")\n",
    "utils.parse_time(15 * u.s)\n",
    "utils.parse_time(timedelta(days = 1))"
   ]
  },
  {
   "cell_type": "code",
   "execution_count": 10,
   "id": "unavailable-sunglasses",
   "metadata": {
    "ExecuteTime": {
     "end_time": "2022-09-06T10:56:51.572788Z",
     "start_time": "2022-09-06T10:56:51.566360Z"
    }
   },
   "outputs": [
    {
     "data": {
      "text/plain": [
       "1.5e-08"
      ]
     },
     "execution_count": 10,
     "metadata": {},
     "output_type": "execute_result"
    }
   ],
   "source": [
    "utils.parse_time(\"15\")"
   ]
  },
  {
   "cell_type": "code",
   "execution_count": 11,
   "id": "voluntary-knife",
   "metadata": {
    "ExecuteTime": {
     "end_time": "2022-09-06T10:56:52.108583Z",
     "start_time": "2022-09-06T10:56:52.057183Z"
    }
   },
   "outputs": [
    {
     "data": {
      "text/plain": [
       "['13673']"
      ]
     },
     "execution_count": 11,
     "metadata": {},
     "output_type": "execute_result"
    }
   ],
   "source": [
    "utils.get_PID(\"jupyter\")"
   ]
  },
  {
   "cell_type": "code",
   "execution_count": 12,
   "id": "painted-ability",
   "metadata": {
    "ExecuteTime": {
     "end_time": "2022-09-06T10:56:52.811592Z",
     "start_time": "2022-09-06T10:56:52.805777Z"
    }
   },
   "outputs": [],
   "source": [
    "# Estudar possibilidade de criar função is_running"
   ]
  },
  {
   "cell_type": "markdown",
   "id": "b8effe7f",
   "metadata": {},
   "source": [
    "### Controller - Todas as classes, métodos e funções testadas, documentadas e funcionando."
   ]
  },
  {
   "cell_type": "code",
   "execution_count": 13,
   "id": "90773c9b",
   "metadata": {
    "ExecuteTime": {
     "end_time": "2022-09-06T10:56:57.692444Z",
     "start_time": "2022-09-06T10:56:54.573730Z"
    }
   },
   "outputs": [
    {
     "name": "stdout",
     "output_type": "stream",
     "text": [
      "Verificando dados da máquina local:\n",
      "IP: 192.168.15.49\n",
      "MAC: d8:77:8b:fe:35:20\n",
      "OS: Linux\n",
      "Comando executado com sucesso.\n",
      "INPUT: ls -la | OUTPUT: total 64\n",
      "\n",
      "INPUT: ls -la | OUTPUT: drwxr-xr-x 8 bingo bingo 4096 Sep  6 07:43 .\n",
      "\n",
      "INPUT: ls -la | OUTPUT: drwxr-xr-x 5 root  root  4096 May  6 16:19 ..\n",
      "\n",
      "INPUT: ls -la | OUTPUT: drwxr-xr-x 3 bingo bingo 4096 May  7 20:25 .astropy\n",
      "\n",
      "INPUT: ls -la | OUTPUT: -rw------- 1 bingo bingo 4523 May  8 15:10 .bash_history\n",
      "\n",
      "INPUT: ls -la | OUTPUT: -rw-r--r-- 1 bingo bingo  220 May  6 15:33 .bash_logout\n",
      "\n",
      "INPUT: ls -la | OUTPUT: -rw-r--r-- 1 bingo bingo 3523 May  6 15:33 .bashrc\n",
      "\n",
      "INPUT: ls -la | OUTPUT: drwx------ 3 bingo bingo 4096 Sep  6 07:41 .config\n",
      "\n",
      "INPUT: ls -la | OUTPUT: -rw-r--r-- 1 bingo bingo  462 May  8 22:47 .gr_fftw_wisdom\n",
      "\n",
      "INPUT: ls -la | OUTPUT: -rw-r--r-- 1 bingo bingo    0 May  8 14:53 .gr_fftw_wisdom.lock\n",
      "\n",
      "INPUT: ls -la | OUTPUT: drwxr-xr-x 3 bingo bingo 4096 May  7 19:24 .local\n",
      "\n",
      "INPUT: ls -la | OUTPUT: -rw-r--r-- 1 bingo bingo 1670 May  6 15:33 .mkshrc\n",
      "\n",
      "INPUT: ls -la | OUTPUT: -rw-r--r-- 1 bingo bingo  807 May  6 15:33 .profile\n",
      "\n",
      "INPUT: ls -la | OUTPUT: -rw------- 1 bingo bingo  834 May  8 14:53 .python_history\n",
      "\n",
      "INPUT: ls -la | OUTPUT: drwxr-xr-x 2 bingo bingo 4096 Aug 31 17:02 SDR\n",
      "\n",
      "INPUT: ls -la | OUTPUT: drwx------ 2 bingo bingo 4096 May 14 07:01 .ssh\n",
      "\n",
      "INPUT: ls -la | OUTPUT: drwxr-xr-x 2 bingo bingo 4096 Sep  6 07:44 teste\n",
      "\n"
     ]
    },
    {
     "data": {
      "text/plain": [
       "['total 64\\n',\n",
       " 'drwxr-xr-x 8 bingo bingo 4096 Sep  6 07:43 .\\n',\n",
       " 'drwxr-xr-x 5 root  root  4096 May  6 16:19 ..\\n',\n",
       " 'drwxr-xr-x 3 bingo bingo 4096 May  7 20:25 .astropy\\n',\n",
       " '-rw------- 1 bingo bingo 4523 May  8 15:10 .bash_history\\n',\n",
       " '-rw-r--r-- 1 bingo bingo  220 May  6 15:33 .bash_logout\\n',\n",
       " '-rw-r--r-- 1 bingo bingo 3523 May  6 15:33 .bashrc\\n',\n",
       " 'drwx------ 3 bingo bingo 4096 Sep  6 07:41 .config\\n',\n",
       " '-rw-r--r-- 1 bingo bingo  462 May  8 22:47 .gr_fftw_wisdom\\n',\n",
       " '-rw-r--r-- 1 bingo bingo    0 May  8 14:53 .gr_fftw_wisdom.lock\\n',\n",
       " 'drwxr-xr-x 3 bingo bingo 4096 May  7 19:24 .local\\n',\n",
       " '-rw-r--r-- 1 bingo bingo 1670 May  6 15:33 .mkshrc\\n',\n",
       " '-rw-r--r-- 1 bingo bingo  807 May  6 15:33 .profile\\n',\n",
       " '-rw------- 1 bingo bingo  834 May  8 14:53 .python_history\\n',\n",
       " 'drwxr-xr-x 2 bingo bingo 4096 Aug 31 17:02 SDR\\n',\n",
       " 'drwx------ 2 bingo bingo 4096 May 14 07:01 .ssh\\n',\n",
       " 'drwxr-xr-x 2 bingo bingo 4096 Sep  6 07:44 teste\\n']"
      ]
     },
     "execution_count": 13,
     "metadata": {},
     "output_type": "execute_result"
    },
    {
     "data": {
      "text/html": [
       "<div>\n",
       "<style scoped>\n",
       "    .dataframe tbody tr th:only-of-type {\n",
       "        vertical-align: middle;\n",
       "    }\n",
       "\n",
       "    .dataframe tbody tr th {\n",
       "        vertical-align: top;\n",
       "    }\n",
       "\n",
       "    .dataframe thead th {\n",
       "        text-align: right;\n",
       "    }\n",
       "</style>\n",
       "<table border=\"1\" class=\"dataframe\">\n",
       "  <thead>\n",
       "    <tr style=\"text-align: right;\">\n",
       "      <th></th>\n",
       "      <th>IP</th>\n",
       "      <th>MAC</th>\n",
       "    </tr>\n",
       "  </thead>\n",
       "  <tbody>\n",
       "    <tr>\n",
       "      <th>0</th>\n",
       "      <td>192.168.15.1</td>\n",
       "      <td>D8:C6:78:DA:8D:28</td>\n",
       "    </tr>\n",
       "    <tr>\n",
       "      <th>1</th>\n",
       "      <td>192.168.15.81</td>\n",
       "      <td>B8:27:EB:E8:A8:D4</td>\n",
       "    </tr>\n",
       "    <tr>\n",
       "      <th>2</th>\n",
       "      <td>192.168.15.166</td>\n",
       "      <td>D4:F5:47:0D:43:99</td>\n",
       "    </tr>\n",
       "  </tbody>\n",
       "</table>\n",
       "</div>"
      ],
      "text/plain": [
       "               IP                MAC\n",
       "0    192.168.15.1  D8:C6:78:DA:8D:28\n",
       "1   192.168.15.81  B8:27:EB:E8:A8:D4\n",
       "2  192.168.15.166  D4:F5:47:0D:43:99"
      ]
     },
     "execution_count": 13,
     "metadata": {},
     "output_type": "execute_result"
    }
   ],
   "source": [
    "local_01 = radiotelescope.LinuxBox(\n",
    "                    name=\"pergamon\",\n",
    "                    interface=\"WAN\",\n",
    "                    user=\"bingo\", \n",
    "                    remote_port=22, \n",
    "                    remote_IP = \"192.168.15.81\", \n",
    "                    local_folder = \"./teste/\",\n",
    "                    remote_folder = \"~/SDR/\"\n",
    "                    ).get_info().connect()\n",
    "local_01.remote.run(command=\"ls -la\")\n",
    "local_01.scan_LAN()\n",
    "#local_01.sinc_files();"
   ]
  },
  {
   "cell_type": "code",
   "execution_count": 14,
   "id": "spatial-writing",
   "metadata": {
    "ExecuteTime": {
     "end_time": "2022-09-06T10:57:04.771828Z",
     "start_time": "2022-09-06T10:57:04.102732Z"
    }
   },
   "outputs": [
    {
     "name": "stdout",
     "output_type": "stream",
     "text": [
      "Sincronizando dados: ~/SDR/ -> ./teste/.\n"
     ]
    }
   ],
   "source": [
    "local_01.sync_files()"
   ]
  },
  {
   "cell_type": "code",
   "execution_count": 15,
   "id": "closed-gates",
   "metadata": {
    "ExecuteTime": {
     "end_time": "2022-09-06T10:57:08.627045Z",
     "start_time": "2022-09-06T10:57:08.224020Z"
    }
   },
   "outputs": [
    {
     "name": "stdout",
     "output_type": "stream",
     "text": [
      "Sincronizando dados: ./teste/ -> ~/SDR/.\n"
     ]
    }
   ],
   "source": [
    "local_01.sync_files(origin=\"local\")"
   ]
  },
  {
   "cell_type": "code",
   "execution_count": 16,
   "id": "extended-dominant",
   "metadata": {
    "ExecuteTime": {
     "end_time": "2022-09-06T10:57:10.261455Z",
     "start_time": "2022-09-06T10:57:10.255409Z"
    }
   },
   "outputs": [
    {
     "name": "stdout",
     "output_type": "stream",
     "text": [
      "Você deve escolher `origin` local ou remote.\n"
     ]
    }
   ],
   "source": [
    "local_01.sync_files(origin=\"ba\")"
   ]
  },
  {
   "cell_type": "markdown",
   "id": "d2359333",
   "metadata": {},
   "source": [
    "### Instrument - Todas as classes, métodos e funções testadas, documentadas e funcionando."
   ]
  },
  {
   "cell_type": "code",
   "execution_count": 17,
   "id": "001f1423",
   "metadata": {
    "ExecuteTime": {
     "end_time": "2022-09-06T10:57:13.033607Z",
     "start_time": "2022-09-06T10:57:12.783805Z"
    }
   },
   "outputs": [],
   "source": [
    "import pytz\n",
    "lat= -7.211637 * u.deg;\n",
    "lon= -35.908138 * u.deg;\n",
    "elev= 553 * u.m\n",
    "Alt= 84\n",
    "Az=0\n",
    "fwhm = 15\n",
    "timezone = pytz.timezone(\"America/Recife\")\n",
    "minihorn = radiotelescope.Instrument(name='Uirapuru', lon=lon, lat=lat, elev=elev, timezone=timezone, \n",
    "                      verbose=True, Alt=Alt, Az=Az, fwhm = fwhm)"
   ]
  },
  {
   "cell_type": "markdown",
   "id": "c2ea55b7",
   "metadata": {},
   "source": [
    "## Backend"
   ]
  },
  {
   "cell_type": "markdown",
   "id": "fe21c233",
   "metadata": {},
   "source": [
    "### RTLSDR"
   ]
  },
  {
   "cell_type": "markdown",
   "id": "negative-drive",
   "metadata": {},
   "source": [
    "Preparando Backend:\n",
    "- Inicia Controlador\n",
    "- Inicia Instrument\n",
    "- Define dicionário de modos"
   ]
  },
  {
   "cell_type": "markdown",
   "id": "greenhouse-adrian",
   "metadata": {},
   "source": [
    "#### Inicialização do Backend"
   ]
  },
  {
   "cell_type": "code",
   "execution_count": 18,
   "id": "removed-procedure",
   "metadata": {
    "ExecuteTime": {
     "end_time": "2022-09-06T10:57:21.056297Z",
     "start_time": "2022-09-06T10:57:20.279279Z"
    }
   },
   "outputs": [
    {
     "name": "stdout",
     "output_type": "stream",
     "text": [
      "Verificando dados da máquina local:\n",
      "IP: 192.168.15.49\n",
      "MAC: d8:77:8b:fe:35:20\n",
      "OS: Linux\n"
     ]
    }
   ],
   "source": [
    "# Definindo Controlador local ligado a raspberry remoto.\n",
    "pergamon = radiotelescope.LinuxBox(\n",
    "    name=\"pergamon\", \n",
    "    interface=\"WAN\", \n",
    "    user=\"bingo\", \n",
    "    remote_port=22, \n",
    "    remote_IP = \"192.168.15.81\",\n",
    "    local_folder = \"../data/raw/RTLSDR/\",\n",
    "    remote_folder = \"~/SDR/\"\n",
    ").get_info().connect()\n",
    "# Definindo Instrumento\n",
    "import pytz\n",
    "lat= -7.211637 * u.deg;\n",
    "lon= -35.908138 * u.deg;\n",
    "elev= 553 * u.m\n",
    "Alt= 84\n",
    "Az=0\n",
    "fwhm = 15\n",
    "timezone = pytz.timezone(\"America/Recife\")\n",
    "minihorn = radiotelescope.Instrument(name='Cornetinha', lon=lon, lat=lat, elev=elev, timezone=timezone, \n",
    "                      verbose=True, Alt=Alt, Az=Az, fwhm = fwhm)\n",
    "# Definindo Modos\n",
    "modes = {\"COLD\":\"01\", \"WARM\":\"02\", \"HOT\":\"03\", \"SKY\":\"59\"}"
   ]
  },
  {
   "cell_type": "code",
   "execution_count": 19,
   "id": "crude-projector",
   "metadata": {
    "ExecuteTime": {
     "end_time": "2022-09-06T10:57:23.462135Z",
     "start_time": "2022-09-06T10:57:23.407303Z"
    }
   },
   "outputs": [
    {
     "data": {
      "text/plain": [
       "<radiotelescope.backend.rtlsdrbackend.RTLSDRpowerBackend at 0x7f70660f7f70>"
      ]
     },
     "execution_count": 19,
     "metadata": {},
     "output_type": "execute_result"
    },
    {
     "data": {
      "text/html": [
       "<div>\n",
       "<style scoped>\n",
       "    .dataframe tbody tr th:only-of-type {\n",
       "        vertical-align: middle;\n",
       "    }\n",
       "\n",
       "    .dataframe tbody tr th {\n",
       "        vertical-align: top;\n",
       "    }\n",
       "\n",
       "    .dataframe thead th {\n",
       "        text-align: right;\n",
       "    }\n",
       "</style>\n",
       "<table border=\"1\" class=\"dataframe\">\n",
       "  <thead>\n",
       "    <tr style=\"text-align: right;\">\n",
       "      <th></th>\n",
       "      <th>files</th>\n",
       "      <th>mode</th>\n",
       "    </tr>\n",
       "    <tr>\n",
       "      <th>timestamps</th>\n",
       "      <th></th>\n",
       "      <th></th>\n",
       "    </tr>\n",
       "  </thead>\n",
       "  <tbody>\n",
       "    <tr>\n",
       "      <th>2022-05-01 13:50:46+00:00</th>\n",
       "      <td>../data/raw/RTLSDR/SDR_01_20220501_135046_59.csv</td>\n",
       "      <td>59</td>\n",
       "    </tr>\n",
       "    <tr>\n",
       "      <th>2022-05-01 13:51:34+00:00</th>\n",
       "      <td>../data/raw/RTLSDR/SDR_01_20220501_135134_59.csv</td>\n",
       "      <td>59</td>\n",
       "    </tr>\n",
       "    <tr>\n",
       "      <th>2022-05-01 13:52:24+00:00</th>\n",
       "      <td>../data/raw/RTLSDR/SDR_01_20220501_135224_59.csv</td>\n",
       "      <td>59</td>\n",
       "    </tr>\n",
       "    <tr>\n",
       "      <th>2022-05-01 13:58:25+00:00</th>\n",
       "      <td>../data/raw/RTLSDR/SDR_01_20220501_135825_59.csv</td>\n",
       "      <td>59</td>\n",
       "    </tr>\n",
       "    <tr>\n",
       "      <th>2022-05-01 13:58:53+00:00</th>\n",
       "      <td>../data/raw/RTLSDR/SDR_01_20220501_135853_59.fit</td>\n",
       "      <td>59</td>\n",
       "    </tr>\n",
       "    <tr>\n",
       "      <th>2022-05-01 13:58:53+00:00</th>\n",
       "      <td>../data/raw/RTLSDR/SDR_01_20220501_135853_59.csv</td>\n",
       "      <td>59</td>\n",
       "    </tr>\n",
       "    <tr>\n",
       "      <th>2022-05-01 20:21:59+00:00</th>\n",
       "      <td>../data/raw/RTLSDR/SDR_01_20220501_202159_01.csv</td>\n",
       "      <td>01</td>\n",
       "    </tr>\n",
       "    <tr>\n",
       "      <th>2022-08-31 17:00:30+00:00</th>\n",
       "      <td>../data/raw/RTLSDR/SDR_01_20220831_170030_59.csv</td>\n",
       "      <td>59</td>\n",
       "    </tr>\n",
       "    <tr>\n",
       "      <th>2022-08-31 17:01:14+00:00</th>\n",
       "      <td>../data/raw/RTLSDR/SDR_01_20220831_170114_59.csv</td>\n",
       "      <td>59</td>\n",
       "    </tr>\n",
       "    <tr>\n",
       "      <th>2022-08-31 17:01:41+00:00</th>\n",
       "      <td>../data/raw/RTLSDR/SDR_01_20220831_170141_59.csv</td>\n",
       "      <td>59</td>\n",
       "    </tr>\n",
       "    <tr>\n",
       "      <th>2022-08-31 17:02:29+00:00</th>\n",
       "      <td>../data/raw/RTLSDR/SDR_01_20220831_170229_01.csv</td>\n",
       "      <td>01</td>\n",
       "    </tr>\n",
       "  </tbody>\n",
       "</table>\n",
       "</div>"
      ],
      "text/plain": [
       "                                                                      files  \\\n",
       "timestamps                                                                    \n",
       "2022-05-01 13:50:46+00:00  ../data/raw/RTLSDR/SDR_01_20220501_135046_59.csv   \n",
       "2022-05-01 13:51:34+00:00  ../data/raw/RTLSDR/SDR_01_20220501_135134_59.csv   \n",
       "2022-05-01 13:52:24+00:00  ../data/raw/RTLSDR/SDR_01_20220501_135224_59.csv   \n",
       "2022-05-01 13:58:25+00:00  ../data/raw/RTLSDR/SDR_01_20220501_135825_59.csv   \n",
       "2022-05-01 13:58:53+00:00  ../data/raw/RTLSDR/SDR_01_20220501_135853_59.fit   \n",
       "2022-05-01 13:58:53+00:00  ../data/raw/RTLSDR/SDR_01_20220501_135853_59.csv   \n",
       "2022-05-01 20:21:59+00:00  ../data/raw/RTLSDR/SDR_01_20220501_202159_01.csv   \n",
       "2022-08-31 17:00:30+00:00  ../data/raw/RTLSDR/SDR_01_20220831_170030_59.csv   \n",
       "2022-08-31 17:01:14+00:00  ../data/raw/RTLSDR/SDR_01_20220831_170114_59.csv   \n",
       "2022-08-31 17:01:41+00:00  ../data/raw/RTLSDR/SDR_01_20220831_170141_59.csv   \n",
       "2022-08-31 17:02:29+00:00  ../data/raw/RTLSDR/SDR_01_20220831_170229_01.csv   \n",
       "\n",
       "                          mode  \n",
       "timestamps                      \n",
       "2022-05-01 13:50:46+00:00   59  \n",
       "2022-05-01 13:51:34+00:00   59  \n",
       "2022-05-01 13:52:24+00:00   59  \n",
       "2022-05-01 13:58:25+00:00   59  \n",
       "2022-05-01 13:58:53+00:00   59  \n",
       "2022-05-01 13:58:53+00:00   59  \n",
       "2022-05-01 20:21:59+00:00   01  \n",
       "2022-08-31 17:00:30+00:00   59  \n",
       "2022-08-31 17:01:14+00:00   59  \n",
       "2022-08-31 17:01:41+00:00   59  \n",
       "2022-08-31 17:02:29+00:00   01  "
      ]
     },
     "execution_count": 19,
     "metadata": {},
     "output_type": "execute_result"
    }
   ],
   "source": [
    "# Backend RTLSDR com dongle ligado em controlador local.\n",
    "SDR_01 = radiotelescope.RTLSDRpowerBackend(controller=pergamon, instrument=minihorn, modes = modes, name=\"SDR_01\");\n",
    "SDR_01._get_filenames();\n",
    "SDR_01.filenames"
   ]
  },
  {
   "cell_type": "markdown",
   "id": "subtle-correction",
   "metadata": {},
   "source": [
    "#### Observação LOCAL"
   ]
  },
  {
   "cell_type": "code",
   "execution_count": 20,
   "id": "homeless-cutting",
   "metadata": {
    "ExecuteTime": {
     "end_time": "2022-09-06T10:57:45.758911Z",
     "start_time": "2022-09-06T10:57:43.700198Z"
    }
   },
   "outputs": [
    {
     "name": "stdout",
     "output_type": "stream",
     "text": [
      "rtl_power -f 800M:1200M:1M -g50 -i 1s -e 20s ../data/raw/RTLSDR/SDR_01_20220906_075743_59.csv\n",
      "rtl_power -f 800M:1200M:1M -g50 -i 1s -e 20s ../data/raw/RTLSDR/SDR_01_20220906_075745_59.csv\n",
      "processo 15828 rodando.\n",
      "processo terminado em 20.025100 segundos.\n"
     ]
    }
   ],
   "source": [
    "# Fazendo observação com dispositivo local\n",
    "# Dicionário de parâmetros para observação\n",
    "observe_dict = {\"duration\":\"20s\", \n",
    "                \"band\":[\"800M\", \"1200M\"], \n",
    "                \"bandwidth\":\"1M\", \n",
    "                \"gain\":\"50\", \n",
    "                \"integration\":\"1s\",\n",
    "                \"mode\":\"59\"}\n",
    "# Nome de arquivo manualmente definido\n",
    "NOW = datetime.now().strftime(\"%Y%m%d_%H%M%S\")\n",
    "mode = \"59\"\n",
    "filename = SDR_01.controller.local_folder + SDR_01.name + \"_\" + NOW + \"_\" + mode + \".csv\"\n",
    "# Scan LOCAL com parâmetros manuais.\n",
    "SDR_01.scan(filename=filename, **observe_dict)\n",
    "# Scan LOCAL em modo detached.\n",
    "time.sleep(2)\n",
    "NOW = datetime.now().strftime(\"%Y%m%d_%H%M%S\")\n",
    "mode = \"59\"\n",
    "filename = SDR_01.controller.local_folder + SDR_01.name + \"_\" + NOW + \"_\" + mode + \".csv\"\n",
    "SDR_01.scan_mp(filename=filename, **observe_dict, monitor=True, interval=20)"
   ]
  },
  {
   "cell_type": "code",
   "execution_count": 21,
   "id": "scenic-costs",
   "metadata": {
    "ExecuteTime": {
     "end_time": "2022-09-06T10:58:53.259189Z",
     "start_time": "2022-09-06T10:58:26.521138Z"
    }
   },
   "outputs": [
    {
     "name": "stdout",
     "output_type": "stream",
     "text": [
      "Remoto já conectado em IP 192.168.15.81\n"
     ]
    },
    {
     "data": {
      "text/plain": [
       "<radiotelescope.backend.rtlsdrbackend.RTLSDRpowerBackend at 0x7f70660f7f70>"
      ]
     },
     "execution_count": 21,
     "metadata": {},
     "output_type": "execute_result"
    },
    {
     "data": {
      "text/plain": [
       "True"
      ]
     },
     "execution_count": 21,
     "metadata": {},
     "output_type": "execute_result"
    },
    {
     "name": "stdout",
     "output_type": "stream",
     "text": [
      "rtl_power -f 800M:1200M:1M -g50 -i 1s -e 20s ~/SDR/SDR_01_20220906_075826_59.csv\n",
      "Comando executado com sucesso.\n"
     ]
    }
   ],
   "source": [
    "# Conectando ao remoto\n",
    "SDR_01.connect()\n",
    "SDR_01.is_connected\n",
    "NOW = datetime.now().strftime(\"%Y%m%d_%H%M%S\")\n",
    "mode = \"59\"\n",
    "filename = SDR_01.controller.remote_folder + SDR_01.name + \"_\" + NOW + \"_\" + mode + \".csv\"\n",
    "# Scan remoto manual\n",
    "SDR_01.scan(filename=filename, **observe_dict, monitor=False)"
   ]
  },
  {
   "cell_type": "code",
   "execution_count": 27,
   "id": "ordinary-examination",
   "metadata": {
    "ExecuteTime": {
     "end_time": "2022-08-31T20:01:00.145819Z",
     "start_time": "2022-08-31T20:01:00.048441Z"
    }
   },
   "outputs": [
    {
     "name": "stdout",
     "output_type": "stream",
     "text": [
      "rtl_power -f 800M:1200M:1M -g50 -i 1s -e 20s ../data/raw/RTLSDR/SDR_01_20220831_170100_59.csv\n",
      "rtl_power -f 800M:1200M:1M -g50 -i 1s -e 20s ../data/raw/RTLSDR/SDR_01_20220831_170100_59.csv\n"
     ]
    }
   ],
   "source": [
    "# Manual\n",
    "SDR_01.disconnect().observe(**observe_dict)\n",
    "# Detached\n",
    "SDR_01.disconnect().observe_mp(**observe_dict)"
   ]
  },
  {
   "cell_type": "markdown",
   "id": "burning-spectrum",
   "metadata": {},
   "source": [
    "#### Observação no remoto"
   ]
  },
  {
   "cell_type": "code",
   "execution_count": 28,
   "id": "material-representative",
   "metadata": {
    "ExecuteTime": {
     "end_time": "2022-08-31T20:01:07.601686Z",
     "start_time": "2022-08-31T20:01:07.574124Z"
    }
   },
   "outputs": [
    {
     "name": "stdout",
     "output_type": "stream",
     "text": [
      "rtl_power -f 800M:1200M:1M -g50 -i 1s -e 20s ~/SDR/SDR_01_20220831_170107_59.csv\n",
      "rtl_power -f 800M:1200M:1M -g50 -i 1s -e 20s ~/SDR/SDR_01_20220831_170107_59.csv\n"
     ]
    }
   ],
   "source": [
    "NOW = datetime.now().strftime(\"%Y%m%d_%H%M%S\")\n",
    "mode = \"59\"\n",
    "filename = SDR_01.controller.remote_folder + SDR_01.name + \"_\" + NOW + \"_\" + mode + \".csv\"\n",
    "SDR_01.scan(filename=filename, **observe_dict, monitor=False)\n",
    "# Scan remoto detached\n",
    "SDR_01.scan_mp(filename=filename, **observe_dict, monitor=False)"
   ]
  },
  {
   "cell_type": "code",
   "execution_count": 29,
   "id": "outer-reservation",
   "metadata": {
    "ExecuteTime": {
     "end_time": "2022-08-31T20:01:41.457920Z",
     "start_time": "2022-08-31T20:01:14.574540Z"
    }
   },
   "outputs": [
    {
     "name": "stdout",
     "output_type": "stream",
     "text": [
      "Remoto já conectado em IP 192.168.15.81\n",
      "rtl_power -f 800M:1200M:1M -g50 -i 1s -e 20s ~/SDR/SDR_01_20220831_170114_59.csv\n",
      "Comando executado com sucesso.\n",
      "Remoto já conectado em IP 192.168.15.81\n",
      "rtl_power -f 800M:1200M:1M -g50 -i 1s -e 20s ~/SDR/SDR_01_20220831_170141_59.csv\n"
     ]
    }
   ],
   "source": [
    "SDR_01.connect().observe(**observe_dict)\n",
    "SDR_01.connect().observe_mp(**observe_dict)"
   ]
  },
  {
   "cell_type": "markdown",
   "id": "parental-nashville",
   "metadata": {},
   "source": [
    "#### Leitura e manipulação de dados"
   ]
  },
  {
   "cell_type": "code",
   "execution_count": 30,
   "id": "jewish-incident",
   "metadata": {
    "ExecuteTime": {
     "end_time": "2022-08-31T20:01:42.564436Z",
     "start_time": "2022-08-31T20:01:42.541826Z"
    }
   },
   "outputs": [
    {
     "data": {
      "text/plain": [
       "<radiotelescope.backend.rtlsdrbackend.RTLSDRpowerBackend at 0x7fc454f4b970>"
      ]
     },
     "execution_count": 30,
     "metadata": {},
     "output_type": "execute_result"
    },
    {
     "data": {
      "text/html": [
       "<div>\n",
       "<style scoped>\n",
       "    .dataframe tbody tr th:only-of-type {\n",
       "        vertical-align: middle;\n",
       "    }\n",
       "\n",
       "    .dataframe tbody tr th {\n",
       "        vertical-align: top;\n",
       "    }\n",
       "\n",
       "    .dataframe thead th {\n",
       "        text-align: right;\n",
       "    }\n",
       "</style>\n",
       "<table border=\"1\" class=\"dataframe\">\n",
       "  <thead>\n",
       "    <tr style=\"text-align: right;\">\n",
       "      <th></th>\n",
       "      <th>files</th>\n",
       "      <th>mode</th>\n",
       "    </tr>\n",
       "    <tr>\n",
       "      <th>timestamps</th>\n",
       "      <th></th>\n",
       "      <th></th>\n",
       "    </tr>\n",
       "  </thead>\n",
       "  <tbody>\n",
       "    <tr>\n",
       "      <th>2022-05-01 13:50:46+00:00</th>\n",
       "      <td>../data/raw/RTLSDR/SDR_01_20220501_135046_59.csv</td>\n",
       "      <td>59</td>\n",
       "    </tr>\n",
       "    <tr>\n",
       "      <th>2022-05-01 13:51:34+00:00</th>\n",
       "      <td>../data/raw/RTLSDR/SDR_01_20220501_135134_59.csv</td>\n",
       "      <td>59</td>\n",
       "    </tr>\n",
       "    <tr>\n",
       "      <th>2022-05-01 13:52:24+00:00</th>\n",
       "      <td>../data/raw/RTLSDR/SDR_01_20220501_135224_59.csv</td>\n",
       "      <td>59</td>\n",
       "    </tr>\n",
       "    <tr>\n",
       "      <th>2022-05-01 13:58:25+00:00</th>\n",
       "      <td>../data/raw/RTLSDR/SDR_01_20220501_135825_59.csv</td>\n",
       "      <td>59</td>\n",
       "    </tr>\n",
       "    <tr>\n",
       "      <th>2022-05-01 13:58:53+00:00</th>\n",
       "      <td>../data/raw/RTLSDR/SDR_01_20220501_135853_59.fit</td>\n",
       "      <td>59</td>\n",
       "    </tr>\n",
       "    <tr>\n",
       "      <th>2022-05-01 13:58:53+00:00</th>\n",
       "      <td>../data/raw/RTLSDR/SDR_01_20220501_135853_59.csv</td>\n",
       "      <td>59</td>\n",
       "    </tr>\n",
       "    <tr>\n",
       "      <th>2022-05-01 20:21:59+00:00</th>\n",
       "      <td>../data/raw/RTLSDR/SDR_01_20220501_202159_01.csv</td>\n",
       "      <td>01</td>\n",
       "    </tr>\n",
       "  </tbody>\n",
       "</table>\n",
       "</div>"
      ],
      "text/plain": [
       "                                                                      files  \\\n",
       "timestamps                                                                    \n",
       "2022-05-01 13:50:46+00:00  ../data/raw/RTLSDR/SDR_01_20220501_135046_59.csv   \n",
       "2022-05-01 13:51:34+00:00  ../data/raw/RTLSDR/SDR_01_20220501_135134_59.csv   \n",
       "2022-05-01 13:52:24+00:00  ../data/raw/RTLSDR/SDR_01_20220501_135224_59.csv   \n",
       "2022-05-01 13:58:25+00:00  ../data/raw/RTLSDR/SDR_01_20220501_135825_59.csv   \n",
       "2022-05-01 13:58:53+00:00  ../data/raw/RTLSDR/SDR_01_20220501_135853_59.fit   \n",
       "2022-05-01 13:58:53+00:00  ../data/raw/RTLSDR/SDR_01_20220501_135853_59.csv   \n",
       "2022-05-01 20:21:59+00:00  ../data/raw/RTLSDR/SDR_01_20220501_202159_01.csv   \n",
       "\n",
       "                          mode  \n",
       "timestamps                      \n",
       "2022-05-01 13:50:46+00:00   59  \n",
       "2022-05-01 13:51:34+00:00   59  \n",
       "2022-05-01 13:52:24+00:00   59  \n",
       "2022-05-01 13:58:25+00:00   59  \n",
       "2022-05-01 13:58:53+00:00   59  \n",
       "2022-05-01 13:58:53+00:00   59  \n",
       "2022-05-01 20:21:59+00:00   01  "
      ]
     },
     "execution_count": 30,
     "metadata": {},
     "output_type": "execute_result"
    }
   ],
   "source": [
    "SDR_01._get_filenames()\n",
    "SDR_01.filenames"
   ]
  },
  {
   "cell_type": "code",
   "execution_count": 31,
   "id": "universal-senegal",
   "metadata": {
    "ExecuteTime": {
     "end_time": "2022-08-31T20:01:46.302591Z",
     "start_time": "2022-08-31T20:01:45.155509Z"
    }
   },
   "outputs": [
    {
     "data": {
      "text/html": [
       "<div>\n",
       "<style scoped>\n",
       "    .dataframe tbody tr th:only-of-type {\n",
       "        vertical-align: middle;\n",
       "    }\n",
       "\n",
       "    .dataframe tbody tr th {\n",
       "        vertical-align: top;\n",
       "    }\n",
       "\n",
       "    .dataframe thead th {\n",
       "        text-align: right;\n",
       "    }\n",
       "</style>\n",
       "<table border=\"1\" class=\"dataframe\">\n",
       "  <thead>\n",
       "    <tr style=\"text-align: right;\">\n",
       "      <th></th>\n",
       "      <th>800.0</th>\n",
       "      <th>801.0</th>\n",
       "      <th>802.0</th>\n",
       "      <th>803.0</th>\n",
       "      <th>804.0</th>\n",
       "      <th>805.0</th>\n",
       "      <th>806.0</th>\n",
       "      <th>807.0</th>\n",
       "      <th>808.0</th>\n",
       "      <th>809.0</th>\n",
       "      <th>...</th>\n",
       "      <th>1691.0</th>\n",
       "      <th>1692.0</th>\n",
       "      <th>1693.0</th>\n",
       "      <th>1694.0</th>\n",
       "      <th>1695.0</th>\n",
       "      <th>1696.0</th>\n",
       "      <th>1697.0</th>\n",
       "      <th>1698.0</th>\n",
       "      <th>1699.0</th>\n",
       "      <th>1700.0</th>\n",
       "    </tr>\n",
       "  </thead>\n",
       "  <tbody>\n",
       "    <tr>\n",
       "      <th>2022-05-01 13:51:14</th>\n",
       "      <td>-8.850</td>\n",
       "      <td>-8.910</td>\n",
       "      <td>-8.110</td>\n",
       "      <td>-9.410</td>\n",
       "      <td>-11.185</td>\n",
       "      <td>-8.205</td>\n",
       "      <td>3.515</td>\n",
       "      <td>2.840</td>\n",
       "      <td>-8.095</td>\n",
       "      <td>-10.475</td>\n",
       "      <td>...</td>\n",
       "      <td>NaN</td>\n",
       "      <td>NaN</td>\n",
       "      <td>NaN</td>\n",
       "      <td>NaN</td>\n",
       "      <td>NaN</td>\n",
       "      <td>NaN</td>\n",
       "      <td>NaN</td>\n",
       "      <td>NaN</td>\n",
       "      <td>NaN</td>\n",
       "      <td>NaN</td>\n",
       "    </tr>\n",
       "    <tr>\n",
       "      <th>2022-05-01 13:52:01</th>\n",
       "      <td>-7.270</td>\n",
       "      <td>-6.970</td>\n",
       "      <td>-6.985</td>\n",
       "      <td>-9.500</td>\n",
       "      <td>-11.355</td>\n",
       "      <td>-8.405</td>\n",
       "      <td>3.205</td>\n",
       "      <td>2.500</td>\n",
       "      <td>-8.335</td>\n",
       "      <td>-10.735</td>\n",
       "      <td>...</td>\n",
       "      <td>NaN</td>\n",
       "      <td>NaN</td>\n",
       "      <td>NaN</td>\n",
       "      <td>NaN</td>\n",
       "      <td>NaN</td>\n",
       "      <td>NaN</td>\n",
       "      <td>NaN</td>\n",
       "      <td>NaN</td>\n",
       "      <td>NaN</td>\n",
       "      <td>NaN</td>\n",
       "    </tr>\n",
       "    <tr>\n",
       "      <th>2022-05-01 17:52:50</th>\n",
       "      <td>-5.620</td>\n",
       "      <td>-4.205</td>\n",
       "      <td>-4.455</td>\n",
       "      <td>-8.365</td>\n",
       "      <td>-10.250</td>\n",
       "      <td>-7.670</td>\n",
       "      <td>3.345</td>\n",
       "      <td>2.900</td>\n",
       "      <td>-7.815</td>\n",
       "      <td>-10.375</td>\n",
       "      <td>...</td>\n",
       "      <td>NaN</td>\n",
       "      <td>NaN</td>\n",
       "      <td>NaN</td>\n",
       "      <td>NaN</td>\n",
       "      <td>NaN</td>\n",
       "      <td>NaN</td>\n",
       "      <td>NaN</td>\n",
       "      <td>NaN</td>\n",
       "      <td>NaN</td>\n",
       "      <td>NaN</td>\n",
       "    </tr>\n",
       "    <tr>\n",
       "      <th>2022-05-01 17:58:51</th>\n",
       "      <td>-8.130</td>\n",
       "      <td>-7.630</td>\n",
       "      <td>-7.160</td>\n",
       "      <td>-8.475</td>\n",
       "      <td>-9.550</td>\n",
       "      <td>-7.095</td>\n",
       "      <td>3.625</td>\n",
       "      <td>3.140</td>\n",
       "      <td>-7.120</td>\n",
       "      <td>-9.700</td>\n",
       "      <td>...</td>\n",
       "      <td>NaN</td>\n",
       "      <td>NaN</td>\n",
       "      <td>NaN</td>\n",
       "      <td>NaN</td>\n",
       "      <td>NaN</td>\n",
       "      <td>NaN</td>\n",
       "      <td>NaN</td>\n",
       "      <td>NaN</td>\n",
       "      <td>NaN</td>\n",
       "      <td>NaN</td>\n",
       "    </tr>\n",
       "    <tr>\n",
       "      <th>2022-05-01 17:59:19</th>\n",
       "      <td>-9.320</td>\n",
       "      <td>-9.220</td>\n",
       "      <td>-8.380</td>\n",
       "      <td>-9.145</td>\n",
       "      <td>-10.535</td>\n",
       "      <td>-8.295</td>\n",
       "      <td>2.400</td>\n",
       "      <td>1.955</td>\n",
       "      <td>-8.105</td>\n",
       "      <td>-10.270</td>\n",
       "      <td>...</td>\n",
       "      <td>NaN</td>\n",
       "      <td>NaN</td>\n",
       "      <td>NaN</td>\n",
       "      <td>NaN</td>\n",
       "      <td>NaN</td>\n",
       "      <td>NaN</td>\n",
       "      <td>NaN</td>\n",
       "      <td>NaN</td>\n",
       "      <td>NaN</td>\n",
       "      <td>NaN</td>\n",
       "    </tr>\n",
       "    <tr>\n",
       "      <th>2022-05-02 00:38:07</th>\n",
       "      <td>-6.965</td>\n",
       "      <td>-6.295</td>\n",
       "      <td>-8.030</td>\n",
       "      <td>-10.230</td>\n",
       "      <td>-11.530</td>\n",
       "      <td>-9.435</td>\n",
       "      <td>1.210</td>\n",
       "      <td>0.710</td>\n",
       "      <td>-9.315</td>\n",
       "      <td>-11.445</td>\n",
       "      <td>...</td>\n",
       "      <td>0.95</td>\n",
       "      <td>1.205</td>\n",
       "      <td>2.615</td>\n",
       "      <td>0.875</td>\n",
       "      <td>2.13</td>\n",
       "      <td>6.31</td>\n",
       "      <td>6.305</td>\n",
       "      <td>5.075</td>\n",
       "      <td>4.645</td>\n",
       "      <td>3.51</td>\n",
       "    </tr>\n",
       "  </tbody>\n",
       "</table>\n",
       "<p>6 rows × 1651 columns</p>\n",
       "</div>"
      ],
      "text/plain": [
       "                     800.0   801.0   802.0   803.0   804.0   805.0   806.0   \\\n",
       "2022-05-01 13:51:14  -8.850  -8.910  -8.110  -9.410 -11.185  -8.205   3.515   \n",
       "2022-05-01 13:52:01  -7.270  -6.970  -6.985  -9.500 -11.355  -8.405   3.205   \n",
       "2022-05-01 17:52:50  -5.620  -4.205  -4.455  -8.365 -10.250  -7.670   3.345   \n",
       "2022-05-01 17:58:51  -8.130  -7.630  -7.160  -8.475  -9.550  -7.095   3.625   \n",
       "2022-05-01 17:59:19  -9.320  -9.220  -8.380  -9.145 -10.535  -8.295   2.400   \n",
       "2022-05-02 00:38:07  -6.965  -6.295  -8.030 -10.230 -11.530  -9.435   1.210   \n",
       "\n",
       "                     807.0   808.0   809.0   ...  1691.0  1692.0  1693.0  \\\n",
       "2022-05-01 13:51:14   2.840  -8.095 -10.475  ...     NaN     NaN     NaN   \n",
       "2022-05-01 13:52:01   2.500  -8.335 -10.735  ...     NaN     NaN     NaN   \n",
       "2022-05-01 17:52:50   2.900  -7.815 -10.375  ...     NaN     NaN     NaN   \n",
       "2022-05-01 17:58:51   3.140  -7.120  -9.700  ...     NaN     NaN     NaN   \n",
       "2022-05-01 17:59:19   1.955  -8.105 -10.270  ...     NaN     NaN     NaN   \n",
       "2022-05-02 00:38:07   0.710  -9.315 -11.445  ...    0.95   1.205   2.615   \n",
       "\n",
       "                     1694.0  1695.0  1696.0  1697.0  1698.0  1699.0  1700.0  \n",
       "2022-05-01 13:51:14     NaN     NaN     NaN     NaN     NaN     NaN     NaN  \n",
       "2022-05-01 13:52:01     NaN     NaN     NaN     NaN     NaN     NaN     NaN  \n",
       "2022-05-01 17:52:50     NaN     NaN     NaN     NaN     NaN     NaN     NaN  \n",
       "2022-05-01 17:58:51     NaN     NaN     NaN     NaN     NaN     NaN     NaN  \n",
       "2022-05-01 17:59:19     NaN     NaN     NaN     NaN     NaN     NaN     NaN  \n",
       "2022-05-02 00:38:07   0.875    2.13    6.31   6.305   5.075   4.645    3.51  \n",
       "\n",
       "[6 rows x 1651 columns]"
      ]
     },
     "execution_count": 31,
     "metadata": {},
     "output_type": "execute_result"
    }
   ],
   "source": [
    "SDR_01.load_measurement()"
   ]
  },
  {
   "cell_type": "code",
   "execution_count": 32,
   "id": "supreme-garlic",
   "metadata": {
    "ExecuteTime": {
     "end_time": "2022-08-31T20:02:04.507994Z",
     "start_time": "2022-08-31T20:02:00.812546Z"
    }
   },
   "outputs": [
    {
     "name": "stdout",
     "output_type": "stream",
     "text": [
      "Remoto já conectado em IP 192.168.15.81\n",
      "Remoto já conectado em IP 192.168.15.81\n",
      "Sincronizando dados: ~/SDR/ -> ../data/raw/RTLSDR/.\n"
     ]
    }
   ],
   "source": [
    "SDR_01.connect().save_measurement()"
   ]
  },
  {
   "cell_type": "code",
   "execution_count": 33,
   "id": "macro-democrat",
   "metadata": {
    "ExecuteTime": {
     "end_time": "2022-08-31T20:02:05.638282Z",
     "start_time": "2022-08-31T20:02:05.416296Z"
    }
   },
   "outputs": [
    {
     "ename": "ValueError",
     "evalue": "max() arg is an empty sequence",
     "output_type": "error",
     "traceback": [
      "\u001b[0;31m---------------------------------------------------------------------------\u001b[0m",
      "\u001b[0;31mValueError\u001b[0m                                Traceback (most recent call last)",
      "Input \u001b[0;32mIn [33]\u001b[0m, in \u001b[0;36m<cell line: 2>\u001b[0;34m()\u001b[0m\n\u001b[1;32m      1\u001b[0m file \u001b[38;5;241m=\u001b[39m SDR_01\u001b[38;5;241m.\u001b[39m_get_filenames()\u001b[38;5;241m.\u001b[39mfilenames\u001b[38;5;241m.\u001b[39mfiles\u001b[38;5;241m.\u001b[39miloc[\u001b[38;5;241m-\u001b[39m\u001b[38;5;241m1\u001b[39m]\n\u001b[0;32m----> 2\u001b[0m \u001b[43mSDR_01\u001b[49m\u001b[38;5;241;43m.\u001b[39;49m\u001b[43mcsv2fit\u001b[49m\u001b[43m(\u001b[49m\u001b[43mfilename\u001b[49m\u001b[38;5;241;43m=\u001b[39;49m\u001b[43mfile\u001b[49m\u001b[43m)\u001b[49m\n\u001b[1;32m      3\u001b[0m SDR_01\u001b[38;5;241m.\u001b[39m_get_filenames()\n\u001b[1;32m      4\u001b[0m SDR_01\u001b[38;5;241m.\u001b[39mload_measurement(extension\u001b[38;5;241m=\u001b[39m\u001b[38;5;124m\"\u001b[39m\u001b[38;5;124mfit\u001b[39m\u001b[38;5;124m\"\u001b[39m)\n",
      "File \u001b[0;32m~/BAROSI/HOME/6000_PYTHONIA/2_Doing/radiotelescope/radiotelescope/backend/rtlsdrbackend.py:122\u001b[0m, in \u001b[0;36mRTLSDRpowerBackend.csv2fit\u001b[0;34m(self, path, filename, overwrite, **kwargs)\u001b[0m\n\u001b[1;32m    120\u001b[0m     path \u001b[38;5;241m=\u001b[39m os\u001b[38;5;241m.\u001b[39mpath\u001b[38;5;241m.\u001b[39mabspath(\u001b[38;5;28mself\u001b[39m\u001b[38;5;241m.\u001b[39mcontroller\u001b[38;5;241m.\u001b[39mlocal_folder)\n\u001b[1;32m    121\u001b[0m filename \u001b[38;5;241m=\u001b[39m os\u001b[38;5;241m.\u001b[39mpath\u001b[38;5;241m.\u001b[39mabspath(filename)\n\u001b[0;32m--> 122\u001b[0m df \u001b[38;5;241m=\u001b[39m \u001b[43mRTLSDRpowerBackend\u001b[49m\u001b[38;5;241;43m.\u001b[39;49m\u001b[43m_csv2df\u001b[49m\u001b[43m(\u001b[49m\u001b[43mfilename\u001b[49m\u001b[43m)\u001b[49m\n\u001b[1;32m    123\u001b[0m filename_fits \u001b[38;5;241m=\u001b[39m os\u001b[38;5;241m.\u001b[39mpath\u001b[38;5;241m.\u001b[39mjoin(os\u001b[38;5;241m.\u001b[39mgetcwd(), path, filename\u001b[38;5;241m.\u001b[39msplit(\u001b[38;5;124m\"\u001b[39m\u001b[38;5;124m.\u001b[39m\u001b[38;5;124m\"\u001b[39m)[\u001b[38;5;241m-\u001b[39m\u001b[38;5;241m2\u001b[39m] \u001b[38;5;241m+\u001b[39m \u001b[38;5;124m\"\u001b[39m\u001b[38;5;124m.fit\u001b[39m\u001b[38;5;124m\"\u001b[39m)\n\u001b[1;32m    124\u001b[0m MODE \u001b[38;5;241m=\u001b[39m filename\u001b[38;5;241m.\u001b[39msplit(\u001b[38;5;124m\"\u001b[39m\u001b[38;5;124m.\u001b[39m\u001b[38;5;124m\"\u001b[39m)[\u001b[38;5;241m-\u001b[39m\u001b[38;5;241m1\u001b[39m]\u001b[38;5;241m.\u001b[39msplit(\u001b[38;5;124m\"\u001b[39m\u001b[38;5;124m_\u001b[39m\u001b[38;5;124m\"\u001b[39m)[\u001b[38;5;241m-\u001b[39m\u001b[38;5;241m1\u001b[39m]\n",
      "File \u001b[0;32m~/BAROSI/HOME/6000_PYTHONIA/2_Doing/radiotelescope/radiotelescope/backend/rtlsdrbackend.py:65\u001b[0m, in \u001b[0;36mRTLSDRpowerBackend._csv2df\u001b[0;34m(filename)\u001b[0m\n\u001b[1;32m     63\u001b[0m \u001b[38;5;28;01mwith\u001b[39;00m \u001b[38;5;28mopen\u001b[39m(filename, \u001b[38;5;124m'\u001b[39m\u001b[38;5;124mr\u001b[39m\u001b[38;5;124m'\u001b[39m) \u001b[38;5;28;01mas\u001b[39;00m temp_f:\n\u001b[1;32m     64\u001b[0m     col_count \u001b[38;5;241m=\u001b[39m [ \u001b[38;5;28mlen\u001b[39m(ll\u001b[38;5;241m.\u001b[39msplit(\u001b[38;5;124m\"\u001b[39m\u001b[38;5;124m,\u001b[39m\u001b[38;5;124m\"\u001b[39m)) \u001b[38;5;28;01mfor\u001b[39;00m ll \u001b[38;5;129;01min\u001b[39;00m temp_f\u001b[38;5;241m.\u001b[39mreadlines() ]\n\u001b[0;32m---> 65\u001b[0m column_names \u001b[38;5;241m=\u001b[39m np\u001b[38;5;241m.\u001b[39marange(\u001b[38;5;28;43mmax\u001b[39;49m\u001b[43m(\u001b[49m\u001b[43mcol_count\u001b[49m\u001b[43m)\u001b[49m)\n\u001b[1;32m     66\u001b[0m df \u001b[38;5;241m=\u001b[39m pd\u001b[38;5;241m.\u001b[39mread_csv(filename, header\u001b[38;5;241m=\u001b[39m\u001b[38;5;28;01mNone\u001b[39;00m, delimiter\u001b[38;5;241m=\u001b[39m\u001b[38;5;124m\"\u001b[39m\u001b[38;5;124m,\u001b[39m\u001b[38;5;124m\"\u001b[39m, names\u001b[38;5;241m=\u001b[39mcolumn_names)\n\u001b[1;32m     67\u001b[0m \u001b[38;5;66;03m# Descarta valores de colunas que são maiores do que as demais\u001b[39;00m\n\u001b[1;32m     68\u001b[0m \u001b[38;5;66;03m# Número de medidas é total subtraído das colunas de informação\u001b[39;00m\n\u001b[1;32m     69\u001b[0m \u001b[38;5;66;03m# Date Time F_start F_end BW N_s\u001b[39;00m\n",
      "\u001b[0;31mValueError\u001b[0m: max() arg is an empty sequence"
     ]
    }
   ],
   "source": [
    "file = SDR_01._get_filenames().filenames.files.iloc[-1]\n",
    "SDR_01.csv2fit(filename=file)\n",
    "SDR_01._get_filenames()\n",
    "SDR_01.load_measurement(extension=\"fit\")"
   ]
  },
  {
   "cell_type": "code",
   "execution_count": 34,
   "id": "dynamic-vietnamese",
   "metadata": {
    "ExecuteTime": {
     "end_time": "2022-08-31T20:02:29.673406Z",
     "start_time": "2022-08-31T20:02:29.409567Z"
    }
   },
   "outputs": [
    {
     "name": "stdout",
     "output_type": "stream",
     "text": [
      "Remoto já conectado em IP 192.168.15.81\n",
      "rtl_power -f 50M:1700M:1M -g50 -i 15m -e 15m ~/SDR/SDR_01_20220831_170229_01.csv\n"
     ]
    }
   ],
   "source": [
    "SDR_01.connect().calibrate()"
   ]
  },
  {
   "cell_type": "code",
   "execution_count": 35,
   "id": "prescribed-comparative",
   "metadata": {
    "ExecuteTime": {
     "end_time": "2022-08-31T20:02:31.672386Z",
     "start_time": "2022-08-31T20:02:30.672254Z"
    }
   },
   "outputs": [
    {
     "name": "stdout",
     "output_type": "stream",
     "text": [
      "Remoto já conectado em IP 192.168.15.81\n",
      "Remoto já conectado em IP 192.168.15.81\n",
      "Sincronizando dados: ~/SDR/ -> ../data/raw/RTLSDR/.\n"
     ]
    }
   ],
   "source": [
    "SDR_01.connect().save_measurement()\n",
    "filenames = SDR_01._get_filenames().filenames"
   ]
  },
  {
   "cell_type": "code",
   "execution_count": 36,
   "id": "fatty-anger",
   "metadata": {
    "ExecuteTime": {
     "end_time": "2022-08-31T20:02:35.738324Z",
     "start_time": "2022-08-31T20:02:32.512729Z"
    }
   },
   "outputs": [
    {
     "ename": "ValueError",
     "evalue": "max() arg is an empty sequence",
     "output_type": "error",
     "traceback": [
      "\u001b[0;31m---------------------------------------------------------------------------\u001b[0m",
      "\u001b[0;31mValueError\u001b[0m                                Traceback (most recent call last)",
      "Input \u001b[0;32mIn [36]\u001b[0m, in \u001b[0;36m<cell line: 2>\u001b[0;34m()\u001b[0m\n\u001b[1;32m      1\u001b[0m \u001b[38;5;28;01mimport\u001b[39;00m \u001b[38;5;21;01mmatplotlib\u001b[39;00m\u001b[38;5;21;01m.\u001b[39;00m\u001b[38;5;21;01mpyplot\u001b[39;00m \u001b[38;5;28;01mas\u001b[39;00m \u001b[38;5;21;01mplt\u001b[39;00m\n\u001b[0;32m----> 2\u001b[0m df \u001b[38;5;241m=\u001b[39m \u001b[43mSDR_01\u001b[49m\u001b[38;5;241;43m.\u001b[39;49m\u001b[43mload_measurement\u001b[49m\u001b[43m(\u001b[49m\u001b[43mmode\u001b[49m\u001b[38;5;241;43m=\u001b[39;49m\u001b[38;5;124;43m\"\u001b[39;49m\u001b[38;5;124;43m01\u001b[39;49m\u001b[38;5;124;43m\"\u001b[39;49m\u001b[43m)\u001b[49m\n\u001b[1;32m      3\u001b[0m df_filt \u001b[38;5;241m=\u001b[39m df\u001b[38;5;241m.\u001b[39mT\u001b[38;5;241m.\u001b[39mrolling(\u001b[38;5;241m20\u001b[39m, center \u001b[38;5;241m=\u001b[39m \u001b[38;5;28;01mTrue\u001b[39;00m)\u001b[38;5;241m.\u001b[39mmedian()\u001b[38;5;241m.\u001b[39mfillna(method\u001b[38;5;241m=\u001b[39m\u001b[38;5;124m'\u001b[39m\u001b[38;5;124mbfill\u001b[39m\u001b[38;5;124m'\u001b[39m)\u001b[38;5;241m.\u001b[39mfillna(method\u001b[38;5;241m=\u001b[39m\u001b[38;5;124m'\u001b[39m\u001b[38;5;124mffill\u001b[39m\u001b[38;5;124m'\u001b[39m)\n\u001b[1;32m      4\u001b[0m fig, ax \u001b[38;5;241m=\u001b[39m plt\u001b[38;5;241m.\u001b[39msubplots(figsize\u001b[38;5;241m=\u001b[39m(\u001b[38;5;241m16\u001b[39m,\u001b[38;5;241m6\u001b[39m))\n",
      "File \u001b[0;32m~/BAROSI/HOME/6000_PYTHONIA/2_Doing/radiotelescope/radiotelescope/backend/rtlsdrbackend.py:192\u001b[0m, in \u001b[0;36mRTLSDRpowerBackend.load_measurement\u001b[0;34m(self, filenames, mode, extension)\u001b[0m\n\u001b[1;32m    190\u001b[0m \u001b[38;5;28;01melif\u001b[39;00m extension \u001b[38;5;241m==\u001b[39m \u001b[38;5;124m\"\u001b[39m\u001b[38;5;124mcsv\u001b[39m\u001b[38;5;124m\"\u001b[39m:\n\u001b[1;32m    191\u001b[0m     files \u001b[38;5;241m=\u001b[39m [ file \u001b[38;5;28;01mfor\u001b[39;00m file \u001b[38;5;129;01min\u001b[39;00m filenames\u001b[38;5;241m.\u001b[39mfiles \u001b[38;5;28;01mif\u001b[39;00m file\u001b[38;5;241m.\u001b[39msplit(\u001b[38;5;124m\"\u001b[39m\u001b[38;5;124m.\u001b[39m\u001b[38;5;124m\"\u001b[39m)[\u001b[38;5;241m-\u001b[39m\u001b[38;5;241m1\u001b[39m]\u001b[38;5;241m==\u001b[39mextension ]\n\u001b[0;32m--> 192\u001b[0m     result \u001b[38;5;241m=\u001b[39m \u001b[43mRTLSDRpowerBackend\u001b[49m\u001b[38;5;241;43m.\u001b[39;49m\u001b[43mcsvs2df\u001b[49m\u001b[43m(\u001b[49m\u001b[43mfilenames\u001b[49m\u001b[43m \u001b[49m\u001b[38;5;241;43m=\u001b[39;49m\u001b[43m \u001b[49m\u001b[43mfiles\u001b[49m\u001b[43m)\u001b[49m\n\u001b[1;32m    193\u001b[0m \u001b[38;5;28;01melse\u001b[39;00m:\n\u001b[1;32m    194\u001b[0m     \u001b[38;5;28mprint\u001b[39m(\u001b[38;5;124m\"\u001b[39m\u001b[38;5;124mMethod for extension \u001b[39m\u001b[38;5;132;01m{}\u001b[39;00m\u001b[38;5;124m not implemented.\u001b[39m\u001b[38;5;124m\"\u001b[39m\u001b[38;5;241m.\u001b[39mformat(extension))\n",
      "File \u001b[0;32m~/BAROSI/HOME/6000_PYTHONIA/2_Doing/radiotelescope/radiotelescope/backend/rtlsdrbackend.py:110\u001b[0m, in \u001b[0;36mRTLSDRpowerBackend.csvs2df\u001b[0;34m(filenames)\u001b[0m\n\u001b[1;32m    108\u001b[0m     data \u001b[38;5;241m=\u001b[39m []\n\u001b[1;32m    109\u001b[0m     \u001b[38;5;28;01mfor\u001b[39;00m file \u001b[38;5;129;01min\u001b[39;00m filenames:\n\u001b[0;32m--> 110\u001b[0m         data\u001b[38;5;241m.\u001b[39mappend(\u001b[43mRTLSDRpowerBackend\u001b[49m\u001b[38;5;241;43m.\u001b[39;49m\u001b[43m_csv2df\u001b[49m\u001b[43m(\u001b[49m\u001b[43mfilename\u001b[49m\u001b[43m \u001b[49m\u001b[38;5;241;43m=\u001b[39;49m\u001b[43m \u001b[49m\u001b[43mfile\u001b[49m\u001b[43m)\u001b[49m)\n\u001b[1;32m    111\u001b[0m     result \u001b[38;5;241m=\u001b[39m pd\u001b[38;5;241m.\u001b[39mconcat(data)\n\u001b[1;32m    112\u001b[0m \u001b[38;5;28;01melse\u001b[39;00m:\n",
      "File \u001b[0;32m~/BAROSI/HOME/6000_PYTHONIA/2_Doing/radiotelescope/radiotelescope/backend/rtlsdrbackend.py:65\u001b[0m, in \u001b[0;36mRTLSDRpowerBackend._csv2df\u001b[0;34m(filename)\u001b[0m\n\u001b[1;32m     63\u001b[0m \u001b[38;5;28;01mwith\u001b[39;00m \u001b[38;5;28mopen\u001b[39m(filename, \u001b[38;5;124m'\u001b[39m\u001b[38;5;124mr\u001b[39m\u001b[38;5;124m'\u001b[39m) \u001b[38;5;28;01mas\u001b[39;00m temp_f:\n\u001b[1;32m     64\u001b[0m     col_count \u001b[38;5;241m=\u001b[39m [ \u001b[38;5;28mlen\u001b[39m(ll\u001b[38;5;241m.\u001b[39msplit(\u001b[38;5;124m\"\u001b[39m\u001b[38;5;124m,\u001b[39m\u001b[38;5;124m\"\u001b[39m)) \u001b[38;5;28;01mfor\u001b[39;00m ll \u001b[38;5;129;01min\u001b[39;00m temp_f\u001b[38;5;241m.\u001b[39mreadlines() ]\n\u001b[0;32m---> 65\u001b[0m column_names \u001b[38;5;241m=\u001b[39m np\u001b[38;5;241m.\u001b[39marange(\u001b[38;5;28;43mmax\u001b[39;49m\u001b[43m(\u001b[49m\u001b[43mcol_count\u001b[49m\u001b[43m)\u001b[49m)\n\u001b[1;32m     66\u001b[0m df \u001b[38;5;241m=\u001b[39m pd\u001b[38;5;241m.\u001b[39mread_csv(filename, header\u001b[38;5;241m=\u001b[39m\u001b[38;5;28;01mNone\u001b[39;00m, delimiter\u001b[38;5;241m=\u001b[39m\u001b[38;5;124m\"\u001b[39m\u001b[38;5;124m,\u001b[39m\u001b[38;5;124m\"\u001b[39m, names\u001b[38;5;241m=\u001b[39mcolumn_names)\n\u001b[1;32m     67\u001b[0m \u001b[38;5;66;03m# Descarta valores de colunas que são maiores do que as demais\u001b[39;00m\n\u001b[1;32m     68\u001b[0m \u001b[38;5;66;03m# Número de medidas é total subtraído das colunas de informação\u001b[39;00m\n\u001b[1;32m     69\u001b[0m \u001b[38;5;66;03m# Date Time F_start F_end BW N_s\u001b[39;00m\n",
      "\u001b[0;31mValueError\u001b[0m: max() arg is an empty sequence"
     ]
    }
   ],
   "source": [
    "import matplotlib.pyplot as plt\n",
    "df = SDR_01.load_measurement(mode=\"01\")\n",
    "df_filt = df.T.rolling(20, center = True).median().fillna(method='bfill').fillna(method='ffill')\n",
    "fig, ax = plt.subplots(figsize=(16,6))\n",
    "df.T.plot(ax=ax, linewidth=.2)\n",
    "df_filt.plot(ax=ax)\n",
    "ax.grid()\n",
    "plt.show();"
   ]
  },
  {
   "cell_type": "markdown",
   "id": "25a60f88",
   "metadata": {
    "ExecuteTime": {
     "end_time": "2022-04-11T13:20:39.372509Z",
     "start_time": "2022-04-11T13:20:39.368839Z"
    },
    "heading_collapsed": true
   },
   "source": [
    "### Callisto"
   ]
  },
  {
   "cell_type": "code",
   "execution_count": null,
   "id": "dd7942f5",
   "metadata": {
    "ExecuteTime": {
     "end_time": "2022-04-11T13:21:59.675956Z",
     "start_time": "2022-04-11T13:20:40.287716Z"
    },
    "hidden": true
   },
   "outputs": [],
   "source": [
    "meas_mode = [\"overview\", \"fit\"]\n",
    "mode = { \"SKY\":\"59\", \"COLD\":\"01\", \"WARM\":\"02\" \"HOT\":\"03\"}\n",
    "observe_dict = { \"duration\": \"30m\", mode = \"SKY\", \"measurement\" = \"overview\"}"
   ]
  },
  {
   "cell_type": "markdown",
   "id": "e690baae",
   "metadata": {
    "ExecuteTime": {
     "end_time": "2022-04-11T13:21:59.700358Z",
     "start_time": "2022-04-11T13:21:59.678664Z"
    }
   },
   "source": [
    "### GNURadio"
   ]
  },
  {
   "cell_type": "markdown",
   "id": "nominated-karma",
   "metadata": {},
   "source": [
    "#### Inicialização do Backend"
   ]
  },
  {
   "cell_type": "code",
   "execution_count": 3,
   "id": "affecting-liabilities",
   "metadata": {
    "ExecuteTime": {
     "end_time": "2022-05-14T21:20:04.346190Z",
     "start_time": "2022-05-14T21:20:03.680203Z"
    }
   },
   "outputs": [
    {
     "name": "stdout",
     "output_type": "stream",
     "text": [
      "Verificando dados da máquina local:\n",
      "IP: 192.168.15.49\n",
      "MAC: d8:77:8b:fe:35:20\n",
      "OS: Linux\n"
     ]
    }
   ],
   "source": [
    "# Definindo Controlador local ligado a raspberry remoto.\n",
    "pergamon = radiotelescope.LinuxBox(\n",
    "    name=\"pergamon\", \n",
    "    interface=\"WAN\", \n",
    "    user=\"bingo\", \n",
    "    remote_port=22, \n",
    "    remote_IP = \"192.168.15.83\",\n",
    "    local_folder = \"../data/raw/GNURADIO/\",\n",
    "    remote_folder = \"~/SDR/\"\n",
    ").get_info().connect()\n",
    "# Definindo Instrumento\n",
    "import pytz\n",
    "lat= -7.211637 * u.deg;\n",
    "lon= -35.908138 * u.deg;\n",
    "elev= 553 * u.m\n",
    "Alt= 84\n",
    "Az=0\n",
    "fwhm = 15\n",
    "timezone = pytz.timezone(\"America/Recife\")\n",
    "minihorn = radiotelescope.Instrument(name='Cornetinha', lon=lon, lat=lat, elev=elev, timezone=timezone, \n",
    "                      verbose=True, Alt=Alt, Az=Az, fwhm = fwhm)\n",
    "# Definindo Modos\n",
    "modes = {\"COLD\":\"01\", \"WARM\":\"02\", \"HOT\":\"03\", \"SKY\":\"59\"}"
   ]
  },
  {
   "cell_type": "code",
   "execution_count": 4,
   "id": "warming-crown",
   "metadata": {
    "ExecuteTime": {
     "end_time": "2022-05-14T21:20:04.585765Z",
     "start_time": "2022-05-14T21:20:04.543614Z"
    }
   },
   "outputs": [
    {
     "data": {
      "text/plain": [
       "<radiotelescope.backend.gnuradiobackend.GNURadioBackend at 0x7f086dffefb0>"
      ]
     },
     "execution_count": 4,
     "metadata": {},
     "output_type": "execute_result"
    },
    {
     "data": {
      "text/html": [
       "<div>\n",
       "<style scoped>\n",
       "    .dataframe tbody tr th:only-of-type {\n",
       "        vertical-align: middle;\n",
       "    }\n",
       "\n",
       "    .dataframe tbody tr th {\n",
       "        vertical-align: top;\n",
       "    }\n",
       "\n",
       "    .dataframe thead th {\n",
       "        text-align: right;\n",
       "    }\n",
       "</style>\n",
       "<table border=\"1\" class=\"dataframe\">\n",
       "  <thead>\n",
       "    <tr style=\"text-align: right;\">\n",
       "      <th></th>\n",
       "      <th>files</th>\n",
       "      <th>mode</th>\n",
       "    </tr>\n",
       "    <tr>\n",
       "      <th>timestamps</th>\n",
       "      <th></th>\n",
       "      <th></th>\n",
       "    </tr>\n",
       "  </thead>\n",
       "  <tbody>\n",
       "  </tbody>\n",
       "</table>\n",
       "</div>"
      ],
      "text/plain": [
       "Empty DataFrame\n",
       "Columns: [files, mode]\n",
       "Index: []"
      ]
     },
     "execution_count": 4,
     "metadata": {},
     "output_type": "execute_result"
    }
   ],
   "source": [
    "# Backend RTLSDR com dongle ligado em controlador local.\n",
    "SDR_01 = radiotelescope.GNURadioBackend(controller=pergamon, instrument=minihorn, modes = modes, name=\"SDR_01\");\n",
    "SDR_01._get_filenames();\n",
    "SDR_01.filenames"
   ]
  },
  {
   "cell_type": "markdown",
   "id": "collective-orlando",
   "metadata": {},
   "source": [
    "#### Observação Local"
   ]
  },
  {
   "cell_type": "code",
   "execution_count": 5,
   "id": "awful-western",
   "metadata": {
    "ExecuteTime": {
     "end_time": "2022-05-14T21:20:07.438669Z",
     "start_time": "2022-05-14T21:20:07.425362Z"
    }
   },
   "outputs": [],
   "source": [
    "# Dicionário de parâmetros para observação\n",
    "rtlstring = \"rtl_tcp=\" + pergamon.remote_IP + \":1234\"\n",
    "GNUSCRIPT = \"../radiotelescope/GNURadio/GNUController.py\"\n",
    "observe_dict = {\"rtlsdr\":rtlstring,\n",
    "                \"GNUScript\":GNUSCRIPT,\n",
    "                \"folder\":pergamon.local_folder,\n",
    "                \"mode\": \"SKY\",\n",
    "                \"channels\":4096,\n",
    "                \"bandwidth\":2048e6,\n",
    "                \"gain\":50,\n",
    "                \"freq\":1240,\n",
    "                \"n_integration\":100,\n",
    "                \"n_samples\": 1000,\n",
    "                \"duration\": \"300s\",\n",
    "                \"csv\":True,\n",
    "                \"fit\":True}"
   ]
  },
  {
   "cell_type": "code",
   "execution_count": 6,
   "id": "driving-amendment",
   "metadata": {
    "ExecuteTime": {
     "end_time": "2022-05-14T21:20:09.022579Z",
     "start_time": "2022-05-14T21:20:09.015934Z"
    }
   },
   "outputs": [],
   "source": [
    "command = SDR_01.scan_command(**observe_dict)"
   ]
  },
  {
   "cell_type": "code",
   "execution_count": 7,
   "id": "passing-foundation",
   "metadata": {
    "ExecuteTime": {
     "end_time": "2022-05-14T21:20:14.391465Z",
     "start_time": "2022-05-14T21:20:14.384780Z"
    }
   },
   "outputs": [
    {
     "data": {
      "text/plain": [
       "'python ../radiotelescope/GNURadio/GNUController.py--rtlsdr rtl_tcp=192.168.15.83:1234 --name ../data/raw/GNURADIO/SDR_01 --mode 59 --vec_length 4096 --samp_rate 2048000000 --gain 50 --freq 1240000000 --n_integration 100 --n_samples 1000 --duration 300.0 --csv   --fit '"
      ]
     },
     "execution_count": 7,
     "metadata": {},
     "output_type": "execute_result"
    }
   ],
   "source": [
    "command"
   ]
  },
  {
   "cell_type": "code",
   "execution_count": 11,
   "id": "sustained-forestry",
   "metadata": {
    "ExecuteTime": {
     "end_time": "2022-05-14T20:41:58.460870Z",
     "start_time": "2022-05-14T20:36:57.371162Z"
    }
   },
   "outputs": [
    {
     "data": {
      "text/plain": [
       "<radiotelescope.backend.gnuradiobackend.GNURadioBackend at 0x7fa228322aa0>"
      ]
     },
     "execution_count": 11,
     "metadata": {},
     "output_type": "execute_result"
    },
    {
     "data": {
      "text/plain": [
       "b''"
      ]
     },
     "execution_count": 11,
     "metadata": {},
     "output_type": "execute_result"
    }
   ],
   "source": [
    "SDR_01.start_tcp()\n",
    "SDR_01.controller.run(command = command)"
   ]
  },
  {
   "cell_type": "code",
   "execution_count": 10,
   "id": "numeric-capture",
   "metadata": {
    "ExecuteTime": {
     "end_time": "2022-05-14T20:35:59.018617Z",
     "start_time": "2022-05-14T20:35:59.011621Z"
    }
   },
   "outputs": [
    {
     "data": {
      "text/plain": [
       "'python ../radiotelescope/GNURadio/GNUController.py --rtlsdr rtl_tcp=192.168.15.83:1234 --name ../data/raw/GNURADIO/SDR_01 --mode 59 --vec_length 4096 --samp_rate 2048000000 --gain 50 --freq 1240000000 --n_integration 100 --n_samples 1000 --duration 300.0 --csv   --fit '"
      ]
     },
     "execution_count": 10,
     "metadata": {},
     "output_type": "execute_result"
    }
   ],
   "source": [
    "command"
   ]
  },
  {
   "cell_type": "code",
   "execution_count": null,
   "id": "infinite-potential",
   "metadata": {},
   "outputs": [],
   "source": []
  },
  {
   "cell_type": "code",
   "execution_count": null,
   "id": "modern-killer",
   "metadata": {},
   "outputs": [],
   "source": []
  },
  {
   "cell_type": "code",
   "execution_count": null,
   "id": "absolute-prison",
   "metadata": {},
   "outputs": [],
   "source": []
  },
  {
   "cell_type": "code",
   "execution_count": null,
   "id": "spatial-decade",
   "metadata": {},
   "outputs": [],
   "source": []
  },
  {
   "cell_type": "code",
   "execution_count": null,
   "id": "beginning-introduction",
   "metadata": {},
   "outputs": [],
   "source": []
  },
  {
   "cell_type": "code",
   "execution_count": 9,
   "id": "relative-berry",
   "metadata": {
    "ExecuteTime": {
     "end_time": "2022-05-14T20:24:41.469303Z",
     "start_time": "2022-05-14T20:24:41.190703Z"
    }
   },
   "outputs": [
    {
     "name": "stdout",
     "output_type": "stream",
     "text": [
      "Remoto já conectado em IP 192.168.15.83\n"
     ]
    },
    {
     "data": {
      "text/plain": [
       "<radiotelescope.backend.gnuradiobackend.GNURadioBackend at 0x7f8c9987d9c0>"
      ]
     },
     "execution_count": 9,
     "metadata": {},
     "output_type": "execute_result"
    },
    {
     "name": "stdout",
     "output_type": "stream",
     "text": [
      "Comando executado com sucesso.\n"
     ]
    },
    {
     "name": "stderr",
     "output_type": "stream",
     "text": [
      "Process Process-1:\n",
      "Traceback (most recent call last):\n",
      "  File \"/opt/miniconda3/envs/gnuradio/lib/python3.10/multiprocessing/process.py\", line 315, in _bootstrap\n",
      "    self.run()\n",
      "  File \"/opt/miniconda3/envs/gnuradio/lib/python3.10/multiprocessing/process.py\", line 108, in run\n",
      "    self._target(*self._args, **self._kwargs)\n",
      "TypeError: LinuxBox.run() got an unexpected keyword argument 'kwargs'\n",
      "Success for unrequested channel! [??]\n"
     ]
    }
   ],
   "source": [
    "SDR_01.connect()\n",
    "SDR_01.observe(**observe_dict)"
   ]
  },
  {
   "cell_type": "code",
   "execution_count": null,
   "id": "thorough-constraint",
   "metadata": {},
   "outputs": [],
   "source": []
  },
  {
   "cell_type": "code",
   "execution_count": null,
   "id": "close-dividend",
   "metadata": {},
   "outputs": [],
   "source": []
  },
  {
   "cell_type": "code",
   "execution_count": null,
   "id": "banner-extraction",
   "metadata": {},
   "outputs": [],
   "source": []
  },
  {
   "cell_type": "code",
   "execution_count": null,
   "id": "violent-series",
   "metadata": {},
   "outputs": [],
   "source": []
  },
  {
   "cell_type": "code",
   "execution_count": 13,
   "id": "isolated-grass",
   "metadata": {
    "ExecuteTime": {
     "end_time": "2022-05-14T20:27:56.117834Z",
     "start_time": "2022-05-14T20:27:56.111815Z"
    }
   },
   "outputs": [
    {
     "data": {
      "text/plain": [
       "'RTL_GLOBAL=\"rtl_tcp=192.168.15.83:1234\"'"
      ]
     },
     "execution_count": 13,
     "metadata": {},
     "output_type": "execute_result"
    }
   ],
   "source": [
    "\n",
    "RTLGLOBAL"
   ]
  },
  {
   "cell_type": "code",
   "execution_count": null,
   "id": "adjacent-prefix",
   "metadata": {},
   "outputs": [],
   "source": []
  },
  {
   "cell_type": "code",
   "execution_count": null,
   "id": "excellent-dublin",
   "metadata": {},
   "outputs": [],
   "source": []
  },
  {
   "cell_type": "code",
   "execution_count": null,
   "id": "attractive-columbus",
   "metadata": {},
   "outputs": [],
   "source": []
  },
  {
   "cell_type": "code",
   "execution_count": 1,
   "id": "natural-watershed",
   "metadata": {
    "ExecuteTime": {
     "end_time": "2022-05-14T10:51:55.735335Z",
     "start_time": "2022-05-14T10:51:54.958754Z"
    }
   },
   "outputs": [
    {
     "ename": "NameError",
     "evalue": "name 'datetime' is not defined",
     "output_type": "error",
     "traceback": [
      "\u001b[0;31m---------------------------------------------------------------------------\u001b[0m",
      "\u001b[0;31mNameError\u001b[0m                                 Traceback (most recent call last)",
      "Input \u001b[0;32mIn [1]\u001b[0m, in \u001b[0;36m<cell line: 10>\u001b[0;34m()\u001b[0m\n\u001b[1;32m      3\u001b[0m observe_dict \u001b[38;5;241m=\u001b[39m {\u001b[38;5;124m\"\u001b[39m\u001b[38;5;124mduration\u001b[39m\u001b[38;5;124m\"\u001b[39m:\u001b[38;5;124m\"\u001b[39m\u001b[38;5;124m20s\u001b[39m\u001b[38;5;124m\"\u001b[39m, \n\u001b[1;32m      4\u001b[0m                 \u001b[38;5;124m\"\u001b[39m\u001b[38;5;124mband\u001b[39m\u001b[38;5;124m\"\u001b[39m:[\u001b[38;5;124m\"\u001b[39m\u001b[38;5;124m800M\u001b[39m\u001b[38;5;124m\"\u001b[39m, \u001b[38;5;124m\"\u001b[39m\u001b[38;5;124m1200M\u001b[39m\u001b[38;5;124m\"\u001b[39m], \n\u001b[1;32m      5\u001b[0m                 \u001b[38;5;124m\"\u001b[39m\u001b[38;5;124mbandwidth\u001b[39m\u001b[38;5;124m\"\u001b[39m:\u001b[38;5;124m\"\u001b[39m\u001b[38;5;124m1M\u001b[39m\u001b[38;5;124m\"\u001b[39m, \n\u001b[1;32m      6\u001b[0m                 \u001b[38;5;124m\"\u001b[39m\u001b[38;5;124mgain\u001b[39m\u001b[38;5;124m\"\u001b[39m:\u001b[38;5;124m\"\u001b[39m\u001b[38;5;124m50\u001b[39m\u001b[38;5;124m\"\u001b[39m, \n\u001b[1;32m      7\u001b[0m                 \u001b[38;5;124m\"\u001b[39m\u001b[38;5;124mintegration\u001b[39m\u001b[38;5;124m\"\u001b[39m:\u001b[38;5;124m\"\u001b[39m\u001b[38;5;124m1s\u001b[39m\u001b[38;5;124m\"\u001b[39m,\n\u001b[1;32m      8\u001b[0m                 \u001b[38;5;124m\"\u001b[39m\u001b[38;5;124mmode\u001b[39m\u001b[38;5;124m\"\u001b[39m:\u001b[38;5;124m\"\u001b[39m\u001b[38;5;124m59\u001b[39m\u001b[38;5;124m\"\u001b[39m}\n\u001b[1;32m      9\u001b[0m \u001b[38;5;66;03m# Nome de arquivo manualmente definido\u001b[39;00m\n\u001b[0;32m---> 10\u001b[0m NOW \u001b[38;5;241m=\u001b[39m \u001b[43mdatetime\u001b[49m\u001b[38;5;241m.\u001b[39mnow()\u001b[38;5;241m.\u001b[39mstrftime(\u001b[38;5;124m\"\u001b[39m\u001b[38;5;124m%\u001b[39m\u001b[38;5;124mY\u001b[39m\u001b[38;5;124m%\u001b[39m\u001b[38;5;124mm\u001b[39m\u001b[38;5;132;01m%d\u001b[39;00m\u001b[38;5;124m_\u001b[39m\u001b[38;5;124m%\u001b[39m\u001b[38;5;124mH\u001b[39m\u001b[38;5;124m%\u001b[39m\u001b[38;5;124mM\u001b[39m\u001b[38;5;124m%\u001b[39m\u001b[38;5;124mS\u001b[39m\u001b[38;5;124m\"\u001b[39m)\n\u001b[1;32m     11\u001b[0m mode \u001b[38;5;241m=\u001b[39m \u001b[38;5;124m\"\u001b[39m\u001b[38;5;124m59\u001b[39m\u001b[38;5;124m\"\u001b[39m\n\u001b[1;32m     12\u001b[0m filename \u001b[38;5;241m=\u001b[39m SDR_01\u001b[38;5;241m.\u001b[39mcontroller\u001b[38;5;241m.\u001b[39mlocal_folder \u001b[38;5;241m+\u001b[39m SDR_01\u001b[38;5;241m.\u001b[39mname \u001b[38;5;241m+\u001b[39m \u001b[38;5;124m\"\u001b[39m\u001b[38;5;124m_\u001b[39m\u001b[38;5;124m\"\u001b[39m \u001b[38;5;241m+\u001b[39m NOW \u001b[38;5;241m+\u001b[39m \u001b[38;5;124m\"\u001b[39m\u001b[38;5;124m_\u001b[39m\u001b[38;5;124m\"\u001b[39m \u001b[38;5;241m+\u001b[39m mode \u001b[38;5;241m+\u001b[39m \u001b[38;5;124m\"\u001b[39m\u001b[38;5;124m.csv\u001b[39m\u001b[38;5;124m\"\u001b[39m\n",
      "\u001b[0;31mNameError\u001b[0m: name 'datetime' is not defined"
     ]
    }
   ],
   "source": [
    "#Fazendo observação com dispositivo local\n",
    "# Dicionário de parâmetros para observação\n",
    "observe_dict = {\"duration\":\"20s\", \n",
    "                \"band\":[\"800M\", \"1200M\"], \n",
    "                \"bandwidth\":\"1M\", \n",
    "                \"gain\":\"50\", \n",
    "                \"integration\":\"1s\",\n",
    "                \"mode\":\"59\"}\n",
    "# Nome de arquivo manualmente definido\n",
    "NOW = datetime.now().strftime(\"%Y%m%d_%H%M%S\")\n",
    "mode = \"59\"\n",
    "filename = SDR_01.controller.local_folder + SDR_01.name + \"_\" + NOW + \"_\" + mode + \".csv\"\n",
    "# Scan LOCAL com parâmetros manuais.\n",
    "SDR_01.scan(filename=filename, **observe_dict)\n",
    "# Scan LOCAL em modo detached.\n",
    "time.sleep(2)\n",
    "NOW = datetime.now().strftime(\"%Y%m%d_%H%M%S\")\n",
    "mode = \"59\"\n",
    "filename = SDR_01.controller.local_folder + SDR_01.name + \"_\" + NOW + \"_\" + mode + \".csv\"\n",
    "SDR_01.scan_mp(filename=filename, **observe_dict, monitor=True, interval=20)"
   ]
  },
  {
   "cell_type": "code",
   "execution_count": null,
   "id": "supported-asthma",
   "metadata": {},
   "outputs": [],
   "source": [
    "Conectando ao remoto\n",
    "SDR_01.connect()\n",
    "SDR_01.is_connected\n",
    "NOW = datetime.now().strftime(\"%Y%m%d_%H%M%S\")\n",
    "mode = \"59\"\n",
    "filename = SDR_01.controller.remote_folder + SDR_01.name + \"_\" + NOW + \"_\" + mode + \".csv\"\n",
    "# Scan remoto manual\n",
    "SDR_01.scan(filename=filename, **observe_dict, monitor=False)"
   ]
  },
  {
   "cell_type": "code",
   "execution_count": null,
   "id": "incident-tower",
   "metadata": {},
   "outputs": [],
   "source": [
    "# Manual\n",
    "SDR_01.disconnect().observe(**observe_dict)\n",
    "# Detached\n",
    "SDR_01.disconnect().observe_mp(**observe_dict)"
   ]
  },
  {
   "cell_type": "markdown",
   "id": "serious-position",
   "metadata": {},
   "source": [
    "#### Observação Remota"
   ]
  },
  {
   "cell_type": "markdown",
   "id": "collected-dispute",
   "metadata": {},
   "source": [
    "#### Leitura e Manipulação de Dados"
   ]
  },
  {
   "cell_type": "code",
   "execution_count": null,
   "id": "tough-married",
   "metadata": {},
   "outputs": [],
   "source": []
  },
  {
   "cell_type": "code",
   "execution_count": null,
   "id": "biological-mitchell",
   "metadata": {},
   "outputs": [],
   "source": []
  }
 ],
 "metadata": {
  "hide_input": false,
  "kernelspec": {
   "display_name": "gnuradio",
   "language": "python",
   "name": "gnuradio"
  },
  "language_info": {
   "codemirror_mode": {
    "name": "ipython",
    "version": 3
   },
   "file_extension": ".py",
   "mimetype": "text/x-python",
   "name": "python",
   "nbconvert_exporter": "python",
   "pygments_lexer": "ipython3",
   "version": "3.10.4"
  },
  "latex_envs": {
   "LaTeX_envs_menu_present": true,
   "autoclose": true,
   "autocomplete": false,
   "bibliofile": "biblio.bib",
   "cite_by": "apalike",
   "current_citInitial": 1,
   "eqLabelWithNumbers": true,
   "eqNumInitial": 1,
   "hotkeys": {
    "equation": "Ctrl-E",
    "itemize": "Ctrl-I"
   },
   "labels_anchors": false,
   "latex_user_defs": false,
   "report_style_numbering": true,
   "user_envs_cfg": false
  },
  "toc": {
   "base_numbering": 1,
   "nav_menu": {},
   "number_sections": false,
   "sideBar": true,
   "skip_h1_title": true,
   "title_cell": "Table of Contents",
   "title_sidebar": "Contents",
   "toc_cell": false,
   "toc_position": {},
   "toc_section_display": true,
   "toc_window_display": true
  }
 },
 "nbformat": 4,
 "nbformat_minor": 5
}
