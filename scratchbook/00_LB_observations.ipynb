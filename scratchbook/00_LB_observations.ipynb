{
 "cells": [
  {
   "cell_type": "code",
   "execution_count": 1,
   "id": "medium-adapter",
   "metadata": {
    "ExecuteTime": {
     "end_time": "2022-09-05T21:39:13.044861Z",
     "start_time": "2022-09-05T21:39:09.904958Z"
    }
   },
   "outputs": [],
   "source": [
    "from IPython.core.interactiveshell import InteractiveShell\n",
    "from IPython.display import display\n",
    "InteractiveShell.ast_node_interactivity = \"all\"\n",
    "#--------------------\n",
    "# Utils\n",
    "import project_path\n",
    "import sys\n",
    "import os\n",
    "from astropy import units as u\n",
    "import pandas as pd\n",
    "sys.path.append(os.path.abspath(os.path.join(os.path.split(os.getcwd())[0])))\n",
    "sys.path.append(os.path.abspath(os.path.join(os.path.split(os.getcwd())[0], \"radiotelescope\")))"
   ]
  },
  {
   "cell_type": "code",
   "execution_count": 2,
   "id": "separate-sending",
   "metadata": {
    "ExecuteTime": {
     "end_time": "2022-09-05T21:39:19.780612Z",
     "start_time": "2022-09-05T21:39:13.047006Z"
    }
   },
   "outputs": [],
   "source": [
    "import radiotelescope"
   ]
  },
  {
   "cell_type": "code",
   "execution_count": 3,
   "id": "adaptive-bradley",
   "metadata": {
    "ExecuteTime": {
     "end_time": "2022-09-05T21:39:19.849568Z",
     "start_time": "2022-09-05T21:39:19.783308Z"
    }
   },
   "outputs": [],
   "source": [
    "from radiotelescope.observatory.uirapuru import Uirapuru\n",
    "from radiotelescope.observatory.observatory import Observations as Observations"
   ]
  },
  {
   "cell_type": "code",
   "execution_count": 4,
   "id": "limited-parker",
   "metadata": {
    "ExecuteTime": {
     "end_time": "2022-09-05T21:39:19.986680Z",
     "start_time": "2022-09-05T21:39:19.851522Z"
    }
   },
   "outputs": [],
   "source": [
    "begin = Uirapuru.timezone.localize(pd.to_datetime(\"2021-09-01 00:10:00\"))\n",
    "end = Uirapuru.timezone.localize(pd.to_datetime(\"2021-09-01 17:25:00\"))\n",
    "duration = (end-begin).total_seconds()\n",
    "duration_obs = duration*u.s + 900*u.s\n",
    "\n",
    "trial_run = Observations(t_start = begin,\n",
    "                         duration = duration_obs, \n",
    "                         instrument = Uirapuru.set_observatory())"
   ]
  },
  {
   "cell_type": "code",
   "execution_count": 5,
   "id": "answering-albania",
   "metadata": {
    "ExecuteTime": {
     "end_time": "2022-09-05T21:39:20.188269Z",
     "start_time": "2022-09-05T21:39:19.988713Z"
    }
   },
   "outputs": [
    {
     "data": {
      "text/plain": [
       "<Time tt=[2459458.6327451854 ... 2459459.3584396294] len=210>"
      ]
     },
     "execution_count": 5,
     "metadata": {},
     "output_type": "execute_result"
    }
   ],
   "source": [
    "trial_run = trial_run.make_timevector(duration = None, delta = 5 * u.min)\n",
    "trial_run.timevector"
   ]
  },
  {
   "cell_type": "code",
   "execution_count": 6,
   "id": "distinct-winning",
   "metadata": {
    "ExecuteTime": {
     "end_time": "2022-09-05T21:39:20.514997Z",
     "start_time": "2022-09-05T21:39:20.190130Z"
    }
   },
   "outputs": [
    {
     "data": {
      "text/plain": [
       "<radiotelescope.observatory.observatory.Observations at 0x7f401686e5b0>"
      ]
     },
     "execution_count": 6,
     "metadata": {},
     "output_type": "execute_result"
    },
    {
     "data": {
      "text/html": [
       "<div>\n",
       "<style scoped>\n",
       "    .dataframe tbody tr th:only-of-type {\n",
       "        vertical-align: middle;\n",
       "    }\n",
       "\n",
       "    .dataframe tbody tr th {\n",
       "        vertical-align: top;\n",
       "    }\n",
       "\n",
       "    .dataframe thead th {\n",
       "        text-align: right;\n",
       "    }\n",
       "</style>\n",
       "<table border=\"1\" class=\"dataframe\">\n",
       "  <thead>\n",
       "    <tr style=\"text-align: right;\">\n",
       "      <th></th>\n",
       "      <th>TIME</th>\n",
       "      <th>RA</th>\n",
       "      <th>DEC</th>\n",
       "    </tr>\n",
       "  </thead>\n",
       "  <tbody>\n",
       "    <tr>\n",
       "      <th>0</th>\n",
       "      <td>2.459459e+06</td>\n",
       "      <td>6.140433</td>\n",
       "      <td>-0.023223</td>\n",
       "    </tr>\n",
       "    <tr>\n",
       "      <th>1</th>\n",
       "      <td>2.459459e+06</td>\n",
       "      <td>6.162310</td>\n",
       "      <td>-0.023230</td>\n",
       "    </tr>\n",
       "    <tr>\n",
       "      <th>2</th>\n",
       "      <td>2.459459e+06</td>\n",
       "      <td>6.184188</td>\n",
       "      <td>-0.023236</td>\n",
       "    </tr>\n",
       "    <tr>\n",
       "      <th>3</th>\n",
       "      <td>2.459459e+06</td>\n",
       "      <td>6.206065</td>\n",
       "      <td>-0.023241</td>\n",
       "    </tr>\n",
       "    <tr>\n",
       "      <th>4</th>\n",
       "      <td>2.459459e+06</td>\n",
       "      <td>6.227942</td>\n",
       "      <td>-0.023245</td>\n",
       "    </tr>\n",
       "    <tr>\n",
       "      <th>5</th>\n",
       "      <td>2.459459e+06</td>\n",
       "      <td>6.249820</td>\n",
       "      <td>-0.023248</td>\n",
       "    </tr>\n",
       "    <tr>\n",
       "      <th>6</th>\n",
       "      <td>2.459459e+06</td>\n",
       "      <td>6.271697</td>\n",
       "      <td>-0.023250</td>\n",
       "    </tr>\n",
       "    <tr>\n",
       "      <th>7</th>\n",
       "      <td>2.459459e+06</td>\n",
       "      <td>0.010389</td>\n",
       "      <td>-0.023251</td>\n",
       "    </tr>\n",
       "    <tr>\n",
       "      <th>8</th>\n",
       "      <td>2.459459e+06</td>\n",
       "      <td>0.032266</td>\n",
       "      <td>-0.023251</td>\n",
       "    </tr>\n",
       "    <tr>\n",
       "      <th>9</th>\n",
       "      <td>2.459459e+06</td>\n",
       "      <td>0.054144</td>\n",
       "      <td>-0.023250</td>\n",
       "    </tr>\n",
       "  </tbody>\n",
       "</table>\n",
       "</div>"
      ],
      "text/plain": [
       "           TIME        RA       DEC\n",
       "0  2.459459e+06  6.140433 -0.023223\n",
       "1  2.459459e+06  6.162310 -0.023230\n",
       "2  2.459459e+06  6.184188 -0.023236\n",
       "3  2.459459e+06  6.206065 -0.023241\n",
       "4  2.459459e+06  6.227942 -0.023245\n",
       "5  2.459459e+06  6.249820 -0.023248\n",
       "6  2.459459e+06  6.271697 -0.023250\n",
       "7  2.459459e+06  0.010389 -0.023251\n",
       "8  2.459459e+06  0.032266 -0.023251\n",
       "9  2.459459e+06  0.054144 -0.023250"
      ]
     },
     "execution_count": 6,
     "metadata": {},
     "output_type": "execute_result"
    }
   ],
   "source": [
    "trial_run.make_pointings(timevector=None)\n",
    "trial_run.pointings[0:10]"
   ]
  },
  {
   "cell_type": "code",
   "execution_count": 7,
   "id": "polished-record",
   "metadata": {
    "ExecuteTime": {
     "end_time": "2022-09-05T21:39:20.522129Z",
     "start_time": "2022-09-05T21:39:20.516687Z"
    }
   },
   "outputs": [
    {
     "data": {
      "text/plain": [
       "<GeographicPosition WGS84 latitude -7.2116 N longitude -35.9081 E elevation 553.0 m>"
      ]
     },
     "execution_count": 7,
     "metadata": {},
     "output_type": "execute_result"
    }
   ],
   "source": [
    "trial_run.instrument.observatory"
   ]
  },
  {
   "cell_type": "code",
   "execution_count": null,
   "id": "normal-latino",
   "metadata": {},
   "outputs": [],
   "source": []
  }
 ],
 "metadata": {
  "hide_input": false,
  "kernelspec": {
   "display_name": "radiotelescope",
   "language": "python",
   "name": "radiotelescope"
  },
  "language_info": {
   "codemirror_mode": {
    "name": "ipython",
    "version": 3
   },
   "file_extension": ".py",
   "mimetype": "text/x-python",
   "name": "python",
   "nbconvert_exporter": "python",
   "pygments_lexer": "ipython3",
   "version": "3.9.12"
  },
  "latex_envs": {
   "LaTeX_envs_menu_present": true,
   "autoclose": true,
   "autocomplete": false,
   "bibliofile": "biblio.bib",
   "cite_by": "apalike",
   "current_citInitial": 1,
   "eqLabelWithNumbers": true,
   "eqNumInitial": 1,
   "hotkeys": {
    "equation": "Ctrl-E",
    "itemize": "Ctrl-I"
   },
   "labels_anchors": false,
   "latex_user_defs": false,
   "report_style_numbering": true,
   "user_envs_cfg": false
  },
  "toc": {
   "base_numbering": 1,
   "nav_menu": {},
   "number_sections": false,
   "sideBar": true,
   "skip_h1_title": true,
   "title_cell": "Table of Contents",
   "title_sidebar": "Contents",
   "toc_cell": false,
   "toc_position": {},
   "toc_section_display": true,
   "toc_window_display": false
  }
 },
 "nbformat": 4,
 "nbformat_minor": 5
}
